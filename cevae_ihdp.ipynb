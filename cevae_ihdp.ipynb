{
  "nbformat": 4,
  "nbformat_minor": 0,
  "metadata": {
    "colab": {
      "name": "cevae_ihdp2.ipynb",
      "version": "0.3.2",
      "provenance": [],
      "collapsed_sections": [],
      "include_colab_link": true
    },
    "kernelspec": {
      "name": "python2",
      "display_name": "Python 2"
    }
  },
  "cells": [
    {
      "cell_type": "markdown",
      "metadata": {
        "id": "view-in-github",
        "colab_type": "text"
      },
      "source": [
        "<a href=\"https://colab.research.google.com/github/riow1983/CEVAE-custom/blob/master/cevae_ihdp.ipynb\" target=\"_parent\"><img src=\"https://colab.research.google.com/assets/colab-badge.svg\" alt=\"Open In Colab\"/></a>"
      ]
    },
    {
      "metadata": {
        "id": "ZKTf8ZJxPMor",
        "colab_type": "code",
        "outputId": "6cd862e9-1410-42b4-959a-19a9ace93a27",
        "colab": {
          "base_uri": "https://localhost:8080/",
          "height": 128
        }
      },
      "cell_type": "code",
      "source": [
        "from google.colab import drive\n",
        "drive.mount('/content/gdrive')"
      ],
      "execution_count": 1,
      "outputs": [
        {
          "output_type": "stream",
          "text": [
            "Go to this URL in a browser: https://accounts.google.com/o/oauth2/auth?client_id=947318989803-6bn6qk8qdgf4n4g3pfee6491hc0brc4i.apps.googleusercontent.com&redirect_uri=urn%3Aietf%3Awg%3Aoauth%3A2.0%3Aoob&scope=email%20https%3A%2F%2Fwww.googleapis.com%2Fauth%2Fdocs.test%20https%3A%2F%2Fwww.googleapis.com%2Fauth%2Fdrive%20https%3A%2F%2Fwww.googleapis.com%2Fauth%2Fdrive.photos.readonly%20https%3A%2F%2Fwww.googleapis.com%2Fauth%2Fpeopleapi.readonly&response_type=code\n",
            "\n",
            "Enter your authorization code:\n",
            "··········\n",
            "Mounted at /content/gdrive\n"
          ],
          "name": "stdout"
        }
      ]
    },
    {
      "metadata": {
        "id": "AIX2xw5UPRd-",
        "colab_type": "code",
        "outputId": "5a78e703-2aa7-4210-fcbb-956c9c36cd2e",
        "colab": {
          "base_uri": "https://localhost:8080/",
          "height": 35
        }
      },
      "cell_type": "code",
      "source": [
        "%cd ./gdrive/'My Drive'/'Colab Notebooks'/CEVAE"
      ],
      "execution_count": 2,
      "outputs": [
        {
          "output_type": "stream",
          "text": [
            "/content/gdrive/My Drive/Colab Notebooks/CEVAE\n"
          ],
          "name": "stdout"
        }
      ]
    },
    {
      "metadata": {
        "id": "qD8_XoGJvlOd",
        "colab_type": "code",
        "outputId": "0ce643e8-3cf3-45ef-a42f-2614b5fee3af",
        "colab": {
          "base_uri": "https://localhost:8080/",
          "height": 72
        }
      },
      "cell_type": "code",
      "source": [
        "!ls"
      ],
      "execution_count": 3,
      "outputs": [
        {
          "output_type": "stream",
          "text": [
            "cevae_ihdp.ipynb  datasets.py\t evaluation.pyc  README.md\t   utils.pyc\n",
            "cevae_ihdp.py\t  datasets.pyc\t models\t\t requirements.txt\n",
            "datasets\t  evaluation.py  __pycache__\t utils.py\n"
          ],
          "name": "stdout"
        }
      ]
    },
    {
      "metadata": {
        "id": "_KIfU7cwhDB7",
        "colab_type": "code",
        "colab": {}
      },
      "cell_type": "code",
      "source": [
        "#!/usr/bin/env python\n",
        "\"\"\"CEVAE model on IHDP\n",
        "\"\"\"\n",
        "from __future__ import absolute_import\n",
        "from __future__ import division"
      ],
      "execution_count": 0,
      "outputs": []
    },
    {
      "metadata": {
        "id": "4y5kNLflhLsk",
        "colab_type": "code",
        "outputId": "c8889eb1-e75b-4205-bfa9-ba63fe4cadde",
        "colab": {
          "base_uri": "https://localhost:8080/",
          "height": 145
        }
      },
      "cell_type": "code",
      "source": [
        "!pip install edward==1.3.1"
      ],
      "execution_count": 5,
      "outputs": [
        {
          "output_type": "stream",
          "text": [
            "Collecting edward==1.3.1\n",
            "\u001b[?25l  Downloading https://files.pythonhosted.org/packages/36/13/eb107ccde57f661faaa775b47637bf39d17ad11788dd07a22eb7ae6033b2/edward-1.3.1-py2-none-any.whl (76kB)\n",
            "\u001b[K    100% |████████████████████████████████| 81kB 3.1MB/s \n",
            "\u001b[?25hRequirement already satisfied: numpy>=1.7 in /usr/local/lib/python2.7/dist-packages (from edward==1.3.1) (1.14.6)\n",
            "Requirement already satisfied: six>=1.10.0 in /usr/local/lib/python2.7/dist-packages (from edward==1.3.1) (1.11.0)\n",
            "Installing collected packages: edward\n",
            "Successfully installed edward-1.3.1\n"
          ],
          "name": "stdout"
        }
      ]
    },
    {
      "metadata": {
        "id": "cbWmKPBihl1S",
        "colab_type": "code",
        "outputId": "e4729410-89fd-4318-953a-9cf9763d4fa7",
        "colab": {
          "base_uri": "https://localhost:8080/",
          "height": 365
        }
      },
      "cell_type": "code",
      "source": [
        "!pip install tensorflow==1.1.0"
      ],
      "execution_count": 6,
      "outputs": [
        {
          "output_type": "stream",
          "text": [
            "Collecting tensorflow==1.1.0\n",
            "\u001b[?25l  Downloading https://files.pythonhosted.org/packages/8a/73/74c610decd5e0a1fd7f441a32e3561d21c28ced98fd6d3d9d5c70dbf92ce/tensorflow-1.1.0-cp27-cp27mu-manylinux1_x86_64.whl (31.0MB)\n",
            "\u001b[K    100% |████████████████████████████████| 31.0MB 743kB/s \n",
            "\u001b[?25hRequirement already satisfied: numpy>=1.11.0 in /usr/local/lib/python2.7/dist-packages (from tensorflow==1.1.0) (1.14.6)\n",
            "Requirement already satisfied: mock>=2.0.0 in /usr/local/lib/python2.7/dist-packages (from tensorflow==1.1.0) (2.0.0)\n",
            "Requirement already satisfied: protobuf>=3.2.0 in /usr/local/lib/python2.7/dist-packages (from tensorflow==1.1.0) (3.7.1)\n",
            "Requirement already satisfied: wheel in /usr/local/lib/python2.7/dist-packages (from tensorflow==1.1.0) (0.33.1)\n",
            "Requirement already satisfied: six>=1.10.0 in /usr/local/lib/python2.7/dist-packages (from tensorflow==1.1.0) (1.11.0)\n",
            "Requirement already satisfied: werkzeug>=0.11.10 in /usr/local/lib/python2.7/dist-packages (from tensorflow==1.1.0) (0.15.2)\n",
            "Requirement already satisfied: funcsigs>=1; python_version < \"3.3\" in /usr/local/lib/python2.7/dist-packages (from mock>=2.0.0->tensorflow==1.1.0) (1.0.2)\n",
            "Requirement already satisfied: pbr>=0.11 in /usr/local/lib/python2.7/dist-packages (from mock>=2.0.0->tensorflow==1.1.0) (5.1.3)\n",
            "Requirement already satisfied: setuptools in /usr/local/lib/python2.7/dist-packages (from protobuf>=3.2.0->tensorflow==1.1.0) (40.9.0)\n",
            "\u001b[31mmagenta 0.3.19 has requirement tensorflow>=1.12.0, but you'll have tensorflow 1.1.0 which is incompatible.\u001b[0m\n",
            "Installing collected packages: tensorflow\n",
            "  Found existing installation: tensorflow 1.13.1\n",
            "    Uninstalling tensorflow-1.13.1:\n",
            "      Successfully uninstalled tensorflow-1.13.1\n",
            "Successfully installed tensorflow-1.1.0\n"
          ],
          "name": "stdout"
        }
      ]
    },
    {
      "metadata": {
        "id": "UQxD5XZZhmLt",
        "colab_type": "code",
        "outputId": "a2dfa6d6-46af-411d-ad02-db2d0b4a848e",
        "colab": {
          "base_uri": "https://localhost:8080/",
          "height": 163
        }
      },
      "cell_type": "code",
      "source": [
        "!pip install progressbar==2.3"
      ],
      "execution_count": 7,
      "outputs": [
        {
          "output_type": "stream",
          "text": [
            "Collecting progressbar==2.3\n",
            "  Downloading https://files.pythonhosted.org/packages/0f/e1/f30b72ecabba259c7c38dd0eb944a173effced3fd7de2c9c2902bd6f649a/progressbar-2.3.tar.gz\n",
            "Building wheels for collected packages: progressbar\n",
            "  Building wheel for progressbar (setup.py) ... \u001b[?25ldone\n",
            "\u001b[?25h  Stored in directory: /root/.cache/pip/wheels/43/b8/84/79e132723562a37268a1bb977761123234aff37d54f2526edd\n",
            "Successfully built progressbar\n",
            "Installing collected packages: progressbar\n",
            "Successfully installed progressbar-2.3\n"
          ],
          "name": "stdout"
        }
      ]
    },
    {
      "metadata": {
        "id": "TJw_KRN9hmSa",
        "colab_type": "code",
        "outputId": "f5aef90d-050b-41aa-d47b-a90fda674807",
        "colab": {
          "base_uri": "https://localhost:8080/",
          "height": 237
        }
      },
      "cell_type": "code",
      "source": [
        "!pip install scikit-learn==0.18.1"
      ],
      "execution_count": 8,
      "outputs": [
        {
          "output_type": "stream",
          "text": [
            "Collecting scikit-learn==0.18.1\n",
            "\u001b[?25l  Downloading https://files.pythonhosted.org/packages/ca/0f/bfadd2f0ef390c6d6d88624823dfa63479b4e68820de94a960d1a14c585d/scikit_learn-0.18.1-cp27-cp27mu-manylinux1_x86_64.whl (11.6MB)\n",
            "\u001b[K    100% |████████████████████████████████| 11.7MB 2.0MB/s \n",
            "\u001b[31mfancyimpute 0.4.2 has requirement scikit-learn>=0.19.1, but you'll have scikit-learn 0.18.1 which is incompatible.\u001b[0m\n",
            "\u001b[31mimbalanced-learn 0.4.3 has requirement scikit-learn>=0.20, but you'll have scikit-learn 0.18.1 which is incompatible.\u001b[0m\n",
            "\u001b[31myellowbrick 0.9.1 has requirement scikit-learn>=0.20, but you'll have scikit-learn 0.18.1 which is incompatible.\u001b[0m\n",
            "\u001b[?25hInstalling collected packages: scikit-learn\n",
            "  Found existing installation: scikit-learn 0.20.3\n",
            "    Uninstalling scikit-learn-0.20.3:\n",
            "      Successfully uninstalled scikit-learn-0.20.3\n",
            "Successfully installed scikit-learn-0.18.1\n"
          ],
          "name": "stdout"
        }
      ]
    },
    {
      "metadata": {
        "id": "BBP513rehDKi",
        "colab_type": "code",
        "colab": {}
      },
      "cell_type": "code",
      "source": [
        "import edward as ed\n",
        "#from tensorflow_probability import edward2 as ed\n",
        "import tensorflow as tf"
      ],
      "execution_count": 0,
      "outputs": []
    },
    {
      "metadata": {
        "id": "8sN2sUXqhDOa",
        "colab_type": "code",
        "colab": {}
      },
      "cell_type": "code",
      "source": [
        "from edward.models import Bernoulli, Normal\n",
        "from progressbar import ETA, Bar, Percentage, ProgressBar"
      ],
      "execution_count": 0,
      "outputs": []
    },
    {
      "metadata": {
        "id": "M6W6geOOhDRC",
        "colab_type": "code",
        "colab": {}
      },
      "cell_type": "code",
      "source": [
        "from datasets import IHDP\n",
        "from evaluation import Evaluator\n",
        "import numpy as np\n",
        "import time\n",
        "from scipy.stats import sem"
      ],
      "execution_count": 0,
      "outputs": []
    },
    {
      "metadata": {
        "id": "5MMrDDe2hDT6",
        "colab_type": "code",
        "colab": {}
      },
      "cell_type": "code",
      "source": [
        "from utils import fc_net, get_y0_y1\n",
        "#from argparse import ArgumentParser"
      ],
      "execution_count": 0,
      "outputs": []
    },
    {
      "metadata": {
        "id": "Drh9wTqNPwHy",
        "colab_type": "code",
        "colab": {}
      },
      "cell_type": "code",
      "source": [
        "import easydict"
      ],
      "execution_count": 0,
      "outputs": []
    },
    {
      "metadata": {
        "id": "BQLFbiq2B2im",
        "colab_type": "code",
        "colab": {}
      },
      "cell_type": "code",
      "source": [
        "import pandas as pd"
      ],
      "execution_count": 0,
      "outputs": []
    },
    {
      "metadata": {
        "id": "_RsvXIOrR5vv",
        "colab_type": "code",
        "colab": {
          "base_uri": "https://localhost:8080/",
          "height": 74
        },
        "outputId": "6caa8040-8778-41b0-a94a-14a86348fc15"
      },
      "cell_type": "code",
      "source": [
        "import statsmodels.api as sm"
      ],
      "execution_count": 78,
      "outputs": [
        {
          "output_type": "stream",
          "text": [
            "/usr/local/lib/python2.7/dist-packages/statsmodels/compat/pandas.py:56: FutureWarning: The pandas.core.datetools module is deprecated and will be removed in a future version. Please use the pandas.tseries module instead.\n",
            "  from pandas.core import datetools\n"
          ],
          "name": "stderr"
        }
      ]
    },
    {
      "metadata": {
        "id": "PPRsumfsP7Qa",
        "colab_type": "code",
        "colab": {}
      },
      "cell_type": "code",
      "source": [
        "#args = parser.parse_args(argv[1:])\n",
        "\n",
        "args = easydict.EasyDict({\n",
        "    'reps': 10,\n",
        "    'earl': 10,\n",
        "    'lr': 0.001,\n",
        "    'opt': 'adamax',\n",
        "    'epochs': 100,\n",
        "    'print_every': 10\n",
        "})"
      ],
      "execution_count": 0,
      "outputs": []
    },
    {
      "metadata": {
        "id": "ZaFdCF7FP9kp",
        "colab_type": "code",
        "outputId": "65035602-a7d7-4ac0-f4bc-aa5a994bac79",
        "colab": {
          "base_uri": "https://localhost:8080/",
          "height": 35
        }
      },
      "cell_type": "code",
      "source": [
        "args.opt"
      ],
      "execution_count": 15,
      "outputs": [
        {
          "output_type": "execute_result",
          "data": {
            "text/plain": [
              "'adamax'"
            ]
          },
          "metadata": {
            "tags": []
          },
          "execution_count": 15
        }
      ]
    },
    {
      "metadata": {
        "id": "8j6aYArgQALA",
        "colab_type": "code",
        "colab": {}
      },
      "cell_type": "code",
      "source": [
        "dataset = IHDP(replications=args.reps)\n",
        "dimx = 25\n",
        "scores = np.zeros((args.reps, 3))\n",
        "scores_test = np.zeros((args.reps, 3))"
      ],
      "execution_count": 0,
      "outputs": []
    },
    {
      "metadata": {
        "id": "hIRAuiloQCzA",
        "colab_type": "code",
        "colab": {}
      },
      "cell_type": "code",
      "source": [
        "M = None  # batch size during training\n",
        "d = 20  # latent dimension\n",
        "lamba = 1e-4  # weight decay\n",
        "nh, h = 3, 200  # number and size of hidden layers"
      ],
      "execution_count": 0,
      "outputs": []
    },
    {
      "metadata": {
        "id": "UpCfSXwm2E_P",
        "colab_type": "code",
        "colab": {}
      },
      "cell_type": "code",
      "source": [
        "#(xtr, ttr, ytr), (y_cftr, mu0tr, mu1tr), (xva, tva, yva), (y_cfva, mu0va, mu1va), (xte, tte, yte), (y_cfte, mu0te, mu1te), contfeats, binfeats = dataset.get_train_valid_test()"
      ],
      "execution_count": 0,
      "outputs": []
    },
    {
      "metadata": {
        "id": "iLPbxA1IuZkP",
        "colab_type": "code",
        "colab": {
          "base_uri": "https://localhost:8080/",
          "height": 381
        },
        "outputId": "48644262-ceb4-46b3-c3ce-1a626483d23e"
      },
      "cell_type": "code",
      "source": [
        "for i, (train, valid, test, contfeats, binfeats) in enumerate(dataset.get_train_valid_test()):\n",
        "    print '\\nReplication {}/{}'.format(i + 1, args.reps)\n",
        "    (xtr, ttr, ytr), (y_cftr, mu0tr, mu1tr) = train\n",
        "    (xva, tva, yva), (y_cfva, mu0va, mu1va) = valid\n",
        "    (xte, tte, yte), (y_cfte, mu0te, mu1te) = test\n",
        "    evaluator_test = Evaluator(yte, tte, y_cf=y_cfte, mu0=mu0te, mu1=mu1te)\n",
        "\n",
        "    # reorder features with binary first and continuous after\n",
        "    perm = binfeats + contfeats\n",
        "    xtr, xva, xte = xtr[:, perm], xva[:, perm], xte[:, perm]\n",
        "\n",
        "    xalltr, talltr, yalltr = np.concatenate([xtr, xva], axis=0), np.concatenate([ttr, tva], axis=0), np.concatenate([ytr, yva], axis=0)\n",
        "    evaluator_train = Evaluator(yalltr, talltr, y_cf=np.concatenate([y_cftr, y_cfva], axis=0),\n",
        "                                mu0=np.concatenate([mu0tr, mu0va], axis=0), mu1=np.concatenate([mu1tr, mu1va], axis=0))\n",
        "\n",
        "    # zero mean, unit variance for y during training\n",
        "    ym, ys = np.mean(ytr), np.std(ytr)\n",
        "    ytr, yva = (ytr - ym) / ys, (yva - ym) / ys\n",
        "    best_logpvalid = - np.inf"
      ],
      "execution_count": 19,
      "outputs": [
        {
          "output_type": "stream",
          "text": [
            "\n",
            "Replication 1/10\n",
            "\n",
            "Replication 2/10\n",
            "\n",
            "Replication 3/10\n",
            "\n",
            "Replication 4/10\n",
            "\n",
            "Replication 5/10\n",
            "\n",
            "Replication 6/10\n",
            "\n",
            "Replication 7/10\n",
            "\n",
            "Replication 8/10\n",
            "\n",
            "Replication 9/10\n",
            "\n",
            "Replication 10/10\n"
          ],
          "name": "stdout"
        }
      ]
    },
    {
      "metadata": {
        "id": "FrmJ9zZHvaI2",
        "colab_type": "code",
        "colab": {
          "base_uri": "https://localhost:8080/",
          "height": 35
        },
        "outputId": "8adc5e34-1f67-4867-d9a8-1477223cf60d"
      },
      "cell_type": "code",
      "source": [
        "xalltr.shape"
      ],
      "execution_count": 29,
      "outputs": [
        {
          "output_type": "execute_result",
          "data": {
            "text/plain": [
              "(672, 25)"
            ]
          },
          "metadata": {
            "tags": []
          },
          "execution_count": 29
        }
      ]
    },
    {
      "metadata": {
        "id": "fC-gy73Yvhr0",
        "colab_type": "code",
        "colab": {
          "base_uri": "https://localhost:8080/",
          "height": 199
        },
        "outputId": "4e908a78-5faa-4d43-a280-45a9f64f9f91"
      },
      "cell_type": "code",
      "source": [
        "talltr[:10]"
      ],
      "execution_count": 28,
      "outputs": [
        {
          "output_type": "execute_result",
          "data": {
            "text/plain": [
              "array([[0.],\n",
              "       [0.],\n",
              "       [0.],\n",
              "       [0.],\n",
              "       [1.],\n",
              "       [0.],\n",
              "       [0.],\n",
              "       [0.],\n",
              "       [0.],\n",
              "       [0.]])"
            ]
          },
          "metadata": {
            "tags": []
          },
          "execution_count": 28
        }
      ]
    },
    {
      "metadata": {
        "id": "us2A5JkWATeb",
        "colab_type": "code",
        "colab": {}
      },
      "cell_type": "code",
      "source": [
        "y_cf=np.concatenate([y_cftr, y_cfva], axis=0)"
      ],
      "execution_count": 0,
      "outputs": []
    },
    {
      "metadata": {
        "id": "DG1uiIS0vkvd",
        "colab_type": "code",
        "colab": {
          "base_uri": "https://localhost:8080/",
          "height": 199
        },
        "outputId": "05384e6e-ac25-48e0-f6f2-6ac90ca2fe17"
      },
      "cell_type": "code",
      "source": [
        "y_cf[:10]"
      ],
      "execution_count": 42,
      "outputs": [
        {
          "output_type": "execute_result",
          "data": {
            "text/plain": [
              "array([[26.86357901],\n",
              "       [25.06307001],\n",
              "       [23.4865657 ],\n",
              "       [25.6748725 ],\n",
              "       [27.00682732],\n",
              "       [25.34997824],\n",
              "       [25.01587995],\n",
              "       [25.1380663 ],\n",
              "       [23.71245487],\n",
              "       [23.4235288 ]])"
            ]
          },
          "metadata": {
            "tags": []
          },
          "execution_count": 42
        }
      ]
    },
    {
      "metadata": {
        "id": "9ZFGIyF5AIOe",
        "colab_type": "code",
        "colab": {
          "base_uri": "https://localhost:8080/",
          "height": 199
        },
        "outputId": "28c2f27e-9470-4d65-acec-3dfc5e3c8e38"
      },
      "cell_type": "code",
      "source": [
        "yalltr[:10]"
      ],
      "execution_count": 43,
      "outputs": [
        {
          "output_type": "execute_result",
          "data": {
            "text/plain": [
              "array([[29.37013687],\n",
              "       [13.36743638],\n",
              "       [22.64340662],\n",
              "       [20.19152858],\n",
              "       [25.89977015],\n",
              "       [14.19298283],\n",
              "       [25.05196049],\n",
              "       [16.98447502],\n",
              "       [15.51549129],\n",
              "       [14.74718377]])"
            ]
          },
          "metadata": {
            "tags": []
          },
          "execution_count": 43
        }
      ]
    },
    {
      "metadata": {
        "id": "xLoD4jpHBdXW",
        "colab_type": "code",
        "colab": {}
      },
      "cell_type": "code",
      "source": [
        "mu0 = np.concatenate([mu0tr, mu0va], axis=0)\n",
        "mu1 = np.concatenate([mu1tr, mu1va], axis=0)"
      ],
      "execution_count": 0,
      "outputs": []
    },
    {
      "metadata": {
        "id": "gfn4yORYBdct",
        "colab_type": "code",
        "colab": {
          "base_uri": "https://localhost:8080/",
          "height": 199
        },
        "outputId": "a8b0d3c5-4807-4469-cc44-eecc9f85a9ac"
      },
      "cell_type": "code",
      "source": [
        "mu0[:10]"
      ],
      "execution_count": 45,
      "outputs": [
        {
          "output_type": "execute_result",
          "data": {
            "text/plain": [
              "array([[27.59152676],\n",
              "       [15.14380134],\n",
              "       [24.35195024],\n",
              "       [18.84530639],\n",
              "       [26.74607522],\n",
              "       [13.61653043],\n",
              "       [24.20084965],\n",
              "       [16.12032622],\n",
              "       [16.63264115],\n",
              "       [14.13815853]])"
            ]
          },
          "metadata": {
            "tags": []
          },
          "execution_count": 45
        }
      ]
    },
    {
      "metadata": {
        "id": "4EX_mp1WBdp-",
        "colab_type": "code",
        "colab": {
          "base_uri": "https://localhost:8080/",
          "height": 199
        },
        "outputId": "43f9e811-64a4-4500-949d-fb780a9503db"
      },
      "cell_type": "code",
      "source": [
        "mu1[:10]"
      ],
      "execution_count": 46,
      "outputs": [
        {
          "output_type": "execute_result",
          "data": {
            "text/plain": [
              "array([[25.09348853],\n",
              "       [24.4935711 ],\n",
              "       [24.96859175],\n",
              "       [24.71224369],\n",
              "       [25.06236755],\n",
              "       [24.38726433],\n",
              "       [24.96236755],\n",
              "       [24.55606078],\n",
              "       [24.58734691],\n",
              "       [24.42485723]])"
            ]
          },
          "metadata": {
            "tags": []
          },
          "execution_count": 46
        }
      ]
    },
    {
      "metadata": {
        "id": "kDzghSgaBj-4",
        "colab_type": "code",
        "colab": {}
      },
      "cell_type": "code",
      "source": [
        "# treatment, y_factual, y_cfactual, mu0, mu1, x1, …, x25\n",
        "#pd.DataFrame(mu1, columns=[\"mu1\"])\n",
        "cols = [\"treatment\", \"y_factual\", \"y_cfactual\", \"mu0\", \"mu1\"] + [\"x\"+str(i) for i in perm]"
      ],
      "execution_count": 0,
      "outputs": []
    },
    {
      "metadata": {
        "id": "WyC8zqWOBkB9",
        "colab_type": "code",
        "colab": {
          "base_uri": "https://localhost:8080/",
          "height": 247
        },
        "outputId": "acecabc0-17bc-4427-fdf9-82499e48572d"
      },
      "cell_type": "code",
      "source": [
        "df = pd.DataFrame(np.concatenate([talltr, yalltr, y_cf, mu0, mu1, xalltr], axis=1), columns=cols)\n",
        "df.head()"
      ],
      "execution_count": 70,
      "outputs": [
        {
          "output_type": "execute_result",
          "data": {
            "text/html": [
              "<div>\n",
              "<style scoped>\n",
              "    .dataframe tbody tr th:only-of-type {\n",
              "        vertical-align: middle;\n",
              "    }\n",
              "\n",
              "    .dataframe tbody tr th {\n",
              "        vertical-align: top;\n",
              "    }\n",
              "\n",
              "    .dataframe thead th {\n",
              "        text-align: right;\n",
              "    }\n",
              "</style>\n",
              "<table border=\"1\" class=\"dataframe\">\n",
              "  <thead>\n",
              "    <tr style=\"text-align: right;\">\n",
              "      <th></th>\n",
              "      <th>treatment</th>\n",
              "      <th>y_factual</th>\n",
              "      <th>y_cfactual</th>\n",
              "      <th>mu0</th>\n",
              "      <th>mu1</th>\n",
              "      <th>x6</th>\n",
              "      <th>x7</th>\n",
              "      <th>x8</th>\n",
              "      <th>x9</th>\n",
              "      <th>x10</th>\n",
              "      <th>...</th>\n",
              "      <th>x21</th>\n",
              "      <th>x22</th>\n",
              "      <th>x23</th>\n",
              "      <th>x24</th>\n",
              "      <th>x0</th>\n",
              "      <th>x1</th>\n",
              "      <th>x2</th>\n",
              "      <th>x3</th>\n",
              "      <th>x4</th>\n",
              "      <th>x5</th>\n",
              "    </tr>\n",
              "  </thead>\n",
              "  <tbody>\n",
              "    <tr>\n",
              "      <th>0</th>\n",
              "      <td>0.0</td>\n",
              "      <td>29.370137</td>\n",
              "      <td>26.863579</td>\n",
              "      <td>27.591527</td>\n",
              "      <td>25.093489</td>\n",
              "      <td>0.0</td>\n",
              "      <td>0.0</td>\n",
              "      <td>1.0</td>\n",
              "      <td>0.0</td>\n",
              "      <td>0.0</td>\n",
              "      <td>...</td>\n",
              "      <td>0.0</td>\n",
              "      <td>1.0</td>\n",
              "      <td>0.0</td>\n",
              "      <td>0.0</td>\n",
              "      <td>-1.369471</td>\n",
              "      <td>-1.802002</td>\n",
              "      <td>0.756191</td>\n",
              "      <td>0.161703</td>\n",
              "      <td>-0.441638</td>\n",
              "      <td>0.301522</td>\n",
              "    </tr>\n",
              "    <tr>\n",
              "      <th>1</th>\n",
              "      <td>0.0</td>\n",
              "      <td>13.367436</td>\n",
              "      <td>25.063070</td>\n",
              "      <td>15.143801</td>\n",
              "      <td>24.493571</td>\n",
              "      <td>1.0</td>\n",
              "      <td>0.0</td>\n",
              "      <td>0.0</td>\n",
              "      <td>1.0</td>\n",
              "      <td>0.0</td>\n",
              "      <td>...</td>\n",
              "      <td>0.0</td>\n",
              "      <td>0.0</td>\n",
              "      <td>1.0</td>\n",
              "      <td>0.0</td>\n",
              "      <td>-0.396744</td>\n",
              "      <td>-1.402238</td>\n",
              "      <td>-0.360898</td>\n",
              "      <td>0.161703</td>\n",
              "      <td>0.558638</td>\n",
              "      <td>-0.857787</td>\n",
              "    </tr>\n",
              "    <tr>\n",
              "      <th>2</th>\n",
              "      <td>0.0</td>\n",
              "      <td>22.643407</td>\n",
              "      <td>23.486566</td>\n",
              "      <td>24.351950</td>\n",
              "      <td>24.968592</td>\n",
              "      <td>0.0</td>\n",
              "      <td>0.0</td>\n",
              "      <td>0.0</td>\n",
              "      <td>0.0</td>\n",
              "      <td>1.0</td>\n",
              "      <td>...</td>\n",
              "      <td>0.0</td>\n",
              "      <td>0.0</td>\n",
              "      <td>0.0</td>\n",
              "      <td>0.0</td>\n",
              "      <td>1.159618</td>\n",
              "      <td>-0.202946</td>\n",
              "      <td>-0.733261</td>\n",
              "      <td>-0.879606</td>\n",
              "      <td>0.808706</td>\n",
              "      <td>-0.360940</td>\n",
              "    </tr>\n",
              "    <tr>\n",
              "      <th>3</th>\n",
              "      <td>0.0</td>\n",
              "      <td>20.191529</td>\n",
              "      <td>25.674872</td>\n",
              "      <td>18.845306</td>\n",
              "      <td>24.712244</td>\n",
              "      <td>0.0</td>\n",
              "      <td>0.0</td>\n",
              "      <td>1.0</td>\n",
              "      <td>0.0</td>\n",
              "      <td>0.0</td>\n",
              "      <td>...</td>\n",
              "      <td>1.0</td>\n",
              "      <td>0.0</td>\n",
              "      <td>0.0</td>\n",
              "      <td>0.0</td>\n",
              "      <td>1.419011</td>\n",
              "      <td>1.396110</td>\n",
              "      <td>-0.360898</td>\n",
              "      <td>0.161703</td>\n",
              "      <td>-0.379120</td>\n",
              "      <td>-0.692171</td>\n",
              "    </tr>\n",
              "    <tr>\n",
              "      <th>4</th>\n",
              "      <td>1.0</td>\n",
              "      <td>25.899770</td>\n",
              "      <td>27.006827</td>\n",
              "      <td>26.746075</td>\n",
              "      <td>25.062368</td>\n",
              "      <td>0.0</td>\n",
              "      <td>0.0</td>\n",
              "      <td>1.0</td>\n",
              "      <td>0.0</td>\n",
              "      <td>1.0</td>\n",
              "      <td>...</td>\n",
              "      <td>0.0</td>\n",
              "      <td>0.0</td>\n",
              "      <td>0.0</td>\n",
              "      <td>0.0</td>\n",
              "      <td>0.359820</td>\n",
              "      <td>0.596582</td>\n",
              "      <td>-1.105624</td>\n",
              "      <td>-0.879606</td>\n",
              "      <td>1.121292</td>\n",
              "      <td>0.963985</td>\n",
              "    </tr>\n",
              "  </tbody>\n",
              "</table>\n",
              "<p>5 rows × 30 columns</p>\n",
              "</div>"
            ],
            "text/plain": [
              "   treatment  y_factual  y_cfactual        mu0        mu1   x6   x7   x8   x9  \\\n",
              "0        0.0  29.370137   26.863579  27.591527  25.093489  0.0  0.0  1.0  0.0   \n",
              "1        0.0  13.367436   25.063070  15.143801  24.493571  1.0  0.0  0.0  1.0   \n",
              "2        0.0  22.643407   23.486566  24.351950  24.968592  0.0  0.0  0.0  0.0   \n",
              "3        0.0  20.191529   25.674872  18.845306  24.712244  0.0  0.0  1.0  0.0   \n",
              "4        1.0  25.899770   27.006827  26.746075  25.062368  0.0  0.0  1.0  0.0   \n",
              "\n",
              "   x10    ...     x21  x22  x23  x24        x0        x1        x2        x3  \\\n",
              "0  0.0    ...     0.0  1.0  0.0  0.0 -1.369471 -1.802002  0.756191  0.161703   \n",
              "1  0.0    ...     0.0  0.0  1.0  0.0 -0.396744 -1.402238 -0.360898  0.161703   \n",
              "2  1.0    ...     0.0  0.0  0.0  0.0  1.159618 -0.202946 -0.733261 -0.879606   \n",
              "3  0.0    ...     1.0  0.0  0.0  0.0  1.419011  1.396110 -0.360898  0.161703   \n",
              "4  1.0    ...     0.0  0.0  0.0  0.0  0.359820  0.596582 -1.105624 -0.879606   \n",
              "\n",
              "         x4        x5  \n",
              "0 -0.441638  0.301522  \n",
              "1  0.558638 -0.857787  \n",
              "2  0.808706 -0.360940  \n",
              "3 -0.379120 -0.692171  \n",
              "4  1.121292  0.963985  \n",
              "\n",
              "[5 rows x 30 columns]"
            ]
          },
          "metadata": {
            "tags": []
          },
          "execution_count": 70
        }
      ]
    },
    {
      "metadata": {
        "id": "xROTF9_oC5Sj",
        "colab_type": "code",
        "colab": {}
      },
      "cell_type": "code",
      "source": [
        "#treated = df[df[\"treatment\"] == 1]\n",
        "#control = df[df[\"treatment\"] == 0]"
      ],
      "execution_count": 0,
      "outputs": []
    },
    {
      "metadata": {
        "id": "LzTHabIwC5ai",
        "colab_type": "code",
        "colab": {
          "base_uri": "https://localhost:8080/",
          "height": 72
        },
        "outputId": "dfa0d93a-0c22-4d16-dba9-caf3987187b1"
      },
      "cell_type": "code",
      "source": [
        "# Calculate propensity scores\n",
        "target = df[\"treatment\"]\n",
        "X = df.iloc[:, 5:]\n",
        "glm = sm.Logit(target, X)\n",
        "result = glm.fit()\n",
        "ps = pd.Series(result.predict(X))"
      ],
      "execution_count": 79,
      "outputs": [
        {
          "output_type": "stream",
          "text": [
            "Optimization terminated successfully.\n",
            "         Current function value: 0.414883\n",
            "         Iterations 7\n"
          ],
          "name": "stdout"
        }
      ]
    },
    {
      "metadata": {
        "id": "e-3Roas9QjtL",
        "colab_type": "code",
        "colab": {
          "base_uri": "https://localhost:8080/",
          "height": 35
        },
        "outputId": "514ec334-814f-492b-9212-5a65e163ccc8"
      },
      "cell_type": "code",
      "source": [
        "#Propensity score matching\n",
        "table = pd.concat([ps, df[\"treatment\"], df[\"y_factual\"]], axis=1)\n",
        "table.columns = ['ps','treatment','y_factual']\n",
        "\n",
        "interval = np.arange(0, 1.05, 0.05)\n",
        "match_list = []\n",
        "for i in range(0, len(interval)-1):\n",
        "    temp0 = table[(table['treatment']==0) & (interval[i] < table['ps']) & (table['ps'] < interval[i+1])]\n",
        "    temp1 = table[(table['treatment']==1) & (interval[i] < table['ps']) & (table['ps'] < interval[i+1])]\n",
        "    if (len(temp0) > 0) & (len(temp1) > 0):\n",
        "        match_list.append(temp1['y_factual'].mean() - temp0['y_factual'].mean())\n",
        "\n",
        "np.mean(match_list)"
      ],
      "execution_count": 81,
      "outputs": [
        {
          "output_type": "execute_result",
          "data": {
            "text/plain": [
              "5.088262502723077"
            ]
          },
          "metadata": {
            "tags": []
          },
          "execution_count": 81
        }
      ]
    },
    {
      "metadata": {
        "id": "LevZFf3pQj2b",
        "colab_type": "code",
        "colab": {}
      },
      "cell_type": "code",
      "source": [
        ""
      ],
      "execution_count": 0,
      "outputs": []
    },
    {
      "metadata": {
        "id": "Iwhj46FnQj5g",
        "colab_type": "code",
        "colab": {}
      },
      "cell_type": "code",
      "source": [
        ""
      ],
      "execution_count": 0,
      "outputs": []
    },
    {
      "metadata": {
        "id": "Cf7IOL5IQj8-",
        "colab_type": "code",
        "colab": {}
      },
      "cell_type": "code",
      "source": [
        ""
      ],
      "execution_count": 0,
      "outputs": []
    },
    {
      "metadata": {
        "id": "pd81oL_JQkFU",
        "colab_type": "code",
        "colab": {}
      },
      "cell_type": "code",
      "source": [
        ""
      ],
      "execution_count": 0,
      "outputs": []
    },
    {
      "metadata": {
        "id": "UxUCqjejvk58",
        "colab_type": "code",
        "colab": {
          "base_uri": "https://localhost:8080/",
          "height": 35
        },
        "outputId": "9b5872ce-65db-40e9-bfcb-fb95b9bc5826"
      },
      "cell_type": "code",
      "source": [
        "ym"
      ],
      "execution_count": 31,
      "outputs": [
        {
          "output_type": "execute_result",
          "data": {
            "text/plain": [
              "20.809099420600358"
            ]
          },
          "metadata": {
            "tags": []
          },
          "execution_count": 31
        }
      ]
    },
    {
      "metadata": {
        "id": "hjb8gUJCvk_H",
        "colab_type": "code",
        "colab": {
          "base_uri": "https://localhost:8080/",
          "height": 35
        },
        "outputId": "b859115a-23eb-47ac-dde5-4e084073fdd8"
      },
      "cell_type": "code",
      "source": [
        "ys"
      ],
      "execution_count": 34,
      "outputs": [
        {
          "output_type": "execute_result",
          "data": {
            "text/plain": [
              "8.778030220306944"
            ]
          },
          "metadata": {
            "tags": []
          },
          "execution_count": 34
        }
      ]
    },
    {
      "metadata": {
        "id": "QoUbTdU-wY9u",
        "colab_type": "code",
        "colab": {}
      },
      "cell_type": "code",
      "source": [
        ""
      ],
      "execution_count": 0,
      "outputs": []
    },
    {
      "metadata": {
        "id": "zKMOcSwawZCp",
        "colab_type": "code",
        "colab": {}
      },
      "cell_type": "code",
      "source": [
        ""
      ],
      "execution_count": 0,
      "outputs": []
    },
    {
      "metadata": {
        "id": "-IqzsfvUwZFp",
        "colab_type": "code",
        "colab": {}
      },
      "cell_type": "code",
      "source": [
        ""
      ],
      "execution_count": 0,
      "outputs": []
    },
    {
      "metadata": {
        "id": "54_UotHGQgsY",
        "colab_type": "code",
        "outputId": "27b5ce56-8e97-4f8a-d5e8-594b606042b6",
        "colab": {
          "base_uri": "https://localhost:8080/",
          "height": 3692
        }
      },
      "cell_type": "code",
      "source": [
        "for i, (train, valid, test, contfeats, binfeats) in enumerate(dataset.get_train_valid_test()):\n",
        "    print '\\nReplication {}/{}'.format(i + 1, args.reps)\n",
        "    (xtr, ttr, ytr), (y_cftr, mu0tr, mu1tr) = train\n",
        "    (xva, tva, yva), (y_cfva, mu0va, mu1va) = valid\n",
        "    (xte, tte, yte), (y_cfte, mu0te, mu1te) = test\n",
        "    evaluator_test = Evaluator(yte, tte, y_cf=y_cfte, mu0=mu0te, mu1=mu1te)\n",
        "\n",
        "    # reorder features with binary first and continuous after\n",
        "    perm = binfeats + contfeats\n",
        "    xtr, xva, xte = xtr[:, perm], xva[:, perm], xte[:, perm]\n",
        "\n",
        "    xalltr, talltr, yalltr = np.concatenate([xtr, xva], axis=0), np.concatenate([ttr, tva], axis=0), np.concatenate([ytr, yva], axis=0)\n",
        "    evaluator_train = Evaluator(yalltr, talltr, y_cf=np.concatenate([y_cftr, y_cfva], axis=0),\n",
        "                                mu0=np.concatenate([mu0tr, mu0va], axis=0), mu1=np.concatenate([mu1tr, mu1va], axis=0))\n",
        "\n",
        "    # zero mean, unit variance for y during training\n",
        "    ym, ys = np.mean(ytr), np.std(ytr)\n",
        "    ytr, yva = (ytr - ym) / ys, (yva - ym) / ys\n",
        "    best_logpvalid = - np.inf\n",
        "\n",
        "    with tf.Graph().as_default():\n",
        "        sess = tf.InteractiveSession()\n",
        "\n",
        "        ed.set_seed(1)\n",
        "        np.random.seed(1)\n",
        "        tf.set_random_seed(1)\n",
        "\n",
        "        x_ph_bin = tf.placeholder(tf.float32, [M, len(binfeats)], name='x_bin')  # binary inputs\n",
        "        x_ph_cont = tf.placeholder(tf.float32, [M, len(contfeats)], name='x_cont')  # continuous inputs\n",
        "        t_ph = tf.placeholder(tf.float32, [M, 1])\n",
        "        y_ph = tf.placeholder(tf.float32, [M, 1])\n",
        "\n",
        "        x_ph = tf.concat([x_ph_bin, x_ph_cont], 1)\n",
        "        activation = tf.nn.elu\n",
        "\n",
        "        # CEVAE model (decoder)\n",
        "        # p(z)\n",
        "        z = Normal(loc=tf.zeros([tf.shape(x_ph)[0], d]), scale=tf.ones([tf.shape(x_ph)[0], d]))\n",
        "\n",
        "        # p(x|z)\n",
        "        hx = fc_net(z, (nh - 1) * [h], [], 'px_z_shared', lamba=lamba, activation=activation)\n",
        "        logits = fc_net(hx, [h], [[len(binfeats), None]], 'px_z_bin'.format(i + 1), lamba=lamba, activation=activation)\n",
        "        x1 = Bernoulli(logits=logits, dtype=tf.float32, name='bernoulli_px_z')\n",
        "\n",
        "        mu, sigma = fc_net(hx, [h], [[len(contfeats), None], [len(contfeats), tf.nn.softplus]], 'px_z_cont', lamba=lamba,\n",
        "                           activation=activation)\n",
        "        x2 = Normal(loc=mu, scale=sigma, name='gaussian_px_z')\n",
        "\n",
        "        # p(t|z)\n",
        "        logits = fc_net(z, [h], [[1, None]], 'pt_z', lamba=lamba, activation=activation)\n",
        "        t = Bernoulli(logits=logits, dtype=tf.float32)\n",
        "\n",
        "        # p(y|t,z)\n",
        "        mu2_t0 = fc_net(z, nh * [h], [[1, None]], 'py_t0z', lamba=lamba, activation=activation)\n",
        "        mu2_t1 = fc_net(z, nh * [h], [[1, None]], 'py_t1z', lamba=lamba, activation=activation)\n",
        "        y = Normal(loc=t * mu2_t1 + (1. - t) * mu2_t0, scale=tf.ones_like(mu2_t0))\n",
        "\n",
        "        # CEVAE variational approximation (encoder)\n",
        "        # q(t|x)\n",
        "        logits_t = fc_net(x_ph, [d], [[1, None]], 'qt', lamba=lamba, activation=activation)\n",
        "        qt = Bernoulli(logits=logits_t, dtype=tf.float32)\n",
        "        # q(y|x,t)\n",
        "        hqy = fc_net(x_ph, (nh - 1) * [h], [], 'qy_xt_shared', lamba=lamba, activation=activation)\n",
        "        mu_qy_t0 = fc_net(hqy, [h], [[1, None]], 'qy_xt0', lamba=lamba, activation=activation)\n",
        "        mu_qy_t1 = fc_net(hqy, [h], [[1, None]], 'qy_xt1', lamba=lamba, activation=activation)\n",
        "        qy = Normal(loc=qt * mu_qy_t1 + (1. - qt) * mu_qy_t0, scale=tf.ones_like(mu_qy_t0))\n",
        "        # q(z|x,t,y)\n",
        "        inpt2 = tf.concat([x_ph, qy], 1)\n",
        "        hqz = fc_net(inpt2, (nh - 1) * [h], [], 'qz_xty_shared', lamba=lamba, activation=activation)\n",
        "        muq_t0, sigmaq_t0 = fc_net(hqz, [h], [[d, None], [d, tf.nn.softplus]], 'qz_xt0', lamba=lamba,\n",
        "                                   activation=activation)\n",
        "        muq_t1, sigmaq_t1 = fc_net(hqz, [h], [[d, None], [d, tf.nn.softplus]], 'qz_xt1', lamba=lamba,\n",
        "                                   activation=activation)\n",
        "        qz = Normal(loc=qt * muq_t1 + (1. - qt) * muq_t0, scale=qt * sigmaq_t1 + (1. - qt) * sigmaq_t0)\n",
        "\n",
        "        # Create data dictionary for edward\n",
        "        data = {x1: x_ph_bin, x2: x_ph_cont, y: y_ph, qt: t_ph, t: t_ph, qy: y_ph}\n",
        "\n",
        "        # sample posterior predictive for p(y|z,t)\n",
        "        y_post = ed.copy(y, {z: qz, t: t_ph}, scope='y_post')\n",
        "        # crude approximation of the above\n",
        "        y_post_mean = ed.copy(y, {z: qz.mean(), t: t_ph}, scope='y_post_mean')\n",
        "        # construct a deterministic version (i.e. use the mean of the approximate posterior) of the lower bound\n",
        "        # for early stopping according to a validation set\n",
        "        y_post_eval = ed.copy(y, {z: qz.mean(), qt: t_ph, qy: y_ph, t: t_ph}, scope='y_post_eval')\n",
        "        x1_post_eval = ed.copy(x1, {z: qz.mean(), qt: t_ph, qy: y_ph}, scope='x1_post_eval')\n",
        "        x2_post_eval = ed.copy(x2, {z: qz.mean(), qt: t_ph, qy: y_ph}, scope='x2_post_eval')\n",
        "        t_post_eval = ed.copy(t, {z: qz.mean(), qt: t_ph, qy: y_ph}, scope='t_post_eval')\n",
        "        logp_valid = tf.reduce_mean(tf.reduce_sum(y_post_eval.log_prob(y_ph) + t_post_eval.log_prob(t_ph), axis=1) +\n",
        "                                    tf.reduce_sum(x1_post_eval.log_prob(x_ph_bin), axis=1) +\n",
        "                                    tf.reduce_sum(x2_post_eval.log_prob(x_ph_cont), axis=1) +\n",
        "                                    tf.reduce_sum(z.log_prob(qz.mean()) - qz.log_prob(qz.mean()), axis=1))\n",
        "\n",
        "        inference = ed.KLqp({z: qz}, data)\n",
        "        optimizer = tf.train.AdamOptimizer(learning_rate=args.lr)\n",
        "        inference.initialize(optimizer=optimizer)\n",
        "\n",
        "        saver = tf.train.Saver(tf.contrib.slim.get_variables())\n",
        "        tf.global_variables_initializer().run()\n",
        "\n",
        "        n_epoch, n_iter_per_epoch, idx = args.epochs, 10 * int(xtr.shape[0] / 100), np.arange(xtr.shape[0])\n",
        "\n",
        "        # dictionaries needed for evaluation\n",
        "        tr0, tr1 = np.zeros((xalltr.shape[0], 1)), np.ones((xalltr.shape[0], 1))\n",
        "        tr0t, tr1t = np.zeros((xte.shape[0], 1)), np.ones((xte.shape[0], 1))\n",
        "        f1 = {x_ph_bin: xalltr[:, 0:len(binfeats)], x_ph_cont: xalltr[:, len(binfeats):], t_ph: tr1}\n",
        "        f0 = {x_ph_bin: xalltr[:, 0:len(binfeats)], x_ph_cont: xalltr[:, len(binfeats):], t_ph: tr0}\n",
        "        f1t = {x_ph_bin: xte[:, 0:len(binfeats)], x_ph_cont: xte[:, len(binfeats):], t_ph: tr1t}\n",
        "        f0t = {x_ph_bin: xte[:, 0:len(binfeats)], x_ph_cont: xte[:, len(binfeats):], t_ph: tr0t}\n",
        "\n",
        "        for epoch in range(n_epoch):\n",
        "            avg_loss = 0.0\n",
        "\n",
        "            t0 = time.time()\n",
        "            widgets = [\"epoch #%d|\" % epoch, Percentage(), Bar(), ETA()]\n",
        "            pbar = ProgressBar(n_iter_per_epoch, widgets=widgets)\n",
        "            pbar.start()\n",
        "            np.random.shuffle(idx)\n",
        "            for j in range(n_iter_per_epoch):\n",
        "                pbar.update(j)\n",
        "                batch = np.random.choice(idx, 100)\n",
        "                x_train, y_train, t_train = xtr[batch], ytr[batch], ttr[batch]\n",
        "                info_dict = inference.update(feed_dict={x_ph_bin: x_train[:, 0:len(binfeats)],\n",
        "                                                        x_ph_cont: x_train[:, len(binfeats):],\n",
        "                                                        t_ph: t_train, y_ph: y_train})\n",
        "                avg_loss += info_dict['loss']\n",
        "\n",
        "            avg_loss = avg_loss / n_iter_per_epoch\n",
        "            avg_loss = avg_loss / 100\n",
        "\n",
        "            if epoch % args.earl == 0 or epoch == (n_epoch - 1):\n",
        "                logpvalid = sess.run(logp_valid, feed_dict={x_ph_bin: xva[:, 0:len(binfeats)], x_ph_cont: xva[:, len(binfeats):],\n",
        "                                                            t_ph: tva, y_ph: yva})\n",
        "                if logpvalid >= best_logpvalid:\n",
        "                    print 'Improved validation bound, old: {:0.3f}, new: {:0.3f}'.format(best_logpvalid, logpvalid)\n",
        "                    best_logpvalid = logpvalid\n",
        "                    saver.save(sess, 'models/m6-ihdp')\n",
        "\n",
        "            if epoch % args.print_every == 0:\n",
        "                y0, y1 = get_y0_y1(sess, y_post, f0, f1, shape=yalltr.shape, L=1)\n",
        "                y0, y1 = y0 * ys + ym, y1 * ys + ym\n",
        "                score_train = evaluator_train.calc_stats(y1, y0)\n",
        "                rmses_train = evaluator_train.y_errors(y0, y1)\n",
        "\n",
        "                y0, y1 = get_y0_y1(sess, y_post, f0t, f1t, shape=yte.shape, L=1)\n",
        "                y0, y1 = y0 * ys + ym, y1 * ys + ym\n",
        "                score_test = evaluator_test.calc_stats(y1, y0)\n",
        "\n",
        "                print \"Epoch: {}/{}, log p(x) >= {:0.3f}, ite_tr: {:0.3f}, ate_tr: {:0.3f}, pehe_tr: {:0.3f}, \" \\\n",
        "                      \"rmse_f_tr: {:0.3f}, rmse_cf_tr: {:0.3f}, ite_te: {:0.3f}, ate_te: {:0.3f}, pehe_te: {:0.3f}, \" \\\n",
        "                      \"dt: {:0.3f}\".format(epoch + 1, n_epoch, avg_loss, score_train[0], score_train[1], score_train[2],\n",
        "                                           rmses_train[0], rmses_train[1], score_test[0], score_test[1], score_test[2],\n",
        "                                           time.time() - t0)\n",
        "\n",
        "        saver.restore(sess, 'models/m6-ihdp')\n",
        "        y0, y1 = get_y0_y1(sess, y_post, f0, f1, shape=yalltr.shape, L=100)\n",
        "        y0, y1 = y0 * ys + ym, y1 * ys + ym\n",
        "        score = evaluator_train.calc_stats(y1, y0)\n",
        "        scores[i, :] = score\n",
        "\n",
        "        y0t, y1t = get_y0_y1(sess, y_post, f0t, f1t, shape=yte.shape, L=100)\n",
        "        y0t, y1t = y0t * ys + ym, y1t * ys + ym\n",
        "        score_test = evaluator_test.calc_stats(y1t, y0t)\n",
        "        scores_test[i, :] = score_test\n",
        "\n",
        "        print 'Replication: {}/{}, tr_ite: {:0.3f}, tr_ate: {:0.3f}, tr_pehe: {:0.3f}' \\\n",
        "              ', te_ite: {:0.3f}, te_ate: {:0.3f}, te_pehe: {:0.3f}'.format(i + 1, args.reps,\n",
        "                                                                            score[0], score[1], score[2],\n",
        "                                                                            score_test[0], score_test[1], score_test[2])\n",
        "        sess.close()"
      ],
      "execution_count": 18,
      "outputs": [
        {
          "output_type": "stream",
          "text": [
            "\n",
            "Replication 1/10\n"
          ],
          "name": "stdout"
        },
        {
          "output_type": "stream",
          "text": [
            ""
          ],
          "name": "stderr"
        },
        {
          "output_type": "stream",
          "text": [
            "Improved validation bound, old: -inf, new: -19.181\n",
            "Epoch: 1/100, log p(x) >= 23.638, ite_tr: 1.362, ate_tr: 0.471, pehe_tr: 1.222, rmse_f_tr: 1.481, rmse_cf_tr: 1.358, ite_te: 1.267, ate_te: 0.595, pehe_te: 1.293, dt: 2.889\n"
          ],
          "name": "stdout"
        },
        {
          "output_type": "stream",
          "text": [
            ""
          ],
          "name": "stderr"
        },
        {
          "output_type": "stream",
          "text": [
            "Improved validation bound, old: -19.181, new: -16.420\n",
            "Epoch: 11/100, log p(x) >= 17.698, ite_tr: 1.201, ate_tr: 0.035, pehe_tr: 0.872, rmse_f_tr: 1.197, rmse_cf_tr: 1.249, ite_te: 1.098, ate_te: 0.110, pehe_te: 1.106, dt: 2.693\n"
          ],
          "name": "stdout"
        },
        {
          "output_type": "stream",
          "text": [
            ""
          ],
          "name": "stderr"
        },
        {
          "output_type": "stream",
          "text": [
            "Improved validation bound, old: -16.420, new: -16.152\n",
            "Epoch: 21/100, log p(x) >= 16.845, ite_tr: 1.223, ate_tr: 0.125, pehe_tr: 0.826, rmse_f_tr: 1.206, rmse_cf_tr: 1.258, ite_te: 1.070, ate_te: 0.062, pehe_te: 0.767, dt: 2.872\n"
          ],
          "name": "stdout"
        },
        {
          "output_type": "stream",
          "text": [
            ""
          ],
          "name": "stderr"
        },
        {
          "output_type": "stream",
          "text": [
            "Improved validation bound, old: -16.152, new: -15.795\n",
            "Epoch: 31/100, log p(x) >= 16.573, ite_tr: 1.223, ate_tr: 0.099, pehe_tr: 0.908, rmse_f_tr: 1.143, rmse_cf_tr: 1.224, ite_te: 1.105, ate_te: 0.028, pehe_te: 1.058, dt: 2.941\n"
          ],
          "name": "stdout"
        },
        {
          "output_type": "stream",
          "text": [
            ""
          ],
          "name": "stderr"
        },
        {
          "output_type": "stream",
          "text": [
            "Epoch: 41/100, log p(x) >= 16.059, ite_tr: 1.270, ate_tr: 0.213, pehe_tr: 0.985, rmse_f_tr: 1.139, rmse_cf_tr: 1.307, ite_te: 1.240, ate_te: 0.049, pehe_te: 1.139, dt: 2.254\n"
          ],
          "name": "stdout"
        },
        {
          "output_type": "stream",
          "text": [
            ""
          ],
          "name": "stderr"
        },
        {
          "output_type": "stream",
          "text": [
            "Improved validation bound, old: -15.795, new: -15.507\n",
            "Epoch: 51/100, log p(x) >= 15.598, ite_tr: 1.329, ate_tr: 0.496, pehe_tr: 1.071, rmse_f_tr: 1.124, rmse_cf_tr: 1.366, ite_te: 1.278, ate_te: 0.487, pehe_te: 1.072, dt: 2.708\n"
          ],
          "name": "stdout"
        },
        {
          "output_type": "stream",
          "text": [
            ""
          ],
          "name": "stderr"
        },
        {
          "output_type": "stream",
          "text": [
            "Epoch: 61/100, log p(x) >= 16.072, ite_tr: 1.337, ate_tr: 0.185, pehe_tr: 1.140, rmse_f_tr: 1.159, rmse_cf_tr: 1.348, ite_te: 1.000, ate_te: 0.054, pehe_te: 1.030, dt: 2.296\n"
          ],
          "name": "stdout"
        },
        {
          "output_type": "stream",
          "text": [
            ""
          ],
          "name": "stderr"
        },
        {
          "output_type": "stream",
          "text": [
            "Epoch: 71/100, log p(x) >= 15.409, ite_tr: 1.255, ate_tr: 0.016, pehe_tr: 1.001, rmse_f_tr: 1.067, rmse_cf_tr: 1.241, ite_te: 1.164, ate_te: 0.107, pehe_te: 1.141, dt: 2.402\n"
          ],
          "name": "stdout"
        },
        {
          "output_type": "stream",
          "text": [
            ""
          ],
          "name": "stderr"
        },
        {
          "output_type": "stream",
          "text": [
            "Epoch: 81/100, log p(x) >= 16.433, ite_tr: 1.316, ate_tr: 0.074, pehe_tr: 1.027, rmse_f_tr: 1.083, rmse_cf_tr: 1.305, ite_te: 1.168, ate_te: 0.254, pehe_te: 1.162, dt: 2.279\n"
          ],
          "name": "stdout"
        },
        {
          "output_type": "stream",
          "text": [
            ""
          ],
          "name": "stderr"
        },
        {
          "output_type": "stream",
          "text": [
            "Epoch: 91/100, log p(x) >= 14.822, ite_tr: 1.263, ate_tr: 0.221, pehe_tr: 1.046, rmse_f_tr: 1.027, rmse_cf_tr: 1.301, ite_te: 1.132, ate_te: 0.032, pehe_te: 1.104, dt: 2.275\n"
          ],
          "name": "stdout"
        },
        {
          "output_type": "stream",
          "text": [
            ""
          ],
          "name": "stderr"
        },
        {
          "output_type": "stream",
          "text": [
            "INFO:tensorflow:Restoring parameters from models/m6-ihdp\n"
          ],
          "name": "stdout"
        },
        {
          "output_type": "stream",
          "text": [
            "epoch #99| 95%|###############################################   |ETA:  0:00:00\repoch #99| 97%|################################################  |ETA:  0:00:00\r"
          ],
          "name": "stderr"
        },
        {
          "output_type": "stream",
          "text": [
            " Sample 100/100\n",
            " Sample 100/100\n",
            "Replication: 1/10, tr_ite: 1.240, tr_ate: 0.437, tr_pehe: 0.870, te_ite: 1.073, te_ate: 0.381, te_pehe: 0.831\n",
            "\n",
            "Replication 2/10\n"
          ],
          "name": "stdout"
        },
        {
          "output_type": "stream",
          "text": [
            ""
          ],
          "name": "stderr"
        },
        {
          "output_type": "stream",
          "text": [
            "Improved validation bound, old: -inf, new: -19.115\n",
            "Epoch: 1/100, log p(x) >= 23.568, ite_tr: 1.397, ate_tr: 0.265, pehe_tr: 1.406, rmse_f_tr: 1.354, rmse_cf_tr: 1.401, ite_te: 1.474, ate_te: 0.400, pehe_te: 1.280, dt: 3.109\n"
          ],
          "name": "stdout"
        },
        {
          "output_type": "stream",
          "text": [
            ""
          ],
          "name": "stderr"
        },
        {
          "output_type": "stream",
          "text": [
            "Improved validation bound, old: -19.115, new: -16.705\n",
            "Epoch: 11/100, log p(x) >= 17.719, ite_tr: 1.185, ate_tr: 0.081, pehe_tr: 0.860, rmse_f_tr: 1.222, rmse_cf_tr: 1.242, ite_te: 1.327, ate_te: 0.078, pehe_te: 0.776, dt: 2.688\n"
          ],
          "name": "stdout"
        },
        {
          "output_type": "stream",
          "text": [
            ""
          ],
          "name": "stderr"
        },
        {
          "output_type": "stream",
          "text": [
            "Improved validation bound, old: -16.705, new: -16.140\n",
            "Epoch: 21/100, log p(x) >= 16.905, ite_tr: 1.208, ate_tr: 0.096, pehe_tr: 0.873, rmse_f_tr: 1.139, rmse_cf_tr: 1.224, ite_te: 1.322, ate_te: 0.235, pehe_te: 0.898, dt: 2.768\n"
          ],
          "name": "stdout"
        },
        {
          "output_type": "stream",
          "text": [
            ""
          ],
          "name": "stderr"
        },
        {
          "output_type": "stream",
          "text": [
            "Improved validation bound, old: -16.140, new: -15.861\n",
            "Epoch: 31/100, log p(x) >= 16.546, ite_tr: 1.142, ate_tr: 0.310, pehe_tr: 0.854, rmse_f_tr: 1.160, rmse_cf_tr: 1.199, ite_te: 1.300, ate_te: 0.399, pehe_te: 0.934, dt: 3.153\n"
          ],
          "name": "stdout"
        },
        {
          "output_type": "stream",
          "text": [
            ""
          ],
          "name": "stderr"
        },
        {
          "output_type": "stream",
          "text": [
            "Epoch: 41/100, log p(x) >= 16.669, ite_tr: 1.121, ate_tr: 0.052, pehe_tr: 0.799, rmse_f_tr: 1.123, rmse_cf_tr: 1.189, ite_te: 1.196, ate_te: 0.088, pehe_te: 0.714, dt: 2.276\n"
          ],
          "name": "stdout"
        },
        {
          "output_type": "stream",
          "text": [
            ""
          ],
          "name": "stderr"
        },
        {
          "output_type": "stream",
          "text": [
            "Epoch: 51/100, log p(x) >= 15.736, ite_tr: 1.141, ate_tr: 0.227, pehe_tr: 0.832, rmse_f_tr: 1.096, rmse_cf_tr: 1.184, ite_te: 1.382, ate_te: 0.240, pehe_te: 0.747, dt: 2.277\n"
          ],
          "name": "stdout"
        },
        {
          "output_type": "stream",
          "text": [
            ""
          ],
          "name": "stderr"
        },
        {
          "output_type": "stream",
          "text": [
            "Epoch: 61/100, log p(x) >= 15.534, ite_tr: 1.206, ate_tr: 0.252, pehe_tr: 0.914, rmse_f_tr: 1.122, rmse_cf_tr: 1.199, ite_te: 1.272, ate_te: 0.296, pehe_te: 0.845, dt: 2.277\n"
          ],
          "name": "stdout"
        },
        {
          "output_type": "stream",
          "text": [
            ""
          ],
          "name": "stderr"
        },
        {
          "output_type": "stream",
          "text": [
            "Epoch: 71/100, log p(x) >= 15.170, ite_tr: 1.280, ate_tr: 0.123, pehe_tr: 1.013, rmse_f_tr: 1.058, rmse_cf_tr: 1.307, ite_te: 1.315, ate_te: 0.040, pehe_te: 0.809, dt: 2.297\n"
          ],
          "name": "stdout"
        },
        {
          "output_type": "stream",
          "text": [
            ""
          ],
          "name": "stderr"
        },
        {
          "output_type": "stream",
          "text": [
            "Epoch: 81/100, log p(x) >= 15.101, ite_tr: 1.224, ate_tr: 0.142, pehe_tr: 0.965, rmse_f_tr: 1.005, rmse_cf_tr: 1.232, ite_te: 1.219, ate_te: 0.172, pehe_te: 0.748, dt: 2.286\n"
          ],
          "name": "stdout"
        },
        {
          "output_type": "stream",
          "text": [
            ""
          ],
          "name": "stderr"
        },
        {
          "output_type": "stream",
          "text": [
            "Epoch: 91/100, log p(x) >= 14.747, ite_tr: 1.205, ate_tr: 0.096, pehe_tr: 0.916, rmse_f_tr: 0.998, rmse_cf_tr: 1.188, ite_te: 1.308, ate_te: 0.102, pehe_te: 0.857, dt: 2.294\n"
          ],
          "name": "stdout"
        },
        {
          "output_type": "stream",
          "text": [
            ""
          ],
          "name": "stderr"
        },
        {
          "output_type": "stream",
          "text": [
            "INFO:tensorflow:Restoring parameters from models/m6-ihdp\n",
            " Sample 100/100\n",
            " Sample 100/100\n",
            "Replication: 2/10, tr_ite: 1.091, tr_ate: 0.306, tr_pehe: 0.642, te_ite: 1.193, te_ate: 0.321, te_pehe: 0.608\n",
            "\n",
            "Replication 3/10\n"
          ],
          "name": "stdout"
        },
        {
          "output_type": "stream",
          "text": [
            ""
          ],
          "name": "stderr"
        },
        {
          "output_type": "stream",
          "text": [
            "Improved validation bound, old: -inf, new: -19.127\n",
            "Epoch: 1/100, log p(x) >= 23.518, ite_tr: 1.411, ate_tr: 0.235, pehe_tr: 1.433, rmse_f_tr: 1.534, rmse_cf_tr: 1.356, ite_te: 1.257, ate_te: 0.328, pehe_te: 1.436, dt: 3.067\n"
          ],
          "name": "stdout"
        },
        {
          "output_type": "stream",
          "text": [
            ""
          ],
          "name": "stderr"
        },
        {
          "output_type": "stream",
          "text": [
            "Improved validation bound, old: -19.127, new: -16.493\n",
            "Epoch: 11/100, log p(x) >= 18.175, ite_tr: 1.221, ate_tr: 0.097, pehe_tr: 1.101, rmse_f_tr: 1.266, rmse_cf_tr: 1.202, ite_te: 1.086, ate_te: 0.068, pehe_te: 1.003, dt: 2.686\n"
          ],
          "name": "stdout"
        },
        {
          "output_type": "stream",
          "text": [
            ""
          ],
          "name": "stderr"
        },
        {
          "output_type": "stream",
          "text": [
            "Improved validation bound, old: -16.493, new: -16.189\n",
            "Epoch: 21/100, log p(x) >= 16.855, ite_tr: 1.198, ate_tr: 0.223, pehe_tr: 0.882, rmse_f_tr: 1.180, rmse_cf_tr: 1.123, ite_te: 1.019, ate_te: 0.002, pehe_te: 0.722, dt: 2.704\n"
          ],
          "name": "stdout"
        },
        {
          "output_type": "stream",
          "text": [
            ""
          ],
          "name": "stderr"
        },
        {
          "output_type": "stream",
          "text": [
            "Improved validation bound, old: -16.189, new: -16.090\n",
            "Epoch: 31/100, log p(x) >= 16.650, ite_tr: 1.199, ate_tr: 0.249, pehe_tr: 0.966, rmse_f_tr: 1.186, rmse_cf_tr: 1.152, ite_te: 1.033, ate_te: 0.131, pehe_te: 0.838, dt: 2.724\n"
          ],
          "name": "stdout"
        },
        {
          "output_type": "stream",
          "text": [
            ""
          ],
          "name": "stderr"
        },
        {
          "output_type": "stream",
          "text": [
            "Epoch: 41/100, log p(x) >= 17.333, ite_tr: 1.182, ate_tr: 0.095, pehe_tr: 0.883, rmse_f_tr: 1.160, rmse_cf_tr: 1.125, ite_te: 1.147, ate_te: 0.042, pehe_te: 0.882, dt: 2.267\n"
          ],
          "name": "stdout"
        },
        {
          "output_type": "stream",
          "text": [
            ""
          ],
          "name": "stderr"
        },
        {
          "output_type": "stream",
          "text": [
            "Epoch: 51/100, log p(x) >= 15.876, ite_tr: 1.236, ate_tr: 0.218, pehe_tr: 0.952, rmse_f_tr: 1.085, rmse_cf_tr: 1.182, ite_te: 1.124, ate_te: 0.300, pehe_te: 0.855, dt: 2.272\n"
          ],
          "name": "stdout"
        },
        {
          "output_type": "stream",
          "text": [
            ""
          ],
          "name": "stderr"
        },
        {
          "output_type": "stream",
          "text": [
            "Epoch: 61/100, log p(x) >= 15.613, ite_tr: 1.240, ate_tr: 0.014, pehe_tr: 0.908, rmse_f_tr: 1.093, rmse_cf_tr: 1.163, ite_te: 1.077, ate_te: 0.100, pehe_te: 0.775, dt: 2.251\n"
          ],
          "name": "stdout"
        },
        {
          "output_type": "stream",
          "text": [
            ""
          ],
          "name": "stderr"
        },
        {
          "output_type": "stream",
          "text": [
            "Epoch: 71/100, log p(x) >= 15.259, ite_tr: 1.244, ate_tr: 0.001, pehe_tr: 0.983, rmse_f_tr: 1.066, rmse_cf_tr: 1.198, ite_te: 1.021, ate_te: 0.075, pehe_te: 0.886, dt: 2.272\n"
          ],
          "name": "stdout"
        },
        {
          "output_type": "stream",
          "text": [
            ""
          ],
          "name": "stderr"
        },
        {
          "output_type": "stream",
          "text": [
            "Epoch: 81/100, log p(x) >= 14.815, ite_tr: 1.263, ate_tr: 0.194, pehe_tr: 1.092, rmse_f_tr: 1.132, rmse_cf_tr: 1.244, ite_te: 1.078, ate_te: 0.011, pehe_te: 0.849, dt: 2.255\n"
          ],
          "name": "stdout"
        },
        {
          "output_type": "stream",
          "text": [
            ""
          ],
          "name": "stderr"
        },
        {
          "output_type": "stream",
          "text": [
            "Epoch: 91/100, log p(x) >= 14.626, ite_tr: 1.307, ate_tr: 0.007, pehe_tr: 1.052, rmse_f_tr: 1.047, rmse_cf_tr: 1.251, ite_te: 1.089, ate_te: 0.087, pehe_te: 0.952, dt: 2.246\n"
          ],
          "name": "stdout"
        },
        {
          "output_type": "stream",
          "text": [
            ""
          ],
          "name": "stderr"
        },
        {
          "output_type": "stream",
          "text": [
            "INFO:tensorflow:Restoring parameters from models/m6-ihdp\n",
            " Sample 100/100\n",
            " Sample 100/100\n",
            "Replication: 3/10, tr_ite: 1.121, tr_ate: 0.267, tr_pehe: 0.734, te_ite: 0.975, te_ate: 0.232, te_pehe: 0.586\n",
            "\n",
            "Replication 4/10\n"
          ],
          "name": "stdout"
        },
        {
          "output_type": "stream",
          "text": [
            ""
          ],
          "name": "stderr"
        },
        {
          "output_type": "stream",
          "text": [
            "Improved validation bound, old: -inf, new: -19.204\n",
            "Epoch: 1/100, log p(x) >= 23.535, ite_tr: 1.694, ate_tr: 0.539, pehe_tr: 2.123, rmse_f_tr: 2.131, rmse_cf_tr: 1.647, ite_te: 1.386, ate_te: 0.929, pehe_te: 1.994, dt: 3.067\n"
          ],
          "name": "stdout"
        },
        {
          "output_type": "stream",
          "text": [
            ""
          ],
          "name": "stderr"
        },
        {
          "output_type": "stream",
          "text": [
            "Improved validation bound, old: -19.204, new: -16.556\n",
            "Epoch: 11/100, log p(x) >= 17.529, ite_tr: 1.393, ate_tr: 0.030, pehe_tr: 1.555, rmse_f_tr: 1.690, rmse_cf_tr: 1.379, ite_te: 0.988, ate_te: 0.274, pehe_te: 1.593, dt: 3.077\n"
          ],
          "name": "stdout"
        },
        {
          "output_type": "stream",
          "text": [
            ""
          ],
          "name": "stderr"
        },
        {
          "output_type": "stream",
          "text": [
            "Improved validation bound, old: -16.556, new: -16.064\n",
            "Epoch: 21/100, log p(x) >= 16.766, ite_tr: 1.375, ate_tr: 0.259, pehe_tr: 1.572, rmse_f_tr: 1.692, rmse_cf_tr: 1.342, ite_te: 1.133, ate_te: 0.530, pehe_te: 1.481, dt: 2.765\n"
          ],
          "name": "stdout"
        },
        {
          "output_type": "stream",
          "text": [
            ""
          ],
          "name": "stderr"
        },
        {
          "output_type": "stream",
          "text": [
            "Improved validation bound, old: -16.064, new: -16.027\n",
            "Epoch: 31/100, log p(x) >= 16.687, ite_tr: 1.376, ate_tr: 0.502, pehe_tr: 1.544, rmse_f_tr: 1.582, rmse_cf_tr: 1.392, ite_te: 1.114, ate_te: 0.793, pehe_te: 1.667, dt: 2.933\n"
          ],
          "name": "stdout"
        },
        {
          "output_type": "stream",
          "text": [
            ""
          ],
          "name": "stderr"
        },
        {
          "output_type": "stream",
          "text": [
            "Improved validation bound, old: -16.027, new: -15.729\n",
            "Epoch: 41/100, log p(x) >= 16.283, ite_tr: 1.398, ate_tr: 0.283, pehe_tr: 1.498, rmse_f_tr: 1.589, rmse_cf_tr: 1.321, ite_te: 1.087, ate_te: 0.362, pehe_te: 1.458, dt: 2.751\n"
          ],
          "name": "stdout"
        },
        {
          "output_type": "stream",
          "text": [
            ""
          ],
          "name": "stderr"
        },
        {
          "output_type": "stream",
          "text": [
            "Epoch: 51/100, log p(x) >= 15.560, ite_tr: 1.388, ate_tr: 0.270, pehe_tr: 1.476, rmse_f_tr: 1.539, rmse_cf_tr: 1.405, ite_te: 1.090, ate_te: 0.690, pehe_te: 1.609, dt: 2.346\n"
          ],
          "name": "stdout"
        },
        {
          "output_type": "stream",
          "text": [
            ""
          ],
          "name": "stderr"
        },
        {
          "output_type": "stream",
          "text": [
            "Epoch: 61/100, log p(x) >= 15.590, ite_tr: 1.426, ate_tr: 0.122, pehe_tr: 1.488, rmse_f_tr: 1.490, rmse_cf_tr: 1.411, ite_te: 1.217, ate_te: 0.409, pehe_te: 1.380, dt: 2.294\n"
          ],
          "name": "stdout"
        },
        {
          "output_type": "stream",
          "text": [
            ""
          ],
          "name": "stderr"
        },
        {
          "output_type": "stream",
          "text": [
            "Epoch: 71/100, log p(x) >= 16.336, ite_tr: 1.459, ate_tr: 0.397, pehe_tr: 1.543, rmse_f_tr: 1.462, rmse_cf_tr: 1.407, ite_te: 1.201, ate_te: 0.684, pehe_te: 1.536, dt: 2.308\n"
          ],
          "name": "stdout"
        },
        {
          "output_type": "stream",
          "text": [
            ""
          ],
          "name": "stderr"
        },
        {
          "output_type": "stream",
          "text": [
            "Epoch: 81/100, log p(x) >= 15.212, ite_tr: 1.515, ate_tr: 0.391, pehe_tr: 1.602, rmse_f_tr: 1.377, rmse_cf_tr: 1.474, ite_te: 1.268, ate_te: 0.668, pehe_te: 1.556, dt: 2.283\n"
          ],
          "name": "stdout"
        },
        {
          "output_type": "stream",
          "text": [
            ""
          ],
          "name": "stderr"
        },
        {
          "output_type": "stream",
          "text": [
            "Epoch: 91/100, log p(x) >= 16.255, ite_tr: 1.438, ate_tr: 0.400, pehe_tr: 1.482, rmse_f_tr: 1.492, rmse_cf_tr: 1.442, ite_te: 1.200, ate_te: 0.377, pehe_te: 1.656, dt: 2.303\n"
          ],
          "name": "stdout"
        },
        {
          "output_type": "stream",
          "text": [
            ""
          ],
          "name": "stderr"
        },
        {
          "output_type": "stream",
          "text": [
            "INFO:tensorflow:Restoring parameters from models/m6-ihdp\n",
            " Sample 100/100\n",
            " Sample 100/100\n",
            "Replication: 4/10, tr_ite: 1.252, tr_ate: 0.315, tr_pehe: 1.126, te_ite: 1.007, te_ate: 0.545, te_pehe: 1.130\n",
            "\n",
            "Replication 5/10\n"
          ],
          "name": "stdout"
        },
        {
          "output_type": "stream",
          "text": [
            ""
          ],
          "name": "stderr"
        },
        {
          "output_type": "stream",
          "text": [
            "Improved validation bound, old: -inf, new: -19.439\n",
            "Epoch: 1/100, log p(x) >= 23.566, ite_tr: 1.817, ate_tr: 0.330, pehe_tr: 2.530, rmse_f_tr: 2.629, rmse_cf_tr: 1.866, ite_te: 1.791, ate_te: 0.445, pehe_te: 2.807, dt: 3.127\n"
          ],
          "name": "stdout"
        },
        {
          "output_type": "stream",
          "text": [
            ""
          ],
          "name": "stderr"
        },
        {
          "output_type": "stream",
          "text": [
            "Improved validation bound, old: -19.439, new: -17.311\n",
            "Epoch: 11/100, log p(x) >= 17.807, ite_tr: 1.689, ate_tr: 0.602, pehe_tr: 2.334, rmse_f_tr: 2.360, rmse_cf_tr: 1.747, ite_te: 1.488, ate_te: 0.927, pehe_te: 2.765, dt: 2.761\n"
          ],
          "name": "stdout"
        },
        {
          "output_type": "stream",
          "text": [
            ""
          ],
          "name": "stderr"
        },
        {
          "output_type": "stream",
          "text": [
            "Improved validation bound, old: -17.311, new: -16.685\n",
            "Epoch: 21/100, log p(x) >= 17.024, ite_tr: 1.577, ate_tr: 0.033, pehe_tr: 2.128, rmse_f_tr: 2.173, rmse_cf_tr: 1.647, ite_te: 1.482, ate_te: 0.207, pehe_te: 2.167, dt: 3.245\n"
          ],
          "name": "stdout"
        },
        {
          "output_type": "stream",
          "text": [
            ""
          ],
          "name": "stderr"
        },
        {
          "output_type": "stream",
          "text": [
            "Improved validation bound, old: -16.685, new: -16.232\n",
            "Epoch: 31/100, log p(x) >= 16.486, ite_tr: 1.590, ate_tr: 0.053, pehe_tr: 2.171, rmse_f_tr: 2.114, rmse_cf_tr: 1.681, ite_te: 1.498, ate_te: 0.213, pehe_te: 2.221, dt: 2.813\n"
          ],
          "name": "stdout"
        },
        {
          "output_type": "stream",
          "text": [
            ""
          ],
          "name": "stderr"
        },
        {
          "output_type": "stream",
          "text": [
            "Epoch: 41/100, log p(x) >= 26.788, ite_tr: 1.711, ate_tr: 0.057, pehe_tr: 2.427, rmse_f_tr: 2.418, rmse_cf_tr: 1.792, ite_te: 1.598, ate_te: 0.371, pehe_te: 2.835, dt: 2.292\n"
          ],
          "name": "stdout"
        },
        {
          "output_type": "stream",
          "text": [
            ""
          ],
          "name": "stderr"
        },
        {
          "output_type": "stream",
          "text": [
            "Epoch: 51/100, log p(x) >= 18.653, ite_tr: 1.626, ate_tr: 0.460, pehe_tr: 2.214, rmse_f_tr: 2.160, rmse_cf_tr: 1.709, ite_te: 1.396, ate_te: 0.191, pehe_te: 2.479, dt: 2.327\n"
          ],
          "name": "stdout"
        },
        {
          "output_type": "stream",
          "text": [
            ""
          ],
          "name": "stderr"
        },
        {
          "output_type": "stream",
          "text": [
            "Epoch: 61/100, log p(x) >= 15.939, ite_tr: 1.525, ate_tr: 0.002, pehe_tr: 1.941, rmse_f_tr: 1.921, rmse_cf_tr: 1.609, ite_te: 1.379, ate_te: 0.320, pehe_te: 2.155, dt: 2.270\n"
          ],
          "name": "stdout"
        },
        {
          "output_type": "stream",
          "text": [
            ""
          ],
          "name": "stderr"
        },
        {
          "output_type": "stream",
          "text": [
            "Epoch: 71/100, log p(x) >= 15.557, ite_tr: 1.617, ate_tr: 0.324, pehe_tr: 1.883, rmse_f_tr: 1.833, rmse_cf_tr: 1.676, ite_te: 1.532, ate_te: 0.340, pehe_te: 2.156, dt: 2.289\n"
          ],
          "name": "stdout"
        },
        {
          "output_type": "stream",
          "text": [
            ""
          ],
          "name": "stderr"
        },
        {
          "output_type": "stream",
          "text": [
            "Epoch: 81/100, log p(x) >= 15.737, ite_tr: 1.535, ate_tr: 0.033, pehe_tr: 1.956, rmse_f_tr: 1.936, rmse_cf_tr: 1.661, ite_te: 1.655, ate_te: 0.094, pehe_te: 2.510, dt: 2.464\n"
          ],
          "name": "stdout"
        },
        {
          "output_type": "stream",
          "text": [
            ""
          ],
          "name": "stderr"
        },
        {
          "output_type": "stream",
          "text": [
            "Epoch: 91/100, log p(x) >= 15.212, ite_tr: 1.598, ate_tr: 0.334, pehe_tr: 1.968, rmse_f_tr: 1.797, rmse_cf_tr: 1.647, ite_te: 1.567, ate_te: 0.321, pehe_te: 2.262, dt: 2.315\n"
          ],
          "name": "stdout"
        },
        {
          "output_type": "stream",
          "text": [
            ""
          ],
          "name": "stderr"
        },
        {
          "output_type": "stream",
          "text": [
            "INFO:tensorflow:Restoring parameters from models/m6-ihdp\n",
            " Sample 100/100\n",
            " Sample 100/100\n",
            "Replication: 5/10, tr_ite: 1.425, tr_ate: 0.081, tr_pehe: 1.750, te_ite: 1.271, te_ate: 0.227, te_pehe: 2.010\n",
            "\n",
            "Replication 6/10\n"
          ],
          "name": "stdout"
        },
        {
          "output_type": "stream",
          "text": [
            ""
          ],
          "name": "stderr"
        },
        {
          "output_type": "stream",
          "text": [
            "Improved validation bound, old: -inf, new: -19.269\n",
            "Epoch: 1/100, log p(x) >= 23.557, ite_tr: 1.376, ate_tr: 0.211, pehe_tr: 1.392, rmse_f_tr: 1.513, rmse_cf_tr: 1.403, ite_te: 1.441, ate_te: 0.310, pehe_te: 1.353, dt: 3.115\n"
          ],
          "name": "stdout"
        },
        {
          "output_type": "stream",
          "text": [
            ""
          ],
          "name": "stderr"
        },
        {
          "output_type": "stream",
          "text": [
            "Improved validation bound, old: -19.269, new: -16.232\n",
            "Epoch: 11/100, log p(x) >= 17.514, ite_tr: 1.134, ate_tr: 0.071, pehe_tr: 0.840, rmse_f_tr: 1.245, rmse_cf_tr: 1.177, ite_te: 1.003, ate_te: 0.148, pehe_te: 0.778, dt: 2.750\n"
          ],
          "name": "stdout"
        },
        {
          "output_type": "stream",
          "text": [
            ""
          ],
          "name": "stderr"
        },
        {
          "output_type": "stream",
          "text": [
            "Epoch: 21/100, log p(x) >= 17.180, ite_tr: 1.123, ate_tr: 0.133, pehe_tr: 0.841, rmse_f_tr: 1.134, rmse_cf_tr: 1.183, ite_te: 1.137, ate_te: 0.013, pehe_te: 0.712, dt: 2.351\n"
          ],
          "name": "stdout"
        },
        {
          "output_type": "stream",
          "text": [
            ""
          ],
          "name": "stderr"
        },
        {
          "output_type": "stream",
          "text": [
            "Improved validation bound, old: -16.232, new: -15.814\n",
            "Epoch: 31/100, log p(x) >= 16.657, ite_tr: 1.143, ate_tr: 0.195, pehe_tr: 0.831, rmse_f_tr: 1.154, rmse_cf_tr: 1.185, ite_te: 1.097, ate_te: 0.039, pehe_te: 0.707, dt: 2.795\n"
          ],
          "name": "stdout"
        },
        {
          "output_type": "stream",
          "text": [
            ""
          ],
          "name": "stderr"
        },
        {
          "output_type": "stream",
          "text": [
            "Epoch: 41/100, log p(x) >= 16.384, ite_tr: 1.180, ate_tr: 0.392, pehe_tr: 0.929, rmse_f_tr: 1.112, rmse_cf_tr: 1.237, ite_te: 1.300, ate_te: 0.358, pehe_te: 0.895, dt: 2.347\n"
          ],
          "name": "stdout"
        },
        {
          "output_type": "stream",
          "text": [
            ""
          ],
          "name": "stderr"
        },
        {
          "output_type": "stream",
          "text": [
            "Epoch: 51/100, log p(x) >= 17.869, ite_tr: 1.168, ate_tr: 0.334, pehe_tr: 0.926, rmse_f_tr: 1.121, rmse_cf_tr: 1.210, ite_te: 1.138, ate_te: 0.166, pehe_te: 0.802, dt: 2.347\n"
          ],
          "name": "stdout"
        },
        {
          "output_type": "stream",
          "text": [
            ""
          ],
          "name": "stderr"
        },
        {
          "output_type": "stream",
          "text": [
            "Epoch: 61/100, log p(x) >= 19.846, ite_tr: 1.225, ate_tr: 0.055, pehe_tr: 1.008, rmse_f_tr: 1.146, rmse_cf_tr: 1.278, ite_te: 1.166, ate_te: 0.006, pehe_te: 0.924, dt: 2.329\n"
          ],
          "name": "stdout"
        },
        {
          "output_type": "stream",
          "text": [
            ""
          ],
          "name": "stderr"
        },
        {
          "output_type": "stream",
          "text": [
            "Epoch: 71/100, log p(x) >= 15.627, ite_tr: 1.267, ate_tr: 0.305, pehe_tr: 1.069, rmse_f_tr: 1.073, rmse_cf_tr: 1.345, ite_te: 1.274, ate_te: 0.213, pehe_te: 1.028, dt: 2.358\n"
          ],
          "name": "stdout"
        },
        {
          "output_type": "stream",
          "text": [
            ""
          ],
          "name": "stderr"
        },
        {
          "output_type": "stream",
          "text": [
            "Epoch: 81/100, log p(x) >= 15.314, ite_tr: 1.237, ate_tr: 0.139, pehe_tr: 0.999, rmse_f_tr: 1.017, rmse_cf_tr: 1.276, ite_te: 1.335, ate_te: 0.001, pehe_te: 1.044, dt: 2.347\n"
          ],
          "name": "stdout"
        },
        {
          "output_type": "stream",
          "text": [
            ""
          ],
          "name": "stderr"
        },
        {
          "output_type": "stream",
          "text": [
            "Epoch: 91/100, log p(x) >= 15.012, ite_tr: 1.338, ate_tr: 0.424, pehe_tr: 1.137, rmse_f_tr: 1.069, rmse_cf_tr: 1.359, ite_te: 1.274, ate_te: 0.403, pehe_te: 1.219, dt: 2.330\n"
          ],
          "name": "stdout"
        },
        {
          "output_type": "stream",
          "text": [
            ""
          ],
          "name": "stderr"
        },
        {
          "output_type": "stream",
          "text": [
            "INFO:tensorflow:Restoring parameters from models/m6-ihdp\n",
            " Sample 100/100\n",
            " Sample 100/100\n",
            "Replication: 6/10, tr_ite: 1.057, tr_ate: 0.184, tr_pehe: 0.586, te_ite: 1.006, te_ate: 0.015, te_pehe: 0.380\n",
            "\n",
            "Replication 7/10\n"
          ],
          "name": "stdout"
        },
        {
          "output_type": "stream",
          "text": [
            ""
          ],
          "name": "stderr"
        },
        {
          "output_type": "stream",
          "text": [
            "Improved validation bound, old: -inf, new: -19.252\n",
            "Epoch: 1/100, log p(x) >= 23.627, ite_tr: 1.566, ate_tr: 0.438, pehe_tr: 1.390, rmse_f_tr: 1.260, rmse_cf_tr: 1.543, ite_te: 1.635, ate_te: 0.496, pehe_te: 1.480, dt: 3.284\n"
          ],
          "name": "stdout"
        },
        {
          "output_type": "stream",
          "text": [
            ""
          ],
          "name": "stderr"
        },
        {
          "output_type": "stream",
          "text": [
            "Improved validation bound, old: -19.252, new: -16.401\n",
            "Epoch: 11/100, log p(x) >= 17.662, ite_tr: 1.159, ate_tr: 0.245, pehe_tr: 0.654, rmse_f_tr: 1.084, rmse_cf_tr: 1.167, ite_te: 1.065, ate_te: 0.373, pehe_te: 0.752, dt: 2.814\n"
          ],
          "name": "stdout"
        },
        {
          "output_type": "stream",
          "text": [
            ""
          ],
          "name": "stderr"
        },
        {
          "output_type": "stream",
          "text": [
            "Improved validation bound, old: -16.401, new: -16.257\n",
            "Epoch: 21/100, log p(x) >= 17.284, ite_tr: 1.182, ate_tr: 0.272, pehe_tr: 0.719, rmse_f_tr: 1.067, rmse_cf_tr: 1.180, ite_te: 1.131, ate_te: 0.156, pehe_te: 0.663, dt: 3.483\n"
          ],
          "name": "stdout"
        },
        {
          "output_type": "stream",
          "text": [
            ""
          ],
          "name": "stderr"
        },
        {
          "output_type": "stream",
          "text": [
            "Epoch: 31/100, log p(x) >= 18.599, ite_tr: 1.158, ate_tr: 0.088, pehe_tr: 0.621, rmse_f_tr: 1.068, rmse_cf_tr: 1.195, ite_te: 1.112, ate_te: 0.191, pehe_te: 0.600, dt: 2.345\n"
          ],
          "name": "stdout"
        },
        {
          "output_type": "stream",
          "text": [
            ""
          ],
          "name": "stderr"
        },
        {
          "output_type": "stream",
          "text": [
            "Improved validation bound, old: -16.257, new: -16.022\n",
            "Epoch: 41/100, log p(x) >= 16.199, ite_tr: 1.214, ate_tr: 0.133, pehe_tr: 0.746, rmse_f_tr: 1.003, rmse_cf_tr: 1.227, ite_te: 1.138, ate_te: 0.255, pehe_te: 0.812, dt: 2.827\n"
          ],
          "name": "stdout"
        },
        {
          "output_type": "stream",
          "text": [
            ""
          ],
          "name": "stderr"
        },
        {
          "output_type": "stream",
          "text": [
            "Improved validation bound, old: -16.022, new: -15.940\n",
            "Epoch: 51/100, log p(x) >= 16.047, ite_tr: 1.187, ate_tr: 0.111, pehe_tr: 0.790, rmse_f_tr: 1.004, rmse_cf_tr: 1.238, ite_te: 1.158, ate_te: 0.143, pehe_te: 0.773, dt: 3.011\n"
          ],
          "name": "stdout"
        },
        {
          "output_type": "stream",
          "text": [
            ""
          ],
          "name": "stderr"
        },
        {
          "output_type": "stream",
          "text": [
            "Epoch: 61/100, log p(x) >= 15.621, ite_tr: 1.274, ate_tr: 0.484, pehe_tr: 0.977, rmse_f_tr: 0.995, rmse_cf_tr: 1.285, ite_te: 1.315, ate_te: 0.566, pehe_te: 1.047, dt: 2.356\n"
          ],
          "name": "stdout"
        },
        {
          "output_type": "stream",
          "text": [
            ""
          ],
          "name": "stderr"
        },
        {
          "output_type": "stream",
          "text": [
            "Epoch: 71/100, log p(x) >= 15.815, ite_tr: 1.333, ate_tr: 0.521, pehe_tr: 1.067, rmse_f_tr: 1.007, rmse_cf_tr: 1.339, ite_te: 1.258, ate_te: 0.648, pehe_te: 0.944, dt: 2.352\n"
          ],
          "name": "stdout"
        },
        {
          "output_type": "stream",
          "text": [
            ""
          ],
          "name": "stderr"
        },
        {
          "output_type": "stream",
          "text": [
            "Epoch: 81/100, log p(x) >= 15.580, ite_tr: 1.249, ate_tr: 0.154, pehe_tr: 0.873, rmse_f_tr: 0.959, rmse_cf_tr: 1.273, ite_te: 1.254, ate_te: 0.252, pehe_te: 0.883, dt: 2.363\n"
          ],
          "name": "stdout"
        },
        {
          "output_type": "stream",
          "text": [
            ""
          ],
          "name": "stderr"
        },
        {
          "output_type": "stream",
          "text": [
            "Epoch: 91/100, log p(x) >= 16.059, ite_tr: 1.162, ate_tr: 0.169, pehe_tr: 0.874, rmse_f_tr: 0.954, rmse_cf_tr: 1.261, ite_te: 1.213, ate_te: 0.208, pehe_te: 0.967, dt: 2.376\n"
          ],
          "name": "stdout"
        },
        {
          "output_type": "stream",
          "text": [
            ""
          ],
          "name": "stderr"
        },
        {
          "output_type": "stream",
          "text": [
            "INFO:tensorflow:Restoring parameters from models/m6-ihdp\n",
            " Sample 100/100\n",
            " Sample 100/100\n",
            "Replication: 7/10, tr_ite: 1.114, tr_ate: 0.081, tr_pehe: 0.609, te_ite: 1.082, te_ate: 0.120, te_pehe: 0.517\n",
            "\n",
            "Replication 8/10\n"
          ],
          "name": "stdout"
        },
        {
          "output_type": "stream",
          "text": [
            ""
          ],
          "name": "stderr"
        },
        {
          "output_type": "stream",
          "text": [
            "Improved validation bound, old: -inf, new: -19.250\n",
            "Epoch: 1/100, log p(x) >= 23.557, ite_tr: 1.749, ate_tr: 0.230, pehe_tr: 1.915, rmse_f_tr: 2.086, rmse_cf_tr: 1.691, ite_te: 1.509, ate_te: 0.285, pehe_te: 1.476, dt: 3.267\n"
          ],
          "name": "stdout"
        },
        {
          "output_type": "stream",
          "text": [
            ""
          ],
          "name": "stderr"
        },
        {
          "output_type": "stream",
          "text": [
            "Improved validation bound, old: -19.250, new: -16.532\n",
            "Epoch: 11/100, log p(x) >= 17.517, ite_tr: 1.392, ate_tr: 0.041, pehe_tr: 1.434, rmse_f_tr: 1.726, rmse_cf_tr: 1.319, ite_te: 1.116, ate_te: 0.033, pehe_te: 1.518, dt: 2.838\n"
          ],
          "name": "stdout"
        },
        {
          "output_type": "stream",
          "text": [
            ""
          ],
          "name": "stderr"
        },
        {
          "output_type": "stream",
          "text": [
            "Epoch: 21/100, log p(x) >= 17.426, ite_tr: 1.430, ate_tr: 0.025, pehe_tr: 1.488, rmse_f_tr: 1.637, rmse_cf_tr: 1.386, ite_te: 1.138, ate_te: 0.015, pehe_te: 1.490, dt: 2.340\n"
          ],
          "name": "stdout"
        },
        {
          "output_type": "stream",
          "text": [
            ""
          ],
          "name": "stderr"
        },
        {
          "output_type": "stream",
          "text": [
            "Improved validation bound, old: -16.532, new: -16.515\n",
            "Epoch: 31/100, log p(x) >= 16.999, ite_tr: 1.460, ate_tr: 0.002, pehe_tr: 1.466, rmse_f_tr: 1.577, rmse_cf_tr: 1.376, ite_te: 1.201, ate_te: 0.088, pehe_te: 1.203, dt: 3.231\n"
          ],
          "name": "stdout"
        },
        {
          "output_type": "stream",
          "text": [
            ""
          ],
          "name": "stderr"
        },
        {
          "output_type": "stream",
          "text": [
            "Improved validation bound, old: -16.515, new: -16.023\n",
            "Epoch: 41/100, log p(x) >= 16.026, ite_tr: 1.469, ate_tr: 0.100, pehe_tr: 1.454, rmse_f_tr: 1.461, rmse_cf_tr: 1.393, ite_te: 1.166, ate_te: 0.344, pehe_te: 1.449, dt: 2.849\n"
          ],
          "name": "stdout"
        },
        {
          "output_type": "stream",
          "text": [
            ""
          ],
          "name": "stderr"
        },
        {
          "output_type": "stream",
          "text": [
            "Epoch: 51/100, log p(x) >= 15.879, ite_tr: 1.426, ate_tr: 0.007, pehe_tr: 1.316, rmse_f_tr: 1.444, rmse_cf_tr: 1.371, ite_te: 1.230, ate_te: 0.145, pehe_te: 1.391, dt: 2.363\n"
          ],
          "name": "stdout"
        },
        {
          "output_type": "stream",
          "text": [
            ""
          ],
          "name": "stderr"
        },
        {
          "output_type": "stream",
          "text": [
            "Epoch: 61/100, log p(x) >= 15.476, ite_tr: 1.457, ate_tr: 0.062, pehe_tr: 1.394, rmse_f_tr: 1.423, rmse_cf_tr: 1.366, ite_te: 1.208, ate_te: 0.014, pehe_te: 1.356, dt: 2.375\n"
          ],
          "name": "stdout"
        },
        {
          "output_type": "stream",
          "text": [
            ""
          ],
          "name": "stderr"
        },
        {
          "output_type": "stream",
          "text": [
            "Epoch: 71/100, log p(x) >= 15.315, ite_tr: 1.480, ate_tr: 0.081, pehe_tr: 1.423, rmse_f_tr: 1.415, rmse_cf_tr: 1.392, ite_te: 1.142, ate_te: 0.231, pehe_te: 1.363, dt: 2.509\n"
          ],
          "name": "stdout"
        },
        {
          "output_type": "stream",
          "text": [
            ""
          ],
          "name": "stderr"
        },
        {
          "output_type": "stream",
          "text": [
            "Epoch: 81/100, log p(x) >= 14.724, ite_tr: 1.450, ate_tr: 0.311, pehe_tr: 1.469, rmse_f_tr: 1.420, rmse_cf_tr: 1.403, ite_te: 1.209, ate_te: 0.662, pehe_te: 1.591, dt: 2.374\n"
          ],
          "name": "stdout"
        },
        {
          "output_type": "stream",
          "text": [
            ""
          ],
          "name": "stderr"
        },
        {
          "output_type": "stream",
          "text": [
            "Epoch: 91/100, log p(x) >= 14.382, ite_tr: 1.502, ate_tr: 0.075, pehe_tr: 1.411, rmse_f_tr: 1.193, rmse_cf_tr: 1.436, ite_te: 1.098, ate_te: 0.195, pehe_te: 1.174, dt: 2.373\n"
          ],
          "name": "stdout"
        },
        {
          "output_type": "stream",
          "text": [
            ""
          ],
          "name": "stderr"
        },
        {
          "output_type": "stream",
          "text": [
            "INFO:tensorflow:Restoring parameters from models/m6-ihdp\n"
          ],
          "name": "stdout"
        },
        {
          "output_type": "stream",
          "text": [
            "epoch #99| 97%|################################################  |ETA:  0:00:00\r"
          ],
          "name": "stderr"
        },
        {
          "output_type": "stream",
          "text": [
            " Sample 100/100\n",
            " Sample 100/100\n",
            "Replication: 8/10, tr_ite: 1.332, tr_ate: 0.024, tr_pehe: 0.988, te_ite: 0.951, te_ate: 0.147, te_pehe: 0.938\n",
            "\n",
            "Replication 9/10\n"
          ],
          "name": "stdout"
        },
        {
          "output_type": "stream",
          "text": [
            ""
          ],
          "name": "stderr"
        },
        {
          "output_type": "stream",
          "text": [
            "Improved validation bound, old: -inf, new: -19.447\n",
            "Epoch: 1/100, log p(x) >= 23.413, ite_tr: 11.722, ate_tr: 0.432, pehe_tr: 23.576, rmse_f_tr: 20.286, rmse_cf_tr: 11.734, ite_te: 9.147, ate_te: 5.609, pehe_te: 18.601, dt: 3.208\n"
          ],
          "name": "stdout"
        },
        {
          "output_type": "stream",
          "text": [
            ""
          ],
          "name": "stderr"
        },
        {
          "output_type": "stream",
          "text": [
            "Improved validation bound, old: -19.447, new: -16.734\n",
            "Epoch: 11/100, log p(x) >= 18.107, ite_tr: 8.642, ate_tr: 2.637, pehe_tr: 17.526, rmse_f_tr: 15.582, rmse_cf_tr: 8.581, ite_te: 6.069, ate_te: 1.413, pehe_te: 11.821, dt: 2.854\n"
          ],
          "name": "stdout"
        },
        {
          "output_type": "stream",
          "text": [
            ""
          ],
          "name": "stderr"
        },
        {
          "output_type": "stream",
          "text": [
            "Epoch: 21/100, log p(x) >= 16.882, ite_tr: 8.306, ate_tr: 0.675, pehe_tr: 16.281, rmse_f_tr: 14.172, rmse_cf_tr: 8.294, ite_te: 3.765, ate_te: 0.925, pehe_te: 10.883, dt: 2.339\n"
          ],
          "name": "stdout"
        },
        {
          "output_type": "stream",
          "text": [
            ""
          ],
          "name": "stderr"
        },
        {
          "output_type": "stream",
          "text": [
            "Improved validation bound, old: -16.734, new: -16.202\n",
            "Epoch: 31/100, log p(x) >= 16.344, ite_tr: 8.541, ate_tr: 0.108, pehe_tr: 16.887, rmse_f_tr: 14.609, rmse_cf_tr: 8.519, ite_te: 6.199, ate_te: 3.872, pehe_te: 12.700, dt: 2.834\n"
          ],
          "name": "stdout"
        },
        {
          "output_type": "stream",
          "text": [
            ""
          ],
          "name": "stderr"
        },
        {
          "output_type": "stream",
          "text": [
            "Epoch: 41/100, log p(x) >= 16.947, ite_tr: 8.721, ate_tr: 1.182, pehe_tr: 16.163, rmse_f_tr: 13.765, rmse_cf_tr: 8.664, ite_te: 4.251, ate_te: 3.251, pehe_te: 13.399, dt: 2.392\n"
          ],
          "name": "stdout"
        },
        {
          "output_type": "stream",
          "text": [
            ""
          ],
          "name": "stderr"
        },
        {
          "output_type": "stream",
          "text": [
            "Epoch: 51/100, log p(x) >= 15.651, ite_tr: 8.395, ate_tr: 1.100, pehe_tr: 15.830, rmse_f_tr: 13.621, rmse_cf_tr: 8.338, ite_te: 6.113, ate_te: 2.900, pehe_te: 12.742, dt: 2.357\n"
          ],
          "name": "stdout"
        },
        {
          "output_type": "stream",
          "text": [
            ""
          ],
          "name": "stderr"
        },
        {
          "output_type": "stream",
          "text": [
            "Epoch: 61/100, log p(x) >= 17.448, ite_tr: 8.186, ate_tr: 0.813, pehe_tr: 15.542, rmse_f_tr: 13.391, rmse_cf_tr: 8.145, ite_te: 6.026, ate_te: 2.923, pehe_te: 14.015, dt: 2.372\n"
          ],
          "name": "stdout"
        },
        {
          "output_type": "stream",
          "text": [
            ""
          ],
          "name": "stderr"
        },
        {
          "output_type": "stream",
          "text": [
            "Epoch: 71/100, log p(x) >= 15.633, ite_tr: 8.511, ate_tr: 2.653, pehe_tr: 15.525, rmse_f_tr: 13.289, rmse_cf_tr: 8.470, ite_te: 4.294, ate_te: 1.563, pehe_te: 13.134, dt: 2.337\n"
          ],
          "name": "stdout"
        },
        {
          "output_type": "stream",
          "text": [
            ""
          ],
          "name": "stderr"
        },
        {
          "output_type": "stream",
          "text": [
            "Epoch: 81/100, log p(x) >= 14.985, ite_tr: 8.272, ate_tr: 0.134, pehe_tr: 15.266, rmse_f_tr: 13.074, rmse_cf_tr: 8.268, ite_te: 4.588, ate_te: 3.313, pehe_te: 11.609, dt: 2.356\n"
          ],
          "name": "stdout"
        },
        {
          "output_type": "stream",
          "text": [
            ""
          ],
          "name": "stderr"
        },
        {
          "output_type": "stream",
          "text": [
            "Epoch: 91/100, log p(x) >= 14.538, ite_tr: 8.077, ate_tr: 2.053, pehe_tr: 14.960, rmse_f_tr: 12.722, rmse_cf_tr: 8.039, ite_te: 6.140, ate_te: 2.734, pehe_te: 13.177, dt: 2.394\n"
          ],
          "name": "stdout"
        },
        {
          "output_type": "stream",
          "text": [
            ""
          ],
          "name": "stderr"
        },
        {
          "output_type": "stream",
          "text": [
            "INFO:tensorflow:Restoring parameters from models/m6-ihdp\n",
            " Sample 100/100\n",
            " Sample 100/100\n",
            "Replication: 9/10, tr_ite: 7.421, tr_ate: 0.330, tr_pehe: 14.157, te_ite: 4.878, te_ate: 3.144, te_pehe: 10.259\n",
            "\n",
            "Replication 10/10\n"
          ],
          "name": "stdout"
        },
        {
          "output_type": "stream",
          "text": [
            ""
          ],
          "name": "stderr"
        },
        {
          "output_type": "stream",
          "text": [
            "Improved validation bound, old: -inf, new: -19.322\n",
            "Epoch: 1/100, log p(x) >= 23.486, ite_tr: 4.169, ate_tr: 0.263, pehe_tr: 8.066, rmse_f_tr: 7.252, rmse_cf_tr: 4.243, ite_te: 3.625, ate_te: 0.083, pehe_te: 6.576, dt: 3.207\n"
          ],
          "name": "stdout"
        },
        {
          "output_type": "stream",
          "text": [
            ""
          ],
          "name": "stderr"
        },
        {
          "output_type": "stream",
          "text": [
            "Improved validation bound, old: -19.322, new: -16.987\n",
            "Epoch: 11/100, log p(x) >= 18.252, ite_tr: 3.284, ate_tr: 0.885, pehe_tr: 5.853, rmse_f_tr: 5.249, rmse_cf_tr: 3.320, ite_te: 3.609, ate_te: 0.877, pehe_te: 6.377, dt: 2.990\n"
          ],
          "name": "stdout"
        },
        {
          "output_type": "stream",
          "text": [
            ""
          ],
          "name": "stderr"
        },
        {
          "output_type": "stream",
          "text": [
            "Improved validation bound, old: -16.987, new: -16.328\n",
            "Epoch: 21/100, log p(x) >= 17.281, ite_tr: 3.134, ate_tr: 0.071, pehe_tr: 5.579, rmse_f_tr: 5.029, rmse_cf_tr: 3.188, ite_te: 2.383, ate_te: 0.603, pehe_te: 5.053, dt: 3.197\n"
          ],
          "name": "stdout"
        },
        {
          "output_type": "stream",
          "text": [
            ""
          ],
          "name": "stderr"
        },
        {
          "output_type": "stream",
          "text": [
            "Improved validation bound, old: -16.328, new: -16.280\n",
            "Epoch: 31/100, log p(x) >= 16.570, ite_tr: 2.564, ate_tr: 0.251, pehe_tr: 5.298, rmse_f_tr: 4.973, rmse_cf_tr: 2.614, ite_te: 2.759, ate_te: 0.008, pehe_te: 5.121, dt: 2.843\n"
          ],
          "name": "stdout"
        },
        {
          "output_type": "stream",
          "text": [
            ""
          ],
          "name": "stderr"
        },
        {
          "output_type": "stream",
          "text": [
            "Epoch: 41/100, log p(x) >= 15.921, ite_tr: 2.873, ate_tr: 0.049, pehe_tr: 5.240, rmse_f_tr: 4.758, rmse_cf_tr: 2.916, ite_te: 2.786, ate_te: 0.776, pehe_te: 4.534, dt: 2.374\n"
          ],
          "name": "stdout"
        },
        {
          "output_type": "stream",
          "text": [
            ""
          ],
          "name": "stderr"
        },
        {
          "output_type": "stream",
          "text": [
            "Epoch: 51/100, log p(x) >= 16.486, ite_tr: 3.010, ate_tr: 0.216, pehe_tr: 5.323, rmse_f_tr: 4.757, rmse_cf_tr: 3.153, ite_te: 3.228, ate_te: 1.072, pehe_te: 5.626, dt: 2.383\n"
          ],
          "name": "stdout"
        },
        {
          "output_type": "stream",
          "text": [
            ""
          ],
          "name": "stderr"
        },
        {
          "output_type": "stream",
          "text": [
            "Epoch: 61/100, log p(x) >= 15.661, ite_tr: 3.046, ate_tr: 0.122, pehe_tr: 5.054, rmse_f_tr: 4.228, rmse_cf_tr: 3.072, ite_te: 2.346, ate_te: 0.727, pehe_te: 4.709, dt: 2.354\n"
          ],
          "name": "stdout"
        },
        {
          "output_type": "stream",
          "text": [
            ""
          ],
          "name": "stderr"
        },
        {
          "output_type": "stream",
          "text": [
            "Epoch: 71/100, log p(x) >= 15.304, ite_tr: 2.854, ate_tr: 0.121, pehe_tr: 4.753, rmse_f_tr: 4.153, rmse_cf_tr: 2.887, ite_te: 2.529, ate_te: 0.716, pehe_te: 4.763, dt: 2.380\n"
          ],
          "name": "stdout"
        },
        {
          "output_type": "stream",
          "text": [
            ""
          ],
          "name": "stderr"
        },
        {
          "output_type": "stream",
          "text": [
            "Epoch: 81/100, log p(x) >= 15.316, ite_tr: 2.448, ate_tr: 0.271, pehe_tr: 4.348, rmse_f_tr: 3.792, rmse_cf_tr: 2.578, ite_te: 2.182, ate_te: 0.990, pehe_te: 4.200, dt: 2.384\n"
          ],
          "name": "stdout"
        },
        {
          "output_type": "stream",
          "text": [
            ""
          ],
          "name": "stderr"
        },
        {
          "output_type": "stream",
          "text": [
            "Epoch: 91/100, log p(x) >= 17.039, ite_tr: 2.524, ate_tr: 0.539, pehe_tr: 4.667, rmse_f_tr: 4.105, rmse_cf_tr: 2.612, ite_te: 3.276, ate_te: 0.422, pehe_te: 5.117, dt: 2.374\n"
          ],
          "name": "stdout"
        },
        {
          "output_type": "stream",
          "text": [
            ""
          ],
          "name": "stderr"
        },
        {
          "output_type": "stream",
          "text": [
            "INFO:tensorflow:Restoring parameters from models/m6-ihdp\n",
            " Sample 100/100\n",
            " Sample 100/100\n",
            "Replication: 10/10, tr_ite: 2.389, tr_ate: 0.657, tr_pehe: 3.783, te_ite: 2.514, te_ate: 0.220, te_pehe: 3.420\n"
          ],
          "name": "stdout"
        }
      ]
    },
    {
      "metadata": {
        "id": "Cp7yWoiha_PB",
        "colab_type": "code",
        "outputId": "4b38f6b4-0bac-43ce-fd33-4eeddb9576fe",
        "colab": {
          "base_uri": "https://localhost:8080/",
          "height": 54
        }
      },
      "cell_type": "code",
      "source": [
        "print 'CEVAE model total scores'\n",
        "means, stds = np.mean(scores, axis=0), sem(scores, axis=0)\n",
        "print 'train ITE: {:.3f}+-{:.3f}, train ATE: {:.3f}+-{:.3f}, train PEHE: {:.3f}+-{:.3f}' \\\n",
        "      ''.format(means[0], stds[0], means[1], stds[1], means[2], stds[2])"
      ],
      "execution_count": 0,
      "outputs": [
        {
          "output_type": "stream",
          "text": [
            "CEVAE model total scores\n",
            "train ITE: 1.947+-0.630, train ATE: 0.396+-0.169, train PEHE: 2.451+-1.324\n"
          ],
          "name": "stdout"
        }
      ]
    },
    {
      "metadata": {
        "id": "OUGKNfuLuS4p",
        "colab_type": "code",
        "outputId": "4cd160ea-197a-4dbe-fa8c-9d3ccd19e66e",
        "colab": {
          "base_uri": "https://localhost:8080/",
          "height": 35
        }
      },
      "cell_type": "code",
      "source": [
        "means, stds = np.mean(scores_test, axis=0), sem(scores_test, axis=0)\n",
        "print 'test ITE: {:.3f}+-{:.3f}, test ATE: {:.3f}+-{:.3f}, test PEHE: {:.3f}+-{:.3f}' \\\n",
        "      ''.format(means[0], stds[0], means[1], stds[1], means[2], stds[2])"
      ],
      "execution_count": 0,
      "outputs": [
        {
          "output_type": "stream",
          "text": [
            "test ITE: 1.549+-0.346, test ATE: 0.329+-0.184, test PEHE: 2.040+-0.976\n"
          ],
          "name": "stdout"
        }
      ]
    },
    {
      "metadata": {
        "id": "Z1j8D5dMuZDw",
        "colab_type": "code",
        "colab": {}
      },
      "cell_type": "code",
      "source": [
        ""
      ],
      "execution_count": 0,
      "outputs": []
    },
    {
      "metadata": {
        "id": "inqk2c-nu48G",
        "colab_type": "code",
        "colab": {}
      },
      "cell_type": "code",
      "source": [
        ""
      ],
      "execution_count": 0,
      "outputs": []
    },
    {
      "metadata": {
        "id": "NzZMy0Qfu4_H",
        "colab_type": "code",
        "colab": {}
      },
      "cell_type": "code",
      "source": [
        ""
      ],
      "execution_count": 0,
      "outputs": []
    },
    {
      "metadata": {
        "id": "3JmsZVZku5B-",
        "colab_type": "code",
        "outputId": "11dd45de-beef-4321-a9c5-519f37dbd075",
        "colab": {
          "base_uri": "https://localhost:8080/",
          "height": 35
        }
      },
      "cell_type": "code",
      "source": [
        "print(\"test\")"
      ],
      "execution_count": 0,
      "outputs": [
        {
          "output_type": "stream",
          "text": [
            "test\n"
          ],
          "name": "stdout"
        }
      ]
    },
    {
      "metadata": {
        "id": "HkDeiGAQZ07N",
        "colab_type": "code",
        "outputId": "f615d3eb-ee94-4e65-99ea-71695fb90b83",
        "colab": {
          "base_uri": "https://localhost:8080/",
          "height": 35
        }
      },
      "cell_type": "code",
      "source": [
        "print(\"test after connecting to github\")"
      ],
      "execution_count": 0,
      "outputs": [
        {
          "output_type": "stream",
          "text": [
            "test after connecting to github\n"
          ],
          "name": "stdout"
        }
      ]
    },
    {
      "metadata": {
        "id": "Uot0IDdVbFPq",
        "colab_type": "code",
        "outputId": "e0689c1f-da4c-4626-f9dd-1ffdd736d7cf",
        "colab": {
          "base_uri": "https://localhost:8080/",
          "height": 35
        }
      },
      "cell_type": "code",
      "source": [
        "print(\"another test after connecting to github\")"
      ],
      "execution_count": 0,
      "outputs": [
        {
          "output_type": "stream",
          "text": [
            "another test after connecting to github\n"
          ],
          "name": "stdout"
        }
      ]
    },
    {
      "metadata": {
        "id": "1D0qw_m2b061",
        "colab_type": "code",
        "colab": {}
      },
      "cell_type": "code",
      "source": [
        "#!pip freeze > requirements.txt"
      ],
      "execution_count": 0,
      "outputs": []
    },
    {
      "metadata": {
        "id": "JbZSSCP8u5ET",
        "colab_type": "code",
        "outputId": "008064b2-88ff-4a30-8126-680a8aca973a",
        "colab": {
          "base_uri": "https://localhost:8080/",
          "height": 35
        }
      },
      "cell_type": "code",
      "source": [
        "\"\"\" reference: https://arxiv.org/pdf/1705.08821.pdf \n",
        "    github: https://github.com/AMLab-Amsterdam/CEVAE \n",
        "\"\"\""
      ],
      "execution_count": 0,
      "outputs": [
        {
          "output_type": "execute_result",
          "data": {
            "text/plain": [
              "' reference: https://arxiv.org/pdf/1705.08821.pdf \\n    github: https://github.com/AMLab-Amsterdam/CEVAE \\n'"
            ]
          },
          "metadata": {
            "tags": []
          },
          "execution_count": 21
        }
      ]
    }
  ]
}