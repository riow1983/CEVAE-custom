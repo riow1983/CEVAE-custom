{
  "nbformat": 4,
  "nbformat_minor": 0,
  "metadata": {
    "colab": {
      "name": "cevae_ihdp2.ipynb",
      "version": "0.3.2",
      "provenance": [],
      "collapsed_sections": [],
      "include_colab_link": true
    },
    "kernelspec": {
      "name": "python2",
      "display_name": "Python 2"
    }
  },
  "cells": [
    {
      "cell_type": "markdown",
      "metadata": {
        "id": "view-in-github",
        "colab_type": "text"
      },
      "source": [
        "<a href=\"https://colab.research.google.com/github/riow1983/CEVAE-custom/blob/master/cevae_ihdp.ipynb\" target=\"_parent\"><img src=\"https://colab.research.google.com/assets/colab-badge.svg\" alt=\"Open In Colab\"/></a>"
      ]
    },
    {
      "metadata": {
        "id": "ZKTf8ZJxPMor",
        "colab_type": "code",
        "outputId": "88b07022-9514-4c0b-ce2b-4d053696858e",
        "colab": {
          "base_uri": "https://localhost:8080/",
          "height": 128
        }
      },
      "cell_type": "code",
      "source": [
        "from google.colab import drive\n",
        "drive.mount('/content/gdrive')"
      ],
      "execution_count": 0,
      "outputs": [
        {
          "output_type": "stream",
          "text": [
            "Go to this URL in a browser: https://accounts.google.com/o/oauth2/auth?client_id=947318989803-6bn6qk8qdgf4n4g3pfee6491hc0brc4i.apps.googleusercontent.com&redirect_uri=urn%3Aietf%3Awg%3Aoauth%3A2.0%3Aoob&scope=email%20https%3A%2F%2Fwww.googleapis.com%2Fauth%2Fdocs.test%20https%3A%2F%2Fwww.googleapis.com%2Fauth%2Fdrive%20https%3A%2F%2Fwww.googleapis.com%2Fauth%2Fdrive.photos.readonly%20https%3A%2F%2Fwww.googleapis.com%2Fauth%2Fpeopleapi.readonly&response_type=code\n",
            "\n",
            "Enter your authorization code:\n",
            "··········\n",
            "Mounted at /content/gdrive\n"
          ],
          "name": "stdout"
        }
      ]
    },
    {
      "metadata": {
        "id": "AIX2xw5UPRd-",
        "colab_type": "code",
        "outputId": "cf8c4bfd-ad34-4ccb-bf1b-490222125e03",
        "colab": {
          "base_uri": "https://localhost:8080/",
          "height": 35
        }
      },
      "cell_type": "code",
      "source": [
        "%cd ./gdrive/'My Drive'/'Colab Notebooks'/CEVAE"
      ],
      "execution_count": 0,
      "outputs": [
        {
          "output_type": "stream",
          "text": [
            "/content/gdrive/My Drive/Colab Notebooks/CEVAE\n"
          ],
          "name": "stdout"
        }
      ]
    },
    {
      "metadata": {
        "id": "qD8_XoGJvlOd",
        "colab_type": "code",
        "outputId": "3cb6d386-1e05-424e-94a5-ffb2d61a4c50",
        "colab": {
          "base_uri": "https://localhost:8080/",
          "height": 72
        }
      },
      "cell_type": "code",
      "source": [
        "!ls"
      ],
      "execution_count": 0,
      "outputs": [
        {
          "output_type": "stream",
          "text": [
            "cevae_ihdp.py  datasets.pyc    models\t    Untitled.ipynb\n",
            "datasets       evaluation.py   __pycache__  utils.py\n",
            "datasets.py    evaluation.pyc  README.md    utils.pyc\n"
          ],
          "name": "stdout"
        }
      ]
    },
    {
      "metadata": {
        "id": "_KIfU7cwhDB7",
        "colab_type": "code",
        "colab": {}
      },
      "cell_type": "code",
      "source": [
        "#!/usr/bin/env python\n",
        "\"\"\"CEVAE model on IHDP\n",
        "\"\"\"\n",
        "from __future__ import absolute_import\n",
        "from __future__ import division"
      ],
      "execution_count": 0,
      "outputs": []
    },
    {
      "metadata": {
        "id": "4y5kNLflhLsk",
        "colab_type": "code",
        "outputId": "4b673c63-a59c-486e-d8cd-58d408821fc9",
        "colab": {
          "base_uri": "https://localhost:8080/",
          "height": 165
        }
      },
      "cell_type": "code",
      "source": [
        "!pip install edward==1.3.1"
      ],
      "execution_count": 0,
      "outputs": [
        {
          "output_type": "stream",
          "text": [
            "Collecting edward==1.3.1\n",
            "\u001b[?25l  Downloading https://files.pythonhosted.org/packages/36/13/eb107ccde57f661faaa775b47637bf39d17ad11788dd07a22eb7ae6033b2/edward-1.3.1-py2-none-any.whl (76kB)\n",
            "\u001b[K    100% |████████████████████████████████| 81kB 2.1MB/s \n",
            "\u001b[?25hRequirement already satisfied: numpy>=1.7 in /usr/local/lib/python2.7/dist-packages (from edward==1.3.1) (1.14.6)\n",
            "Requirement already satisfied: six>=1.10.0 in /usr/local/lib/python2.7/dist-packages (from edward==1.3.1) (1.11.0)\n",
            "Installing collected packages: edward\n",
            "Successfully installed edward-1.3.1\n"
          ],
          "name": "stdout"
        }
      ]
    },
    {
      "metadata": {
        "id": "cbWmKPBihl1S",
        "colab_type": "code",
        "outputId": "c56b6b7f-75d5-4e9f-c4f3-413bb0978430",
        "colab": {
          "base_uri": "https://localhost:8080/",
          "height": 365
        }
      },
      "cell_type": "code",
      "source": [
        "!pip install tensorflow==1.1.0"
      ],
      "execution_count": 0,
      "outputs": [
        {
          "output_type": "stream",
          "text": [
            "Collecting tensorflow==1.1.0\n",
            "\u001b[?25l  Downloading https://files.pythonhosted.org/packages/8a/73/74c610decd5e0a1fd7f441a32e3561d21c28ced98fd6d3d9d5c70dbf92ce/tensorflow-1.1.0-cp27-cp27mu-manylinux1_x86_64.whl (31.0MB)\n",
            "\u001b[K    100% |████████████████████████████████| 31.0MB 794kB/s \n",
            "\u001b[?25hRequirement already satisfied: numpy>=1.11.0 in /usr/local/lib/python2.7/dist-packages (from tensorflow==1.1.0) (1.14.6)\n",
            "Requirement already satisfied: mock>=2.0.0 in /usr/local/lib/python2.7/dist-packages (from tensorflow==1.1.0) (2.0.0)\n",
            "Requirement already satisfied: protobuf>=3.2.0 in /usr/local/lib/python2.7/dist-packages (from tensorflow==1.1.0) (3.7.1)\n",
            "Requirement already satisfied: wheel in /usr/local/lib/python2.7/dist-packages (from tensorflow==1.1.0) (0.33.1)\n",
            "Requirement already satisfied: six>=1.10.0 in /usr/local/lib/python2.7/dist-packages (from tensorflow==1.1.0) (1.11.0)\n",
            "Requirement already satisfied: werkzeug>=0.11.10 in /usr/local/lib/python2.7/dist-packages (from tensorflow==1.1.0) (0.15.2)\n",
            "Requirement already satisfied: funcsigs>=1; python_version < \"3.3\" in /usr/local/lib/python2.7/dist-packages (from mock>=2.0.0->tensorflow==1.1.0) (1.0.2)\n",
            "Requirement already satisfied: pbr>=0.11 in /usr/local/lib/python2.7/dist-packages (from mock>=2.0.0->tensorflow==1.1.0) (5.1.3)\n",
            "Requirement already satisfied: setuptools in /usr/local/lib/python2.7/dist-packages (from protobuf>=3.2.0->tensorflow==1.1.0) (40.9.0)\n",
            "\u001b[31mmagenta 0.3.19 has requirement tensorflow>=1.12.0, but you'll have tensorflow 1.1.0 which is incompatible.\u001b[0m\n",
            "Installing collected packages: tensorflow\n",
            "  Found existing installation: tensorflow 1.13.1\n",
            "    Uninstalling tensorflow-1.13.1:\n",
            "      Successfully uninstalled tensorflow-1.13.1\n",
            "Successfully installed tensorflow-1.1.0\n"
          ],
          "name": "stdout"
        }
      ]
    },
    {
      "metadata": {
        "id": "UQxD5XZZhmLt",
        "colab_type": "code",
        "outputId": "dc6dece3-d7fe-437e-b9e3-57347744eb26",
        "colab": {
          "base_uri": "https://localhost:8080/",
          "height": 183
        }
      },
      "cell_type": "code",
      "source": [
        "!pip install progressbar==2.3"
      ],
      "execution_count": 0,
      "outputs": [
        {
          "output_type": "stream",
          "text": [
            "Collecting progressbar==2.3\n",
            "  Downloading https://files.pythonhosted.org/packages/0f/e1/f30b72ecabba259c7c38dd0eb944a173effced3fd7de2c9c2902bd6f649a/progressbar-2.3.tar.gz\n",
            "Building wheels for collected packages: progressbar\n",
            "  Building wheel for progressbar (setup.py) ... \u001b[?25ldone\n",
            "\u001b[?25h  Stored in directory: /root/.cache/pip/wheels/43/b8/84/79e132723562a37268a1bb977761123234aff37d54f2526edd\n",
            "Successfully built progressbar\n",
            "Installing collected packages: progressbar\n",
            "Successfully installed progressbar-2.3\n"
          ],
          "name": "stdout"
        }
      ]
    },
    {
      "metadata": {
        "id": "TJw_KRN9hmSa",
        "colab_type": "code",
        "outputId": "eec85fe9-4679-435a-af41-9020c09d85ff",
        "colab": {
          "base_uri": "https://localhost:8080/",
          "height": 237
        }
      },
      "cell_type": "code",
      "source": [
        "!pip install scikit-learn==0.18.1"
      ],
      "execution_count": 0,
      "outputs": [
        {
          "output_type": "stream",
          "text": [
            "Collecting scikit-learn==0.18.1\n",
            "\u001b[?25l  Downloading https://files.pythonhosted.org/packages/ca/0f/bfadd2f0ef390c6d6d88624823dfa63479b4e68820de94a960d1a14c585d/scikit_learn-0.18.1-cp27-cp27mu-manylinux1_x86_64.whl (11.6MB)\n",
            "\u001b[K    100% |████████████████████████████████| 11.7MB 2.5MB/s \n",
            "\u001b[31mfancyimpute 0.4.2 has requirement scikit-learn>=0.19.1, but you'll have scikit-learn 0.18.1 which is incompatible.\u001b[0m\n",
            "\u001b[31mimbalanced-learn 0.4.3 has requirement scikit-learn>=0.20, but you'll have scikit-learn 0.18.1 which is incompatible.\u001b[0m\n",
            "\u001b[31myellowbrick 0.9.1 has requirement scikit-learn>=0.20, but you'll have scikit-learn 0.18.1 which is incompatible.\u001b[0m\n",
            "\u001b[?25hInstalling collected packages: scikit-learn\n",
            "  Found existing installation: scikit-learn 0.20.3\n",
            "    Uninstalling scikit-learn-0.20.3:\n",
            "      Successfully uninstalled scikit-learn-0.20.3\n",
            "Successfully installed scikit-learn-0.18.1\n"
          ],
          "name": "stdout"
        }
      ]
    },
    {
      "metadata": {
        "id": "BBP513rehDKi",
        "colab_type": "code",
        "colab": {}
      },
      "cell_type": "code",
      "source": [
        "import edward as ed\n",
        "#from tensorflow_probability import edward2 as ed\n",
        "import tensorflow as tf"
      ],
      "execution_count": 0,
      "outputs": []
    },
    {
      "metadata": {
        "id": "8sN2sUXqhDOa",
        "colab_type": "code",
        "colab": {}
      },
      "cell_type": "code",
      "source": [
        "from edward.models import Bernoulli, Normal\n",
        "from progressbar import ETA, Bar, Percentage, ProgressBar"
      ],
      "execution_count": 0,
      "outputs": []
    },
    {
      "metadata": {
        "id": "M6W6geOOhDRC",
        "colab_type": "code",
        "colab": {}
      },
      "cell_type": "code",
      "source": [
        "from datasets import IHDP\n",
        "from evaluation import Evaluator\n",
        "import numpy as np\n",
        "import time\n",
        "from scipy.stats import sem"
      ],
      "execution_count": 0,
      "outputs": []
    },
    {
      "metadata": {
        "id": "5MMrDDe2hDT6",
        "colab_type": "code",
        "colab": {}
      },
      "cell_type": "code",
      "source": [
        "from utils import fc_net, get_y0_y1\n",
        "#from argparse import ArgumentParser"
      ],
      "execution_count": 0,
      "outputs": []
    },
    {
      "metadata": {
        "id": "Drh9wTqNPwHy",
        "colab_type": "code",
        "colab": {}
      },
      "cell_type": "code",
      "source": [
        "import easydict"
      ],
      "execution_count": 0,
      "outputs": []
    },
    {
      "metadata": {
        "id": "PPRsumfsP7Qa",
        "colab_type": "code",
        "colab": {}
      },
      "cell_type": "code",
      "source": [
        "#args = parser.parse_args(argv[1:])\n",
        "\n",
        "args = easydict.EasyDict({\n",
        "    'reps': 10,\n",
        "    'earl': 10,\n",
        "    'lr': 0.001,\n",
        "    'opt': 'adamax',\n",
        "    'epochs': 100,\n",
        "    'print_every': 10\n",
        "})"
      ],
      "execution_count": 0,
      "outputs": []
    },
    {
      "metadata": {
        "id": "ZaFdCF7FP9kp",
        "colab_type": "code",
        "outputId": "141e4496-5ca8-4d4a-dde8-d833453468fe",
        "colab": {
          "base_uri": "https://localhost:8080/",
          "height": 35
        }
      },
      "cell_type": "code",
      "source": [
        "args.opt"
      ],
      "execution_count": 0,
      "outputs": [
        {
          "output_type": "execute_result",
          "data": {
            "text/plain": [
              "'adamax'"
            ]
          },
          "metadata": {
            "tags": []
          },
          "execution_count": 19
        }
      ]
    },
    {
      "metadata": {
        "id": "8j6aYArgQALA",
        "colab_type": "code",
        "colab": {}
      },
      "cell_type": "code",
      "source": [
        "dataset = IHDP(replications=args.reps)\n",
        "dimx = 25\n",
        "scores = np.zeros((args.reps, 3))\n",
        "scores_test = np.zeros((args.reps, 3))"
      ],
      "execution_count": 0,
      "outputs": []
    },
    {
      "metadata": {
        "id": "hIRAuiloQCzA",
        "colab_type": "code",
        "colab": {}
      },
      "cell_type": "code",
      "source": [
        "M = None  # batch size during training\n",
        "d = 20  # latent dimension\n",
        "lamba = 1e-4  # weight decay\n",
        "nh, h = 3, 200  # number and size of hidden layers"
      ],
      "execution_count": 0,
      "outputs": []
    },
    {
      "metadata": {
        "id": "UpCfSXwm2E_P",
        "colab_type": "code",
        "outputId": "d97b89fd-42b3-4981-8037-21c630cefa98",
        "colab": {
          "base_uri": "https://localhost:8080/",
          "height": 195
        }
      },
      "cell_type": "code",
      "source": [
        "(xtr, ttr, ytr), (y_cftr, mu0tr, mu1tr), (xva, tva, yva), (y_cfva, mu0va, mu1va), (xte, tte, yte), (y_cfte, mu0te, mu1te), contfeats, binfeats = dataset.get_train_valid_test()"
      ],
      "execution_count": 0,
      "outputs": [
        {
          "output_type": "error",
          "ename": "ValueError",
          "evalue": "ignored",
          "traceback": [
            "\u001b[0;31m\u001b[0m",
            "\u001b[0;31mValueError\u001b[0mTraceback (most recent call last)",
            "\u001b[0;32m<ipython-input-26-d02214f7fc25>\u001b[0m in \u001b[0;36m<module>\u001b[0;34m()\u001b[0m\n\u001b[0;32m----> 1\u001b[0;31m \u001b[0;34m(\u001b[0m\u001b[0mxtr\u001b[0m\u001b[0;34m,\u001b[0m \u001b[0mttr\u001b[0m\u001b[0;34m,\u001b[0m \u001b[0mytr\u001b[0m\u001b[0;34m)\u001b[0m\u001b[0;34m,\u001b[0m \u001b[0;34m(\u001b[0m\u001b[0my_cftr\u001b[0m\u001b[0;34m,\u001b[0m \u001b[0mmu0tr\u001b[0m\u001b[0;34m,\u001b[0m \u001b[0mmu1tr\u001b[0m\u001b[0;34m)\u001b[0m\u001b[0;34m,\u001b[0m \u001b[0;34m(\u001b[0m\u001b[0mxva\u001b[0m\u001b[0;34m,\u001b[0m \u001b[0mtva\u001b[0m\u001b[0;34m,\u001b[0m \u001b[0myva\u001b[0m\u001b[0;34m)\u001b[0m\u001b[0;34m,\u001b[0m \u001b[0;34m(\u001b[0m\u001b[0my_cfva\u001b[0m\u001b[0;34m,\u001b[0m \u001b[0mmu0va\u001b[0m\u001b[0;34m,\u001b[0m \u001b[0mmu1va\u001b[0m\u001b[0;34m)\u001b[0m\u001b[0;34m,\u001b[0m \u001b[0;34m(\u001b[0m\u001b[0mxte\u001b[0m\u001b[0;34m,\u001b[0m \u001b[0mtte\u001b[0m\u001b[0;34m,\u001b[0m \u001b[0myte\u001b[0m\u001b[0;34m)\u001b[0m\u001b[0;34m,\u001b[0m \u001b[0;34m(\u001b[0m\u001b[0my_cfte\u001b[0m\u001b[0;34m,\u001b[0m \u001b[0mmu0te\u001b[0m\u001b[0;34m,\u001b[0m \u001b[0mmu1te\u001b[0m\u001b[0;34m)\u001b[0m\u001b[0;34m,\u001b[0m \u001b[0mcontfeats\u001b[0m\u001b[0;34m,\u001b[0m \u001b[0mbinfeats\u001b[0m \u001b[0;34m=\u001b[0m \u001b[0mdataset\u001b[0m\u001b[0;34m.\u001b[0m\u001b[0mget_train_valid_test\u001b[0m\u001b[0;34m(\u001b[0m\u001b[0;34m)\u001b[0m\u001b[0;34m\u001b[0m\u001b[0m\n\u001b[0m",
            "\u001b[0;31mValueError\u001b[0m: too many values to unpack"
          ]
        }
      ]
    },
    {
      "metadata": {
        "id": "54_UotHGQgsY",
        "colab_type": "code",
        "outputId": "49abf5b7-a612-4fc4-cbd7-e290b88287e2",
        "colab": {
          "base_uri": "https://localhost:8080/",
          "height": 3783
        }
      },
      "cell_type": "code",
      "source": [
        "for i, (train, valid, test, contfeats, binfeats) in enumerate(dataset.get_train_valid_test()):\n",
        "    print '\\nReplication {}/{}'.format(i + 1, args.reps)\n",
        "    (xtr, ttr, ytr), (y_cftr, mu0tr, mu1tr) = train\n",
        "    (xva, tva, yva), (y_cfva, mu0va, mu1va) = valid\n",
        "    (xte, tte, yte), (y_cfte, mu0te, mu1te) = test\n",
        "    evaluator_test = Evaluator(yte, tte, y_cf=y_cfte, mu0=mu0te, mu1=mu1te)\n",
        "\n",
        "    # reorder features with binary first and continuous after\n",
        "    perm = binfeats + contfeats\n",
        "    xtr, xva, xte = xtr[:, perm], xva[:, perm], xte[:, perm]\n",
        "\n",
        "    xalltr, talltr, yalltr = np.concatenate([xtr, xva], axis=0), np.concatenate([ttr, tva], axis=0), np.concatenate([ytr, yva], axis=0)\n",
        "    evaluator_train = Evaluator(yalltr, talltr, y_cf=np.concatenate([y_cftr, y_cfva], axis=0),\n",
        "                                mu0=np.concatenate([mu0tr, mu0va], axis=0), mu1=np.concatenate([mu1tr, mu1va], axis=0))\n",
        "\n",
        "    # zero mean, unit variance for y during training\n",
        "    ym, ys = np.mean(ytr), np.std(ytr)\n",
        "    ytr, yva = (ytr - ym) / ys, (yva - ym) / ys\n",
        "    best_logpvalid = - np.inf\n",
        "\n",
        "    with tf.Graph().as_default():\n",
        "        sess = tf.InteractiveSession()\n",
        "\n",
        "        ed.set_seed(1)\n",
        "        np.random.seed(1)\n",
        "        tf.set_random_seed(1)\n",
        "\n",
        "        x_ph_bin = tf.placeholder(tf.float32, [M, len(binfeats)], name='x_bin')  # binary inputs\n",
        "        x_ph_cont = tf.placeholder(tf.float32, [M, len(contfeats)], name='x_cont')  # continuous inputs\n",
        "        t_ph = tf.placeholder(tf.float32, [M, 1])\n",
        "        y_ph = tf.placeholder(tf.float32, [M, 1])\n",
        "\n",
        "        x_ph = tf.concat([x_ph_bin, x_ph_cont], 1)\n",
        "        activation = tf.nn.elu\n",
        "\n",
        "        # CEVAE model (decoder)\n",
        "        # p(z)\n",
        "        z = Normal(loc=tf.zeros([tf.shape(x_ph)[0], d]), scale=tf.ones([tf.shape(x_ph)[0], d]))\n",
        "\n",
        "        # p(x|z)\n",
        "        hx = fc_net(z, (nh - 1) * [h], [], 'px_z_shared', lamba=lamba, activation=activation)\n",
        "        logits = fc_net(hx, [h], [[len(binfeats), None]], 'px_z_bin'.format(i + 1), lamba=lamba, activation=activation)\n",
        "        x1 = Bernoulli(logits=logits, dtype=tf.float32, name='bernoulli_px_z')\n",
        "\n",
        "        mu, sigma = fc_net(hx, [h], [[len(contfeats), None], [len(contfeats), tf.nn.softplus]], 'px_z_cont', lamba=lamba,\n",
        "                           activation=activation)\n",
        "        x2 = Normal(loc=mu, scale=sigma, name='gaussian_px_z')\n",
        "\n",
        "        # p(t|z)\n",
        "        logits = fc_net(z, [h], [[1, None]], 'pt_z', lamba=lamba, activation=activation)\n",
        "        t = Bernoulli(logits=logits, dtype=tf.float32)\n",
        "\n",
        "        # p(y|t,z)\n",
        "        mu2_t0 = fc_net(z, nh * [h], [[1, None]], 'py_t0z', lamba=lamba, activation=activation)\n",
        "        mu2_t1 = fc_net(z, nh * [h], [[1, None]], 'py_t1z', lamba=lamba, activation=activation)\n",
        "        y = Normal(loc=t * mu2_t1 + (1. - t) * mu2_t0, scale=tf.ones_like(mu2_t0))\n",
        "\n",
        "        # CEVAE variational approximation (encoder)\n",
        "        # q(t|x)\n",
        "        logits_t = fc_net(x_ph, [d], [[1, None]], 'qt', lamba=lamba, activation=activation)\n",
        "        qt = Bernoulli(logits=logits_t, dtype=tf.float32)\n",
        "        # q(y|x,t)\n",
        "        hqy = fc_net(x_ph, (nh - 1) * [h], [], 'qy_xt_shared', lamba=lamba, activation=activation)\n",
        "        mu_qy_t0 = fc_net(hqy, [h], [[1, None]], 'qy_xt0', lamba=lamba, activation=activation)\n",
        "        mu_qy_t1 = fc_net(hqy, [h], [[1, None]], 'qy_xt1', lamba=lamba, activation=activation)\n",
        "        qy = Normal(loc=qt * mu_qy_t1 + (1. - qt) * mu_qy_t0, scale=tf.ones_like(mu_qy_t0))\n",
        "        # q(z|x,t,y)\n",
        "        inpt2 = tf.concat([x_ph, qy], 1)\n",
        "        hqz = fc_net(inpt2, (nh - 1) * [h], [], 'qz_xty_shared', lamba=lamba, activation=activation)\n",
        "        muq_t0, sigmaq_t0 = fc_net(hqz, [h], [[d, None], [d, tf.nn.softplus]], 'qz_xt0', lamba=lamba,\n",
        "                                   activation=activation)\n",
        "        muq_t1, sigmaq_t1 = fc_net(hqz, [h], [[d, None], [d, tf.nn.softplus]], 'qz_xt1', lamba=lamba,\n",
        "                                   activation=activation)\n",
        "        qz = Normal(loc=qt * muq_t1 + (1. - qt) * muq_t0, scale=qt * sigmaq_t1 + (1. - qt) * sigmaq_t0)\n",
        "\n",
        "        # Create data dictionary for edward\n",
        "        data = {x1: x_ph_bin, x2: x_ph_cont, y: y_ph, qt: t_ph, t: t_ph, qy: y_ph}\n",
        "\n",
        "        # sample posterior predictive for p(y|z,t)\n",
        "        y_post = ed.copy(y, {z: qz, t: t_ph}, scope='y_post')\n",
        "        # crude approximation of the above\n",
        "        y_post_mean = ed.copy(y, {z: qz.mean(), t: t_ph}, scope='y_post_mean')\n",
        "        # construct a deterministic version (i.e. use the mean of the approximate posterior) of the lower bound\n",
        "        # for early stopping according to a validation set\n",
        "        y_post_eval = ed.copy(y, {z: qz.mean(), qt: t_ph, qy: y_ph, t: t_ph}, scope='y_post_eval')\n",
        "        x1_post_eval = ed.copy(x1, {z: qz.mean(), qt: t_ph, qy: y_ph}, scope='x1_post_eval')\n",
        "        x2_post_eval = ed.copy(x2, {z: qz.mean(), qt: t_ph, qy: y_ph}, scope='x2_post_eval')\n",
        "        t_post_eval = ed.copy(t, {z: qz.mean(), qt: t_ph, qy: y_ph}, scope='t_post_eval')\n",
        "        logp_valid = tf.reduce_mean(tf.reduce_sum(y_post_eval.log_prob(y_ph) + t_post_eval.log_prob(t_ph), axis=1) +\n",
        "                                    tf.reduce_sum(x1_post_eval.log_prob(x_ph_bin), axis=1) +\n",
        "                                    tf.reduce_sum(x2_post_eval.log_prob(x_ph_cont), axis=1) +\n",
        "                                    tf.reduce_sum(z.log_prob(qz.mean()) - qz.log_prob(qz.mean()), axis=1))\n",
        "\n",
        "        inference = ed.KLqp({z: qz}, data)\n",
        "        optimizer = tf.train.AdamOptimizer(learning_rate=args.lr)\n",
        "        inference.initialize(optimizer=optimizer)\n",
        "\n",
        "        saver = tf.train.Saver(tf.contrib.slim.get_variables())\n",
        "        tf.global_variables_initializer().run()\n",
        "\n",
        "        n_epoch, n_iter_per_epoch, idx = args.epochs, 10 * int(xtr.shape[0] / 100), np.arange(xtr.shape[0])\n",
        "\n",
        "        # dictionaries needed for evaluation\n",
        "        tr0, tr1 = np.zeros((xalltr.shape[0], 1)), np.ones((xalltr.shape[0], 1))\n",
        "        tr0t, tr1t = np.zeros((xte.shape[0], 1)), np.ones((xte.shape[0], 1))\n",
        "        f1 = {x_ph_bin: xalltr[:, 0:len(binfeats)], x_ph_cont: xalltr[:, len(binfeats):], t_ph: tr1}\n",
        "        f0 = {x_ph_bin: xalltr[:, 0:len(binfeats)], x_ph_cont: xalltr[:, len(binfeats):], t_ph: tr0}\n",
        "        f1t = {x_ph_bin: xte[:, 0:len(binfeats)], x_ph_cont: xte[:, len(binfeats):], t_ph: tr1t}\n",
        "        f0t = {x_ph_bin: xte[:, 0:len(binfeats)], x_ph_cont: xte[:, len(binfeats):], t_ph: tr0t}\n",
        "\n",
        "        for epoch in range(n_epoch):\n",
        "            avg_loss = 0.0\n",
        "\n",
        "            t0 = time.time()\n",
        "            widgets = [\"epoch #%d|\" % epoch, Percentage(), Bar(), ETA()]\n",
        "            pbar = ProgressBar(n_iter_per_epoch, widgets=widgets)\n",
        "            pbar.start()\n",
        "            np.random.shuffle(idx)\n",
        "            for j in range(n_iter_per_epoch):\n",
        "                pbar.update(j)\n",
        "                batch = np.random.choice(idx, 100)\n",
        "                x_train, y_train, t_train = xtr[batch], ytr[batch], ttr[batch]\n",
        "                info_dict = inference.update(feed_dict={x_ph_bin: x_train[:, 0:len(binfeats)],\n",
        "                                                        x_ph_cont: x_train[:, len(binfeats):],\n",
        "                                                        t_ph: t_train, y_ph: y_train})\n",
        "                avg_loss += info_dict['loss']\n",
        "\n",
        "            avg_loss = avg_loss / n_iter_per_epoch\n",
        "            avg_loss = avg_loss / 100\n",
        "\n",
        "            if epoch % args.earl == 0 or epoch == (n_epoch - 1):\n",
        "                logpvalid = sess.run(logp_valid, feed_dict={x_ph_bin: xva[:, 0:len(binfeats)], x_ph_cont: xva[:, len(binfeats):],\n",
        "                                                            t_ph: tva, y_ph: yva})\n",
        "                if logpvalid >= best_logpvalid:\n",
        "                    print 'Improved validation bound, old: {:0.3f}, new: {:0.3f}'.format(best_logpvalid, logpvalid)\n",
        "                    best_logpvalid = logpvalid\n",
        "                    saver.save(sess, 'models/m6-ihdp')\n",
        "\n",
        "            if epoch % args.print_every == 0:\n",
        "                y0, y1 = get_y0_y1(sess, y_post, f0, f1, shape=yalltr.shape, L=1)\n",
        "                y0, y1 = y0 * ys + ym, y1 * ys + ym\n",
        "                score_train = evaluator_train.calc_stats(y1, y0)\n",
        "                rmses_train = evaluator_train.y_errors(y0, y1)\n",
        "\n",
        "                y0, y1 = get_y0_y1(sess, y_post, f0t, f1t, shape=yte.shape, L=1)\n",
        "                y0, y1 = y0 * ys + ym, y1 * ys + ym\n",
        "                score_test = evaluator_test.calc_stats(y1, y0)\n",
        "\n",
        "                print \"Epoch: {}/{}, log p(x) >= {:0.3f}, ite_tr: {:0.3f}, ate_tr: {:0.3f}, pehe_tr: {:0.3f}, \" \\\n",
        "                      \"rmse_f_tr: {:0.3f}, rmse_cf_tr: {:0.3f}, ite_te: {:0.3f}, ate_te: {:0.3f}, pehe_te: {:0.3f}, \" \\\n",
        "                      \"dt: {:0.3f}\".format(epoch + 1, n_epoch, avg_loss, score_train[0], score_train[1], score_train[2],\n",
        "                                           rmses_train[0], rmses_train[1], score_test[0], score_test[1], score_test[2],\n",
        "                                           time.time() - t0)\n",
        "\n",
        "        saver.restore(sess, 'models/m6-ihdp')\n",
        "        y0, y1 = get_y0_y1(sess, y_post, f0, f1, shape=yalltr.shape, L=100)\n",
        "        y0, y1 = y0 * ys + ym, y1 * ys + ym\n",
        "        score = evaluator_train.calc_stats(y1, y0)\n",
        "        scores[i, :] = score\n",
        "\n",
        "        y0t, y1t = get_y0_y1(sess, y_post, f0t, f1t, shape=yte.shape, L=100)\n",
        "        y0t, y1t = y0t * ys + ym, y1t * ys + ym\n",
        "        score_test = evaluator_test.calc_stats(y1t, y0t)\n",
        "        scores_test[i, :] = score_test\n",
        "\n",
        "        print 'Replication: {}/{}, tr_ite: {:0.3f}, tr_ate: {:0.3f}, tr_pehe: {:0.3f}' \\\n",
        "              ', te_ite: {:0.3f}, te_ate: {:0.3f}, te_pehe: {:0.3f}'.format(i + 1, args.reps,\n",
        "                                                                            score[0], score[1], score[2],\n",
        "                                                                            score_test[0], score_test[1], score_test[2])\n",
        "        sess.close()"
      ],
      "execution_count": 0,
      "outputs": [
        {
          "output_type": "stream",
          "text": [
            "\n",
            "Replication 1/10\n"
          ],
          "name": "stdout"
        },
        {
          "output_type": "stream",
          "text": [
            ""
          ],
          "name": "stderr"
        },
        {
          "output_type": "stream",
          "text": [
            "Improved validation bound, old: -inf, new: -19.177\n",
            "Epoch: 1/100, log p(x) >= 23.637, ite_tr: 1.362, ate_tr: 0.472, pehe_tr: 1.222, rmse_f_tr: 1.482, rmse_cf_tr: 1.358, ite_te: 1.266, ate_te: 0.596, pehe_te: 1.294, dt: 2.826\n"
          ],
          "name": "stdout"
        },
        {
          "output_type": "stream",
          "text": [
            ""
          ],
          "name": "stderr"
        },
        {
          "output_type": "stream",
          "text": [
            "Improved validation bound, old: -19.177, new: -16.452\n",
            "Epoch: 11/100, log p(x) >= 17.650, ite_tr: 1.204, ate_tr: 0.043, pehe_tr: 0.891, rmse_f_tr: 1.208, rmse_cf_tr: 1.247, ite_te: 1.102, ate_te: 0.179, pehe_te: 1.106, dt: 2.520\n"
          ],
          "name": "stdout"
        },
        {
          "output_type": "stream",
          "text": [
            ""
          ],
          "name": "stderr"
        },
        {
          "output_type": "stream",
          "text": [
            "Epoch: 21/100, log p(x) >= 16.961, ite_tr: 1.230, ate_tr: 0.216, pehe_tr: 0.869, rmse_f_tr: 1.208, rmse_cf_tr: 1.264, ite_te: 1.054, ate_te: 0.128, pehe_te: 0.788, dt: 2.164\n"
          ],
          "name": "stdout"
        },
        {
          "output_type": "stream",
          "text": [
            ""
          ],
          "name": "stderr"
        },
        {
          "output_type": "stream",
          "text": [
            "Improved validation bound, old: -16.452, new: -15.871\n",
            "Epoch: 31/100, log p(x) >= 16.294, ite_tr: 1.213, ate_tr: 0.091, pehe_tr: 0.885, rmse_f_tr: 1.134, rmse_cf_tr: 1.214, ite_te: 1.105, ate_te: 0.034, pehe_te: 1.018, dt: 2.792\n"
          ],
          "name": "stdout"
        },
        {
          "output_type": "stream",
          "text": [
            ""
          ],
          "name": "stderr"
        },
        {
          "output_type": "stream",
          "text": [
            "Epoch: 41/100, log p(x) >= 15.974, ite_tr: 1.247, ate_tr: 0.197, pehe_tr: 0.965, rmse_f_tr: 1.137, rmse_cf_tr: 1.287, ite_te: 1.239, ate_te: 0.041, pehe_te: 1.122, dt: 2.301\n"
          ],
          "name": "stdout"
        },
        {
          "output_type": "stream",
          "text": [
            ""
          ],
          "name": "stderr"
        },
        {
          "output_type": "stream",
          "text": [
            "Epoch: 51/100, log p(x) >= 16.025, ite_tr: 1.312, ate_tr: 0.479, pehe_tr: 1.040, rmse_f_tr: 1.115, rmse_cf_tr: 1.348, ite_te: 1.272, ate_te: 0.480, pehe_te: 1.062, dt: 2.222\n"
          ],
          "name": "stdout"
        },
        {
          "output_type": "stream",
          "text": [
            ""
          ],
          "name": "stderr"
        },
        {
          "output_type": "stream",
          "text": [
            "Epoch: 61/100, log p(x) >= 15.833, ite_tr: 1.320, ate_tr: 0.232, pehe_tr: 1.131, rmse_f_tr: 1.156, rmse_cf_tr: 1.327, ite_te: 1.044, ate_te: 0.080, pehe_te: 1.089, dt: 2.190\n"
          ],
          "name": "stdout"
        },
        {
          "output_type": "stream",
          "text": [
            ""
          ],
          "name": "stderr"
        },
        {
          "output_type": "stream",
          "text": [
            "Epoch: 71/100, log p(x) >= 15.448, ite_tr: 1.241, ate_tr: 0.004, pehe_tr: 0.971, rmse_f_tr: 1.066, rmse_cf_tr: 1.231, ite_te: 1.185, ate_te: 0.124, pehe_te: 1.156, dt: 2.176\n"
          ],
          "name": "stdout"
        },
        {
          "output_type": "stream",
          "text": [
            ""
          ],
          "name": "stderr"
        },
        {
          "output_type": "stream",
          "text": [
            "Epoch: 81/100, log p(x) >= 15.166, ite_tr: 1.307, ate_tr: 0.203, pehe_tr: 1.027, rmse_f_tr: 1.051, rmse_cf_tr: 1.288, ite_te: 1.185, ate_te: 0.073, pehe_te: 1.147, dt: 2.193\n"
          ],
          "name": "stdout"
        },
        {
          "output_type": "stream",
          "text": [
            ""
          ],
          "name": "stderr"
        },
        {
          "output_type": "stream",
          "text": [
            "Epoch: 91/100, log p(x) >= 14.845, ite_tr: 1.232, ate_tr: 0.228, pehe_tr: 0.988, rmse_f_tr: 1.019, rmse_cf_tr: 1.277, ite_te: 1.107, ate_te: 0.048, pehe_te: 1.033, dt: 2.204\n"
          ],
          "name": "stdout"
        },
        {
          "output_type": "stream",
          "text": [
            ""
          ],
          "name": "stderr"
        },
        {
          "output_type": "stream",
          "text": [
            "INFO:tensorflow:Restoring parameters from models/m6-ihdp\n",
            " Sample 100/100\n",
            " Sample 100/100\n",
            "Replication: 1/10, tr_ite: 1.152, tr_ate: 0.102, tr_pehe: 0.587, te_ite: 1.071, te_ate: 0.041, te_pehe: 0.683\n",
            "\n",
            "Replication 2/10\n"
          ],
          "name": "stdout"
        },
        {
          "output_type": "stream",
          "text": [
            ""
          ],
          "name": "stderr"
        },
        {
          "output_type": "stream",
          "text": [
            "Improved validation bound, old: -inf, new: -19.116\n",
            "Epoch: 1/100, log p(x) >= 23.601, ite_tr: 1.393, ate_tr: 0.213, pehe_tr: 1.380, rmse_f_tr: 1.348, rmse_cf_tr: 1.386, ite_te: 1.464, ate_te: 0.350, pehe_te: 1.289, dt: 2.938\n"
          ],
          "name": "stdout"
        },
        {
          "output_type": "stream",
          "text": [
            ""
          ],
          "name": "stderr"
        },
        {
          "output_type": "stream",
          "text": [
            "Improved validation bound, old: -19.116, new: -16.496\n",
            "Epoch: 11/100, log p(x) >= 17.506, ite_tr: 1.220, ate_tr: 0.078, pehe_tr: 0.897, rmse_f_tr: 1.208, rmse_cf_tr: 1.273, ite_te: 1.387, ate_te: 0.103, pehe_te: 0.843, dt: 2.616\n"
          ],
          "name": "stdout"
        },
        {
          "output_type": "stream",
          "text": [
            ""
          ],
          "name": "stderr"
        },
        {
          "output_type": "stream",
          "text": [
            "Improved validation bound, old: -16.496, new: -16.245\n",
            "Epoch: 21/100, log p(x) >= 17.026, ite_tr: 1.201, ate_tr: 0.190, pehe_tr: 0.846, rmse_f_tr: 1.139, rmse_cf_tr: 1.229, ite_te: 1.319, ate_te: 0.199, pehe_te: 0.877, dt: 2.592\n"
          ],
          "name": "stdout"
        },
        {
          "output_type": "stream",
          "text": [
            ""
          ],
          "name": "stderr"
        },
        {
          "output_type": "stream",
          "text": [
            "Improved validation bound, old: -16.245, new: -15.869\n",
            "Epoch: 31/100, log p(x) >= 16.438, ite_tr: 1.181, ate_tr: 0.215, pehe_tr: 0.894, rmse_f_tr: 1.158, rmse_cf_tr: 1.212, ite_te: 1.304, ate_te: 0.304, pehe_te: 0.966, dt: 2.629\n"
          ],
          "name": "stdout"
        },
        {
          "output_type": "stream",
          "text": [
            ""
          ],
          "name": "stderr"
        },
        {
          "output_type": "stream",
          "text": [
            "Epoch: 41/100, log p(x) >= 16.374, ite_tr: 1.127, ate_tr: 0.005, pehe_tr: 0.783, rmse_f_tr: 1.101, rmse_cf_tr: 1.196, ite_te: 1.233, ate_te: 0.017, pehe_te: 0.714, dt: 2.193\n"
          ],
          "name": "stdout"
        },
        {
          "output_type": "stream",
          "text": [
            ""
          ],
          "name": "stderr"
        },
        {
          "output_type": "stream",
          "text": [
            "Epoch: 51/100, log p(x) >= 16.655, ite_tr: 1.165, ate_tr: 0.170, pehe_tr: 0.814, rmse_f_tr: 1.102, rmse_cf_tr: 1.178, ite_te: 1.347, ate_te: 0.248, pehe_te: 0.790, dt: 2.194\n"
          ],
          "name": "stdout"
        },
        {
          "output_type": "stream",
          "text": [
            ""
          ],
          "name": "stderr"
        },
        {
          "output_type": "stream",
          "text": [
            "Improved validation bound, old: -15.869, new: -15.743\n",
            "Epoch: 61/100, log p(x) >= 15.579, ite_tr: 1.193, ate_tr: 0.262, pehe_tr: 0.869, rmse_f_tr: 1.097, rmse_cf_tr: 1.186, ite_te: 1.223, ate_te: 0.343, pehe_te: 0.858, dt: 2.599\n"
          ],
          "name": "stdout"
        },
        {
          "output_type": "stream",
          "text": [
            ""
          ],
          "name": "stderr"
        },
        {
          "output_type": "stream",
          "text": [
            "Epoch: 71/100, log p(x) >= 15.384, ite_tr: 1.271, ate_tr: 0.042, pehe_tr: 0.991, rmse_f_tr: 1.080, rmse_cf_tr: 1.289, ite_te: 1.296, ate_te: 0.008, pehe_te: 0.883, dt: 2.193\n"
          ],
          "name": "stdout"
        },
        {
          "output_type": "stream",
          "text": [
            ""
          ],
          "name": "stderr"
        },
        {
          "output_type": "stream",
          "text": [
            "Epoch: 81/100, log p(x) >= 14.999, ite_tr: 1.241, ate_tr: 0.138, pehe_tr: 0.977, rmse_f_tr: 1.025, rmse_cf_tr: 1.243, ite_te: 1.191, ate_te: 0.035, pehe_te: 0.868, dt: 2.205\n"
          ],
          "name": "stdout"
        },
        {
          "output_type": "stream",
          "text": [
            ""
          ],
          "name": "stderr"
        },
        {
          "output_type": "stream",
          "text": [
            "Epoch: 91/100, log p(x) >= 16.602, ite_tr: 1.253, ate_tr: 0.138, pehe_tr: 1.001, rmse_f_tr: 1.073, rmse_cf_tr: 1.221, ite_te: 1.299, ate_te: 0.067, pehe_te: 0.963, dt: 2.222\n"
          ],
          "name": "stdout"
        },
        {
          "output_type": "stream",
          "text": [
            ""
          ],
          "name": "stderr"
        },
        {
          "output_type": "stream",
          "text": [
            "INFO:tensorflow:Restoring parameters from models/m6-ihdp\n",
            " Sample 100/100\n",
            " Sample 100/100\n",
            "Replication: 2/10, tr_ite: 1.104, tr_ate: 0.260, tr_pehe: 0.640, te_ite: 1.217, te_ate: 0.286, te_pehe: 0.631\n",
            "\n",
            "Replication 3/10\n"
          ],
          "name": "stdout"
        },
        {
          "output_type": "stream",
          "text": [
            ""
          ],
          "name": "stderr"
        },
        {
          "output_type": "stream",
          "text": [
            "Improved validation bound, old: -inf, new: -19.143\n",
            "Epoch: 1/100, log p(x) >= 23.520, ite_tr: 1.407, ate_tr: 0.185, pehe_tr: 1.421, rmse_f_tr: 1.533, rmse_cf_tr: 1.355, ite_te: 1.250, ate_te: 0.285, pehe_te: 1.417, dt: 3.366\n"
          ],
          "name": "stdout"
        },
        {
          "output_type": "stream",
          "text": [
            ""
          ],
          "name": "stderr"
        },
        {
          "output_type": "stream",
          "text": [
            "Improved validation bound, old: -19.143, new: -16.364\n",
            "Epoch: 11/100, log p(x) >= 17.573, ite_tr: 1.200, ate_tr: 0.035, pehe_tr: 1.084, rmse_f_tr: 1.267, rmse_cf_tr: 1.184, ite_te: 1.059, ate_te: 0.031, pehe_te: 0.897, dt: 2.637\n"
          ],
          "name": "stdout"
        },
        {
          "output_type": "stream",
          "text": [
            ""
          ],
          "name": "stderr"
        },
        {
          "output_type": "stream",
          "text": [
            "Improved validation bound, old: -16.364, new: -16.195\n",
            "Epoch: 21/100, log p(x) >= 16.798, ite_tr: 1.194, ate_tr: 0.184, pehe_tr: 0.896, rmse_f_tr: 1.201, rmse_cf_tr: 1.127, ite_te: 1.015, ate_te: 0.012, pehe_te: 0.713, dt: 2.678\n"
          ],
          "name": "stdout"
        },
        {
          "output_type": "stream",
          "text": [
            ""
          ],
          "name": "stderr"
        },
        {
          "output_type": "stream",
          "text": [
            "Improved validation bound, old: -16.195, new: -15.944\n",
            "Epoch: 31/100, log p(x) >= 16.293, ite_tr: 1.194, ate_tr: 0.168, pehe_tr: 0.936, rmse_f_tr: 1.196, rmse_cf_tr: 1.149, ite_te: 1.044, ate_te: 0.016, pehe_te: 0.810, dt: 2.714\n"
          ],
          "name": "stdout"
        },
        {
          "output_type": "stream",
          "text": [
            ""
          ],
          "name": "stderr"
        },
        {
          "output_type": "stream",
          "text": [
            "Epoch: 41/100, log p(x) >= 17.145, ite_tr: 1.177, ate_tr: 0.047, pehe_tr: 0.914, rmse_f_tr: 1.157, rmse_cf_tr: 1.132, ite_te: 1.137, ate_te: 0.045, pehe_te: 0.835, dt: 2.223\n"
          ],
          "name": "stdout"
        },
        {
          "output_type": "stream",
          "text": [
            ""
          ],
          "name": "stderr"
        },
        {
          "output_type": "stream",
          "text": [
            "Epoch: 51/100, log p(x) >= 16.138, ite_tr: 1.239, ate_tr: 0.199, pehe_tr: 0.968, rmse_f_tr: 1.138, rmse_cf_tr: 1.206, ite_te: 1.114, ate_te: 0.308, pehe_te: 0.842, dt: 2.259\n"
          ],
          "name": "stdout"
        },
        {
          "output_type": "stream",
          "text": [
            ""
          ],
          "name": "stderr"
        },
        {
          "output_type": "stream",
          "text": [
            "Epoch: 61/100, log p(x) >= 15.539, ite_tr: 1.243, ate_tr: 0.109, pehe_tr: 1.001, rmse_f_tr: 1.085, rmse_cf_tr: 1.185, ite_te: 1.119, ate_te: 0.189, pehe_te: 0.821, dt: 2.265\n"
          ],
          "name": "stdout"
        },
        {
          "output_type": "stream",
          "text": [
            ""
          ],
          "name": "stderr"
        },
        {
          "output_type": "stream",
          "text": [
            "Epoch: 71/100, log p(x) >= 15.302, ite_tr: 1.257, ate_tr: 0.125, pehe_tr: 1.029, rmse_f_tr: 1.058, rmse_cf_tr: 1.237, ite_te: 1.066, ate_te: 0.226, pehe_te: 0.998, dt: 2.233\n"
          ],
          "name": "stdout"
        },
        {
          "output_type": "stream",
          "text": [
            ""
          ],
          "name": "stderr"
        },
        {
          "output_type": "stream",
          "text": [
            "Epoch: 81/100, log p(x) >= 14.978, ite_tr: 1.223, ate_tr: 0.106, pehe_tr: 1.060, rmse_f_tr: 1.112, rmse_cf_tr: 1.220, ite_te: 1.065, ate_te: 0.083, pehe_te: 0.919, dt: 2.258\n"
          ],
          "name": "stdout"
        },
        {
          "output_type": "stream",
          "text": [
            ""
          ],
          "name": "stderr"
        },
        {
          "output_type": "stream",
          "text": [
            "Epoch: 91/100, log p(x) >= 14.558, ite_tr: 1.286, ate_tr: 0.117, pehe_tr: 1.057, rmse_f_tr: 1.057, rmse_cf_tr: 1.229, ite_te: 1.034, ate_te: 0.000, pehe_te: 0.832, dt: 2.270\n"
          ],
          "name": "stdout"
        },
        {
          "output_type": "stream",
          "text": [
            ""
          ],
          "name": "stderr"
        },
        {
          "output_type": "stream",
          "text": [
            "INFO:tensorflow:Restoring parameters from models/m6-ihdp\n",
            " Sample 100/100\n",
            " Sample 100/100\n",
            "Replication: 3/10, tr_ite: 1.109, tr_ate: 0.183, tr_pehe: 0.656, te_ite: 0.967, te_ate: 0.153, te_pehe: 0.533\n",
            "\n",
            "Replication 4/10\n"
          ],
          "name": "stdout"
        },
        {
          "output_type": "stream",
          "text": [
            ""
          ],
          "name": "stderr"
        },
        {
          "output_type": "stream",
          "text": [
            "Improved validation bound, old: -inf, new: -19.173\n",
            "Epoch: 1/100, log p(x) >= 23.550, ite_tr: 1.690, ate_tr: 0.481, pehe_tr: 2.105, rmse_f_tr: 2.128, rmse_cf_tr: 1.642, ite_te: 1.374, ate_te: 0.859, pehe_te: 1.980, dt: 3.403\n"
          ],
          "name": "stdout"
        },
        {
          "output_type": "stream",
          "text": [
            ""
          ],
          "name": "stderr"
        },
        {
          "output_type": "stream",
          "text": [
            "Improved validation bound, old: -19.173, new: -16.288\n",
            "Epoch: 11/100, log p(x) >= 17.475, ite_tr: 1.428, ate_tr: 0.139, pehe_tr: 1.642, rmse_f_tr: 1.728, rmse_cf_tr: 1.423, ite_te: 1.060, ate_te: 0.375, pehe_te: 1.691, dt: 2.664\n"
          ],
          "name": "stdout"
        },
        {
          "output_type": "stream",
          "text": [
            ""
          ],
          "name": "stderr"
        },
        {
          "output_type": "stream",
          "text": [
            "Epoch: 21/100, log p(x) >= 16.942, ite_tr: 1.360, ate_tr: 0.174, pehe_tr: 1.570, rmse_f_tr: 1.712, rmse_cf_tr: 1.347, ite_te: 1.097, ate_te: 0.466, pehe_te: 1.599, dt: 2.261\n"
          ],
          "name": "stdout"
        },
        {
          "output_type": "stream",
          "text": [
            ""
          ],
          "name": "stderr"
        },
        {
          "output_type": "stream",
          "text": [
            "Improved validation bound, old: -16.288, new: -16.000\n",
            "Epoch: 31/100, log p(x) >= 16.466, ite_tr: 1.424, ate_tr: 0.547, pehe_tr: 1.616, rmse_f_tr: 1.641, rmse_cf_tr: 1.430, ite_te: 1.235, ate_te: 0.977, pehe_te: 1.769, dt: 2.693\n"
          ],
          "name": "stdout"
        },
        {
          "output_type": "stream",
          "text": [
            ""
          ],
          "name": "stderr"
        },
        {
          "output_type": "stream",
          "text": [
            "Epoch: 41/100, log p(x) >= 16.523, ite_tr: 1.400, ate_tr: 0.322, pehe_tr: 1.551, rmse_f_tr: 1.639, rmse_cf_tr: 1.341, ite_te: 1.156, ate_te: 0.312, pehe_te: 1.411, dt: 2.254\n"
          ],
          "name": "stdout"
        },
        {
          "output_type": "stream",
          "text": [
            ""
          ],
          "name": "stderr"
        },
        {
          "output_type": "stream",
          "text": [
            "Improved validation bound, old: -16.000, new: -15.984\n",
            "Epoch: 51/100, log p(x) >= 16.435, ite_tr: 1.417, ate_tr: 0.221, pehe_tr: 1.523, rmse_f_tr: 1.559, rmse_cf_tr: 1.448, ite_te: 1.116, ate_te: 0.710, pehe_te: 1.751, dt: 2.724\n"
          ],
          "name": "stdout"
        },
        {
          "output_type": "stream",
          "text": [
            ""
          ],
          "name": "stderr"
        },
        {
          "output_type": "stream",
          "text": [
            "Improved validation bound, old: -15.984, new: -15.902\n",
            "Epoch: 61/100, log p(x) >= 15.661, ite_tr: 1.433, ate_tr: 0.142, pehe_tr: 1.494, rmse_f_tr: 1.476, rmse_cf_tr: 1.427, ite_te: 1.145, ate_te: 0.521, pehe_te: 1.392, dt: 2.689\n"
          ],
          "name": "stdout"
        },
        {
          "output_type": "stream",
          "text": [
            ""
          ],
          "name": "stderr"
        },
        {
          "output_type": "stream",
          "text": [
            "Epoch: 71/100, log p(x) >= 15.364, ite_tr: 1.507, ate_tr: 0.280, pehe_tr: 1.595, rmse_f_tr: 1.437, rmse_cf_tr: 1.455, ite_te: 1.169, ate_te: 0.487, pehe_te: 1.564, dt: 2.249\n"
          ],
          "name": "stdout"
        },
        {
          "output_type": "stream",
          "text": [
            ""
          ],
          "name": "stderr"
        },
        {
          "output_type": "stream",
          "text": [
            "Epoch: 81/100, log p(x) >= 15.071, ite_tr: 1.467, ate_tr: 0.275, pehe_tr: 1.510, rmse_f_tr: 1.361, rmse_cf_tr: 1.425, ite_te: 1.201, ate_te: 0.582, pehe_te: 1.532, dt: 2.256\n"
          ],
          "name": "stdout"
        },
        {
          "output_type": "stream",
          "text": [
            ""
          ],
          "name": "stderr"
        },
        {
          "output_type": "stream",
          "text": [
            "Epoch: 91/100, log p(x) >= 14.697, ite_tr: 1.464, ate_tr: 0.197, pehe_tr: 1.514, rmse_f_tr: 1.386, rmse_cf_tr: 1.472, ite_te: 1.197, ate_te: 0.201, pehe_te: 1.590, dt: 2.247\n"
          ],
          "name": "stdout"
        },
        {
          "output_type": "stream",
          "text": [
            ""
          ],
          "name": "stderr"
        },
        {
          "output_type": "stream",
          "text": [
            "INFO:tensorflow:Restoring parameters from models/m6-ihdp\n",
            " Sample 100/100\n",
            " Sample 100/100\n",
            "Replication: 4/10, tr_ite: 1.285, tr_ate: 0.117, tr_pehe: 1.077, te_ite: 1.039, te_ate: 0.364, te_pehe: 1.131\n",
            "\n",
            "Replication 5/10\n"
          ],
          "name": "stdout"
        },
        {
          "output_type": "stream",
          "text": [
            ""
          ],
          "name": "stderr"
        },
        {
          "output_type": "stream",
          "text": [
            "Improved validation bound, old: -inf, new: -19.437\n",
            "Epoch: 1/100, log p(x) >= 23.558, ite_tr: 1.822, ate_tr: 0.344, pehe_tr: 2.533, rmse_f_tr: 2.629, rmse_cf_tr: 1.873, ite_te: 1.798, ate_te: 0.464, pehe_te: 2.803, dt: 3.479\n"
          ],
          "name": "stdout"
        },
        {
          "output_type": "stream",
          "text": [
            ""
          ],
          "name": "stderr"
        },
        {
          "output_type": "stream",
          "text": [
            "Improved validation bound, old: -19.437, new: -17.057\n",
            "Epoch: 11/100, log p(x) >= 17.677, ite_tr: 1.648, ate_tr: 0.455, pehe_tr: 2.266, rmse_f_tr: 2.311, rmse_cf_tr: 1.703, ite_te: 1.487, ate_te: 0.810, pehe_te: 2.580, dt: 2.689\n"
          ],
          "name": "stdout"
        },
        {
          "output_type": "stream",
          "text": [
            ""
          ],
          "name": "stderr"
        },
        {
          "output_type": "stream",
          "text": [
            "Improved validation bound, old: -17.057, new: -16.669\n",
            "Epoch: 21/100, log p(x) >= 17.065, ite_tr: 1.581, ate_tr: 0.110, pehe_tr: 2.124, rmse_f_tr: 2.174, rmse_cf_tr: 1.654, ite_te: 1.449, ate_te: 0.142, pehe_te: 2.176, dt: 2.683\n"
          ],
          "name": "stdout"
        },
        {
          "output_type": "stream",
          "text": [
            ""
          ],
          "name": "stderr"
        },
        {
          "output_type": "stream",
          "text": [
            "Improved validation bound, old: -16.669, new: -16.417\n",
            "Epoch: 31/100, log p(x) >= 17.207, ite_tr: 1.575, ate_tr: 0.139, pehe_tr: 2.191, rmse_f_tr: 2.168, rmse_cf_tr: 1.671, ite_te: 1.440, ate_te: 0.465, pehe_te: 2.171, dt: 2.701\n"
          ],
          "name": "stdout"
        },
        {
          "output_type": "stream",
          "text": [
            ""
          ],
          "name": "stderr"
        },
        {
          "output_type": "stream",
          "text": [
            "Improved validation bound, old: -16.417, new: -16.377\n",
            "Epoch: 41/100, log p(x) >= 16.353, ite_tr: 1.612, ate_tr: 0.046, pehe_tr: 2.139, rmse_f_tr: 2.084, rmse_cf_tr: 1.662, ite_te: 1.463, ate_te: 0.256, pehe_te: 2.664, dt: 2.713\n"
          ],
          "name": "stdout"
        },
        {
          "output_type": "stream",
          "text": [
            ""
          ],
          "name": "stderr"
        },
        {
          "output_type": "stream",
          "text": [
            "Improved validation bound, old: -16.377, new: -16.303\n",
            "Epoch: 51/100, log p(x) >= 15.846, ite_tr: 1.615, ate_tr: 0.115, pehe_tr: 1.940, rmse_f_tr: 1.987, rmse_cf_tr: 1.678, ite_te: 1.408, ate_te: 0.176, pehe_te: 2.261, dt: 2.922\n"
          ],
          "name": "stdout"
        },
        {
          "output_type": "stream",
          "text": [
            ""
          ],
          "name": "stderr"
        },
        {
          "output_type": "stream",
          "text": [
            "Epoch: 61/100, log p(x) >= 15.909, ite_tr: 1.548, ate_tr: 0.087, pehe_tr: 1.911, rmse_f_tr: 1.886, rmse_cf_tr: 1.633, ite_te: 1.302, ate_te: 0.218, pehe_te: 2.016, dt: 2.271\n"
          ],
          "name": "stdout"
        },
        {
          "output_type": "stream",
          "text": [
            ""
          ],
          "name": "stderr"
        },
        {
          "output_type": "stream",
          "text": [
            "Epoch: 71/100, log p(x) >= 15.892, ite_tr: 1.616, ate_tr: 0.043, pehe_tr: 1.938, rmse_f_tr: 1.866, rmse_cf_tr: 1.658, ite_te: 1.543, ate_te: 0.128, pehe_te: 2.062, dt: 2.286\n"
          ],
          "name": "stdout"
        },
        {
          "output_type": "stream",
          "text": [
            ""
          ],
          "name": "stderr"
        },
        {
          "output_type": "stream",
          "text": [
            "Epoch: 81/100, log p(x) >= 15.697, ite_tr: 1.553, ate_tr: 0.179, pehe_tr: 2.020, rmse_f_tr: 2.016, rmse_cf_tr: 1.666, ite_te: 1.507, ate_te: 0.137, pehe_te: 2.430, dt: 2.285\n"
          ],
          "name": "stdout"
        },
        {
          "output_type": "stream",
          "text": [
            ""
          ],
          "name": "stderr"
        },
        {
          "output_type": "stream",
          "text": [
            "Epoch: 91/100, log p(x) >= 14.892, ite_tr: 1.605, ate_tr: 0.293, pehe_tr: 2.010, rmse_f_tr: 1.826, rmse_cf_tr: 1.647, ite_te: 1.530, ate_te: 0.265, pehe_te: 2.171, dt: 2.272\n"
          ],
          "name": "stdout"
        },
        {
          "output_type": "stream",
          "text": [
            ""
          ],
          "name": "stderr"
        },
        {
          "output_type": "stream",
          "text": [
            "INFO:tensorflow:Restoring parameters from models/m6-ihdp\n"
          ],
          "name": "stdout"
        },
        {
          "output_type": "stream",
          "text": [
            "epoch #99| 95%|###############################################   |ETA:  0:00:00\repoch #99| 97%|################################################  |ETA:  0:00:00\r"
          ],
          "name": "stderr"
        },
        {
          "output_type": "stream",
          "text": [
            " Sample 100/100\n",
            " Sample 100/100\n",
            "Replication: 5/10, tr_ite: 1.447, tr_ate: 0.141, tr_pehe: 1.542, te_ite: 1.333, te_ate: 0.048, te_pehe: 1.818\n",
            "\n",
            "Replication 6/10\n"
          ],
          "name": "stdout"
        },
        {
          "output_type": "stream",
          "text": [
            ""
          ],
          "name": "stderr"
        },
        {
          "output_type": "stream",
          "text": [
            "Improved validation bound, old: -inf, new: -19.262\n",
            "Epoch: 1/100, log p(x) >= 23.558, ite_tr: 1.370, ate_tr: 0.241, pehe_tr: 1.392, rmse_f_tr: 1.512, rmse_cf_tr: 1.401, ite_te: 1.420, ate_te: 0.348, pehe_te: 1.339, dt: 3.049\n"
          ],
          "name": "stdout"
        },
        {
          "output_type": "stream",
          "text": [
            ""
          ],
          "name": "stderr"
        },
        {
          "output_type": "stream",
          "text": [
            "Improved validation bound, old: -19.262, new: -16.206\n",
            "Epoch: 11/100, log p(x) >= 17.572, ite_tr: 1.141, ate_tr: 0.069, pehe_tr: 0.859, rmse_f_tr: 1.242, rmse_cf_tr: 1.180, ite_te: 1.010, ate_te: 0.165, pehe_te: 0.793, dt: 2.677\n"
          ],
          "name": "stdout"
        },
        {
          "output_type": "stream",
          "text": [
            ""
          ],
          "name": "stderr"
        },
        {
          "output_type": "stream",
          "text": [
            "Improved validation bound, old: -16.206, new: -16.038\n",
            "Epoch: 21/100, log p(x) >= 16.932, ite_tr: 1.115, ate_tr: 0.075, pehe_tr: 0.834, rmse_f_tr: 1.150, rmse_cf_tr: 1.181, ite_te: 1.151, ate_te: 0.055, pehe_te: 0.725, dt: 2.708\n"
          ],
          "name": "stdout"
        },
        {
          "output_type": "stream",
          "text": [
            ""
          ],
          "name": "stderr"
        },
        {
          "output_type": "stream",
          "text": [
            "Improved validation bound, old: -16.038, new: -16.003\n",
            "Epoch: 31/100, log p(x) >= 16.426, ite_tr: 1.144, ate_tr: 0.137, pehe_tr: 0.835, rmse_f_tr: 1.155, rmse_cf_tr: 1.189, ite_te: 1.113, ate_te: 0.158, pehe_te: 0.733, dt: 2.696\n"
          ],
          "name": "stdout"
        },
        {
          "output_type": "stream",
          "text": [
            ""
          ],
          "name": "stderr"
        },
        {
          "output_type": "stream",
          "text": [
            "Improved validation bound, old: -16.003, new: -15.917\n",
            "Epoch: 41/100, log p(x) >= 16.358, ite_tr: 1.203, ate_tr: 0.327, pehe_tr: 0.938, rmse_f_tr: 1.124, rmse_cf_tr: 1.262, ite_te: 1.320, ate_te: 0.258, pehe_te: 0.903, dt: 2.711\n"
          ],
          "name": "stdout"
        },
        {
          "output_type": "stream",
          "text": [
            ""
          ],
          "name": "stderr"
        },
        {
          "output_type": "stream",
          "text": [
            "Epoch: 51/100, log p(x) >= 15.893, ite_tr: 1.190, ate_tr: 0.362, pehe_tr: 0.992, rmse_f_tr: 1.099, rmse_cf_tr: 1.217, ite_te: 1.140, ate_te: 0.154, pehe_te: 0.878, dt: 2.255\n"
          ],
          "name": "stdout"
        },
        {
          "output_type": "stream",
          "text": [
            ""
          ],
          "name": "stderr"
        },
        {
          "output_type": "stream",
          "text": [
            "Epoch: 61/100, log p(x) >= 15.847, ite_tr: 1.218, ate_tr: 0.041, pehe_tr: 0.915, rmse_f_tr: 1.031, rmse_cf_tr: 1.272, ite_te: 1.130, ate_te: 0.043, pehe_te: 0.931, dt: 2.250\n"
          ],
          "name": "stdout"
        },
        {
          "output_type": "stream",
          "text": [
            ""
          ],
          "name": "stderr"
        },
        {
          "output_type": "stream",
          "text": [
            "Epoch: 71/100, log p(x) >= 15.046, ite_tr: 1.272, ate_tr: 0.364, pehe_tr: 1.036, rmse_f_tr: 1.032, rmse_cf_tr: 1.336, ite_te: 1.273, ate_te: 0.240, pehe_te: 0.951, dt: 2.242\n"
          ],
          "name": "stdout"
        },
        {
          "output_type": "stream",
          "text": [
            ""
          ],
          "name": "stderr"
        },
        {
          "output_type": "stream",
          "text": [
            "Epoch: 81/100, log p(x) >= 16.496, ite_tr: 1.267, ate_tr: 0.101, pehe_tr: 1.087, rmse_f_tr: 1.056, rmse_cf_tr: 1.302, ite_te: 1.341, ate_te: 0.079, pehe_te: 1.192, dt: 2.255\n"
          ],
          "name": "stdout"
        },
        {
          "output_type": "stream",
          "text": [
            ""
          ],
          "name": "stderr"
        },
        {
          "output_type": "stream",
          "text": [
            "Epoch: 91/100, log p(x) >= 14.961, ite_tr: 1.330, ate_tr: 0.410, pehe_tr: 1.153, rmse_f_tr: 1.051, rmse_cf_tr: 1.359, ite_te: 1.284, ate_te: 0.351, pehe_te: 1.145, dt: 2.254\n"
          ],
          "name": "stdout"
        },
        {
          "output_type": "stream",
          "text": [
            ""
          ],
          "name": "stderr"
        },
        {
          "output_type": "stream",
          "text": [
            "INFO:tensorflow:Restoring parameters from models/m6-ihdp\n",
            " Sample 100/100\n",
            " Sample 100/100\n",
            "Replication: 6/10, tr_ite: 1.096, tr_ate: 0.282, tr_pehe: 0.651, te_ite: 1.088, te_ate: 0.133, te_pehe: 0.509\n",
            "\n",
            "Replication 7/10\n"
          ],
          "name": "stdout"
        },
        {
          "output_type": "stream",
          "text": [
            ""
          ],
          "name": "stderr"
        },
        {
          "output_type": "stream",
          "text": [
            "Improved validation bound, old: -inf, new: -19.188\n",
            "Epoch: 1/100, log p(x) >= 23.680, ite_tr: 1.530, ate_tr: 0.389, pehe_tr: 1.352, rmse_f_tr: 1.241, rmse_cf_tr: 1.513, ite_te: 1.631, ate_te: 0.464, pehe_te: 1.446, dt: 3.439\n"
          ],
          "name": "stdout"
        },
        {
          "output_type": "stream",
          "text": [
            ""
          ],
          "name": "stderr"
        },
        {
          "output_type": "stream",
          "text": [
            "Improved validation bound, old: -19.188, new: -16.379\n",
            "Epoch: 11/100, log p(x) >= 17.823, ite_tr: 1.179, ate_tr: 0.344, pehe_tr: 0.719, rmse_f_tr: 1.082, rmse_cf_tr: 1.179, ite_te: 1.102, ate_te: 0.496, pehe_te: 0.839, dt: 2.712\n"
          ],
          "name": "stdout"
        },
        {
          "output_type": "stream",
          "text": [
            ""
          ],
          "name": "stderr"
        },
        {
          "output_type": "stream",
          "text": [
            "Improved validation bound, old: -16.379, new: -15.960\n",
            "Epoch: 21/100, log p(x) >= 16.912, ite_tr: 1.197, ate_tr: 0.290, pehe_tr: 0.729, rmse_f_tr: 1.059, rmse_cf_tr: 1.187, ite_te: 1.136, ate_te: 0.144, pehe_te: 0.610, dt: 2.693\n"
          ],
          "name": "stdout"
        },
        {
          "output_type": "stream",
          "text": [
            ""
          ],
          "name": "stderr"
        },
        {
          "output_type": "stream",
          "text": [
            "Improved validation bound, old: -15.960, new: -15.942\n",
            "Epoch: 31/100, log p(x) >= 16.788, ite_tr: 1.135, ate_tr: 0.069, pehe_tr: 0.608, rmse_f_tr: 1.031, rmse_cf_tr: 1.152, ite_te: 1.065, ate_te: 0.127, pehe_te: 0.501, dt: 2.678\n"
          ],
          "name": "stdout"
        },
        {
          "output_type": "stream",
          "text": [
            ""
          ],
          "name": "stderr"
        },
        {
          "output_type": "stream",
          "text": [
            "Epoch: 41/100, log p(x) >= 16.272, ite_tr: 1.182, ate_tr: 0.162, pehe_tr: 0.744, rmse_f_tr: 1.030, rmse_cf_tr: 1.239, ite_te: 1.192, ate_te: 0.198, pehe_te: 0.802, dt: 2.218\n"
          ],
          "name": "stdout"
        },
        {
          "output_type": "stream",
          "text": [
            ""
          ],
          "name": "stderr"
        },
        {
          "output_type": "stream",
          "text": [
            "Improved validation bound, old: -15.942, new: -15.890\n",
            "Epoch: 51/100, log p(x) >= 15.774, ite_tr: 1.152, ate_tr: 0.184, pehe_tr: 0.812, rmse_f_tr: 1.007, rmse_cf_tr: 1.232, ite_te: 1.184, ate_te: 0.233, pehe_te: 0.848, dt: 2.732\n"
          ],
          "name": "stdout"
        },
        {
          "output_type": "stream",
          "text": [
            ""
          ],
          "name": "stderr"
        },
        {
          "output_type": "stream",
          "text": [
            "Epoch: 61/100, log p(x) >= 15.592, ite_tr: 1.208, ate_tr: 0.349, pehe_tr: 0.900, rmse_f_tr: 0.981, rmse_cf_tr: 1.284, ite_te: 1.203, ate_te: 0.356, pehe_te: 0.710, dt: 2.235\n"
          ],
          "name": "stdout"
        },
        {
          "output_type": "stream",
          "text": [
            ""
          ],
          "name": "stderr"
        },
        {
          "output_type": "stream",
          "text": [
            "Epoch: 71/100, log p(x) >= 16.124, ite_tr: 1.306, ate_tr: 0.501, pehe_tr: 1.046, rmse_f_tr: 0.992, rmse_cf_tr: 1.339, ite_te: 1.233, ate_te: 0.494, pehe_te: 0.952, dt: 2.216\n"
          ],
          "name": "stdout"
        },
        {
          "output_type": "stream",
          "text": [
            ""
          ],
          "name": "stderr"
        },
        {
          "output_type": "stream",
          "text": [
            "Epoch: 81/100, log p(x) >= 15.577, ite_tr: 1.289, ate_tr: 0.305, pehe_tr: 0.959, rmse_f_tr: 0.972, rmse_cf_tr: 1.282, ite_te: 1.163, ate_te: 0.297, pehe_te: 0.943, dt: 2.250\n"
          ],
          "name": "stdout"
        },
        {
          "output_type": "stream",
          "text": [
            ""
          ],
          "name": "stderr"
        },
        {
          "output_type": "stream",
          "text": [
            "Epoch: 91/100, log p(x) >= 14.897, ite_tr: 1.292, ate_tr: 0.283, pehe_tr: 1.048, rmse_f_tr: 0.930, rmse_cf_tr: 1.327, ite_te: 1.177, ate_te: 0.251, pehe_te: 0.948, dt: 2.255\n"
          ],
          "name": "stdout"
        },
        {
          "output_type": "stream",
          "text": [
            ""
          ],
          "name": "stderr"
        },
        {
          "output_type": "stream",
          "text": [
            "INFO:tensorflow:Restoring parameters from models/m6-ihdp\n",
            " Sample 100/100\n",
            " Sample 100/100\n",
            "Replication: 7/10, tr_ite: 1.110, tr_ate: 0.171, tr_pehe: 0.617, te_ite: 1.098, te_ate: 0.195, te_pehe: 0.535\n",
            "\n",
            "Replication 8/10\n"
          ],
          "name": "stdout"
        },
        {
          "output_type": "stream",
          "text": [
            ""
          ],
          "name": "stderr"
        },
        {
          "output_type": "stream",
          "text": [
            "Improved validation bound, old: -inf, new: -19.288\n",
            "Epoch: 1/100, log p(x) >= 23.573, ite_tr: 1.757, ate_tr: 0.240, pehe_tr: 1.924, rmse_f_tr: 2.090, rmse_cf_tr: 1.700, ite_te: 1.523, ate_te: 0.290, pehe_te: 1.490, dt: 3.051\n"
          ],
          "name": "stdout"
        },
        {
          "output_type": "stream",
          "text": [
            ""
          ],
          "name": "stderr"
        },
        {
          "output_type": "stream",
          "text": [
            "Improved validation bound, old: -19.288, new: -16.839\n",
            "Epoch: 11/100, log p(x) >= 17.627, ite_tr: 1.366, ate_tr: 0.021, pehe_tr: 1.382, rmse_f_tr: 1.640, rmse_cf_tr: 1.300, ite_te: 1.153, ate_te: 0.024, pehe_te: 1.353, dt: 2.685\n"
          ],
          "name": "stdout"
        },
        {
          "output_type": "stream",
          "text": [
            ""
          ],
          "name": "stderr"
        },
        {
          "output_type": "stream",
          "text": [
            "Improved validation bound, old: -16.839, new: -16.497\n",
            "Epoch: 21/100, log p(x) >= 16.834, ite_tr: 1.440, ate_tr: 0.135, pehe_tr: 1.394, rmse_f_tr: 1.578, rmse_cf_tr: 1.390, ite_te: 1.223, ate_te: 0.265, pehe_te: 1.459, dt: 2.654\n"
          ],
          "name": "stdout"
        },
        {
          "output_type": "stream",
          "text": [
            ""
          ],
          "name": "stderr"
        },
        {
          "output_type": "stream",
          "text": [
            "Improved validation bound, old: -16.497, new: -15.989\n",
            "Epoch: 31/100, log p(x) >= 16.900, ite_tr: 1.431, ate_tr: 0.087, pehe_tr: 1.433, rmse_f_tr: 1.589, rmse_cf_tr: 1.372, ite_te: 1.075, ate_te: 0.123, pehe_te: 1.323, dt: 2.686\n"
          ],
          "name": "stdout"
        },
        {
          "output_type": "stream",
          "text": [
            ""
          ],
          "name": "stderr"
        },
        {
          "output_type": "stream",
          "text": [
            "Improved validation bound, old: -15.989, new: -15.951\n",
            "Epoch: 41/100, log p(x) >= 16.108, ite_tr: 1.423, ate_tr: 0.130, pehe_tr: 1.329, rmse_f_tr: 1.485, rmse_cf_tr: 1.334, ite_te: 1.065, ate_te: 0.009, pehe_te: 1.258, dt: 2.679\n"
          ],
          "name": "stdout"
        },
        {
          "output_type": "stream",
          "text": [
            ""
          ],
          "name": "stderr"
        },
        {
          "output_type": "stream",
          "text": [
            "Epoch: 51/100, log p(x) >= 16.152, ite_tr: 1.441, ate_tr: 0.108, pehe_tr: 1.471, rmse_f_tr: 1.519, rmse_cf_tr: 1.379, ite_te: 1.237, ate_te: 0.037, pehe_te: 1.579, dt: 2.244\n"
          ],
          "name": "stdout"
        },
        {
          "output_type": "stream",
          "text": [
            ""
          ],
          "name": "stderr"
        },
        {
          "output_type": "stream",
          "text": [
            "Epoch: 61/100, log p(x) >= 15.760, ite_tr: 1.462, ate_tr: 0.015, pehe_tr: 1.341, rmse_f_tr: 1.415, rmse_cf_tr: 1.370, ite_te: 1.224, ate_te: 0.243, pehe_te: 1.409, dt: 2.247\n"
          ],
          "name": "stdout"
        },
        {
          "output_type": "stream",
          "text": [
            ""
          ],
          "name": "stderr"
        },
        {
          "output_type": "stream",
          "text": [
            "Epoch: 71/100, log p(x) >= 15.291, ite_tr: 1.482, ate_tr: 0.098, pehe_tr: 1.321, rmse_f_tr: 1.388, rmse_cf_tr: 1.394, ite_te: 1.059, ate_te: 0.176, pehe_te: 1.217, dt: 2.257\n"
          ],
          "name": "stdout"
        },
        {
          "output_type": "stream",
          "text": [
            ""
          ],
          "name": "stderr"
        },
        {
          "output_type": "stream",
          "text": [
            "Epoch: 81/100, log p(x) >= 15.359, ite_tr: 1.447, ate_tr: 0.142, pehe_tr: 1.440, rmse_f_tr: 1.439, rmse_cf_tr: 1.396, ite_te: 1.180, ate_te: 0.029, pehe_te: 1.439, dt: 2.239\n"
          ],
          "name": "stdout"
        },
        {
          "output_type": "stream",
          "text": [
            ""
          ],
          "name": "stderr"
        },
        {
          "output_type": "stream",
          "text": [
            "Epoch: 91/100, log p(x) >= 15.551, ite_tr: 1.467, ate_tr: 0.048, pehe_tr: 1.389, rmse_f_tr: 1.277, rmse_cf_tr: 1.404, ite_te: 1.143, ate_te: 0.083, pehe_te: 1.195, dt: 2.238\n"
          ],
          "name": "stdout"
        },
        {
          "output_type": "stream",
          "text": [
            ""
          ],
          "name": "stderr"
        },
        {
          "output_type": "stream",
          "text": [
            "INFO:tensorflow:Restoring parameters from models/m6-ihdp\n",
            " Sample 100/100\n",
            " Sample 100/100\n",
            "Replication: 8/10, tr_ite: 1.314, tr_ate: 0.018, tr_pehe: 0.946, te_ite: 0.970, te_ate: 0.094, te_pehe: 0.897\n",
            "\n",
            "Replication 9/10\n"
          ],
          "name": "stdout"
        },
        {
          "output_type": "stream",
          "text": [
            ""
          ],
          "name": "stderr"
        },
        {
          "output_type": "stream",
          "text": [
            "Improved validation bound, old: -inf, new: -19.384\n",
            "Epoch: 1/100, log p(x) >= 23.376, ite_tr: 11.719, ate_tr: 0.659, pehe_tr: 23.677, rmse_f_tr: 20.349, rmse_cf_tr: 11.724, ite_te: 8.991, ate_te: 5.361, pehe_te: 18.490, dt: 3.003\n"
          ],
          "name": "stdout"
        },
        {
          "output_type": "stream",
          "text": [
            ""
          ],
          "name": "stderr"
        },
        {
          "output_type": "stream",
          "text": [
            "Improved validation bound, old: -19.384, new: -16.689\n",
            "Epoch: 11/100, log p(x) >= 17.392, ite_tr: 8.840, ate_tr: 3.820, pehe_tr: 17.678, rmse_f_tr: 15.548, rmse_cf_tr: 8.779, ite_te: 5.740, ate_te: 0.079, pehe_te: 11.449, dt: 2.750\n"
          ],
          "name": "stdout"
        },
        {
          "output_type": "stream",
          "text": [
            ""
          ],
          "name": "stderr"
        },
        {
          "output_type": "stream",
          "text": [
            "Epoch: 21/100, log p(x) >= 16.822, ite_tr: 8.152, ate_tr: 0.415, pehe_tr: 16.007, rmse_f_tr: 14.022, rmse_cf_tr: 8.142, ite_te: 3.672, ate_te: 1.160, pehe_te: 10.420, dt: 2.582\n"
          ],
          "name": "stdout"
        },
        {
          "output_type": "stream",
          "text": [
            ""
          ],
          "name": "stderr"
        },
        {
          "output_type": "stream",
          "text": [
            "Improved validation bound, old: -16.689, new: -16.315\n",
            "Epoch: 31/100, log p(x) >= 16.562, ite_tr: 8.205, ate_tr: 0.128, pehe_tr: 16.526, rmse_f_tr: 14.351, rmse_cf_tr: 8.176, ite_te: 6.094, ate_te: 4.007, pehe_te: 12.896, dt: 2.668\n"
          ],
          "name": "stdout"
        },
        {
          "output_type": "stream",
          "text": [
            ""
          ],
          "name": "stderr"
        },
        {
          "output_type": "stream",
          "text": [
            "Improved validation bound, old: -16.315, new: -15.946\n",
            "Epoch: 41/100, log p(x) >= 16.348, ite_tr: 8.755, ate_tr: 1.504, pehe_tr: 16.233, rmse_f_tr: 13.859, rmse_cf_tr: 8.697, ite_te: 4.179, ate_te: 2.512, pehe_te: 13.390, dt: 2.686\n"
          ],
          "name": "stdout"
        },
        {
          "output_type": "stream",
          "text": [
            ""
          ],
          "name": "stderr"
        },
        {
          "output_type": "stream",
          "text": [
            "Epoch: 51/100, log p(x) >= 15.707, ite_tr: 8.478, ate_tr: 1.490, pehe_tr: 15.761, rmse_f_tr: 13.483, rmse_cf_tr: 8.420, ite_te: 5.829, ate_te: 2.081, pehe_te: 13.093, dt: 2.247\n"
          ],
          "name": "stdout"
        },
        {
          "output_type": "stream",
          "text": [
            ""
          ],
          "name": "stderr"
        },
        {
          "output_type": "stream",
          "text": [
            "Epoch: 61/100, log p(x) >= 16.693, ite_tr: 7.929, ate_tr: 0.885, pehe_tr: 14.997, rmse_f_tr: 12.978, rmse_cf_tr: 7.883, ite_te: 6.380, ate_te: 2.360, pehe_te: 13.976, dt: 2.230\n"
          ],
          "name": "stdout"
        },
        {
          "output_type": "stream",
          "text": [
            ""
          ],
          "name": "stderr"
        },
        {
          "output_type": "stream",
          "text": [
            "Epoch: 71/100, log p(x) >= 15.645, ite_tr: 8.460, ate_tr: 2.136, pehe_tr: 15.768, rmse_f_tr: 13.480, rmse_cf_tr: 8.410, ite_te: 4.122, ate_te: 2.274, pehe_te: 12.660, dt: 2.247\n"
          ],
          "name": "stdout"
        },
        {
          "output_type": "stream",
          "text": [
            ""
          ],
          "name": "stderr"
        },
        {
          "output_type": "stream",
          "text": [
            "Epoch: 81/100, log p(x) >= 14.927, ite_tr: 7.956, ate_tr: 0.164, pehe_tr: 15.194, rmse_f_tr: 13.155, rmse_cf_tr: 7.961, ite_te: 3.966, ate_te: 3.180, pehe_te: 11.500, dt: 2.235\n"
          ],
          "name": "stdout"
        },
        {
          "output_type": "stream",
          "text": [
            ""
          ],
          "name": "stderr"
        },
        {
          "output_type": "stream",
          "text": [
            "Epoch: 91/100, log p(x) >= 14.654, ite_tr: 7.863, ate_tr: 1.728, pehe_tr: 14.486, rmse_f_tr: 12.337, rmse_cf_tr: 7.815, ite_te: 6.312, ate_te: 2.544, pehe_te: 13.514, dt: 2.239\n"
          ],
          "name": "stdout"
        },
        {
          "output_type": "stream",
          "text": [
            ""
          ],
          "name": "stderr"
        },
        {
          "output_type": "stream",
          "text": [
            "INFO:tensorflow:Restoring parameters from models/m6-ihdp\n",
            " Sample 100/100\n",
            " Sample 100/100\n",
            "Replication: 9/10, tr_ite: 7.513, tr_ate: 1.721, tr_pehe: 14.048, te_ite: 4.477, te_ate: 1.953, te_pehe: 10.505\n",
            "\n",
            "Replication 10/10\n"
          ],
          "name": "stdout"
        },
        {
          "output_type": "stream",
          "text": [
            ""
          ],
          "name": "stderr"
        },
        {
          "output_type": "stream",
          "text": [
            "Improved validation bound, old: -inf, new: -19.328\n",
            "Epoch: 1/100, log p(x) >= 23.489, ite_tr: 4.169, ate_tr: 0.341, pehe_tr: 8.043, rmse_f_tr: 7.229, rmse_cf_tr: 4.245, ite_te: 3.620, ate_te: 0.108, pehe_te: 6.599, dt: 3.090\n"
          ],
          "name": "stdout"
        },
        {
          "output_type": "stream",
          "text": [
            ""
          ],
          "name": "stderr"
        },
        {
          "output_type": "stream",
          "text": [
            "Improved validation bound, old: -19.328, new: -16.573\n",
            "Epoch: 11/100, log p(x) >= 17.459, ite_tr: 3.089, ate_tr: 0.849, pehe_tr: 5.589, rmse_f_tr: 4.944, rmse_cf_tr: 3.139, ite_te: 3.064, ate_te: 0.610, pehe_te: 5.895, dt: 2.688\n"
          ],
          "name": "stdout"
        },
        {
          "output_type": "stream",
          "text": [
            ""
          ],
          "name": "stderr"
        },
        {
          "output_type": "stream",
          "text": [
            "Improved validation bound, old: -16.573, new: -16.414\n",
            "Epoch: 21/100, log p(x) >= 16.789, ite_tr: 2.884, ate_tr: 0.006, pehe_tr: 5.540, rmse_f_tr: 5.012, rmse_cf_tr: 2.932, ite_te: 2.296, ate_te: 0.394, pehe_te: 4.806, dt: 2.653\n"
          ],
          "name": "stdout"
        },
        {
          "output_type": "stream",
          "text": [
            ""
          ],
          "name": "stderr"
        },
        {
          "output_type": "stream",
          "text": [
            "Improved validation bound, old: -16.414, new: -16.035\n",
            "Epoch: 31/100, log p(x) >= 16.643, ite_tr: 2.629, ate_tr: 0.831, pehe_tr: 5.527, rmse_f_tr: 5.174, rmse_cf_tr: 2.702, ite_te: 2.741, ate_te: 0.323, pehe_te: 4.980, dt: 3.187\n"
          ],
          "name": "stdout"
        },
        {
          "output_type": "stream",
          "text": [
            ""
          ],
          "name": "stderr"
        },
        {
          "output_type": "stream",
          "text": [
            "Epoch: 41/100, log p(x) >= 18.301, ite_tr: 3.168, ate_tr: 0.985, pehe_tr: 5.766, rmse_f_tr: 5.155, rmse_cf_tr: 3.221, ite_te: 2.757, ate_te: 0.245, pehe_te: 5.848, dt: 2.218\n"
          ],
          "name": "stdout"
        },
        {
          "output_type": "stream",
          "text": [
            ""
          ],
          "name": "stderr"
        },
        {
          "output_type": "stream",
          "text": [
            "Epoch: 51/100, log p(x) >= 15.795, ite_tr: 2.975, ate_tr: 0.507, pehe_tr: 5.256, rmse_f_tr: 4.685, rmse_cf_tr: 3.066, ite_te: 2.410, ate_te: 0.873, pehe_te: 4.398, dt: 2.348\n"
          ],
          "name": "stdout"
        },
        {
          "output_type": "stream",
          "text": [
            ""
          ],
          "name": "stderr"
        },
        {
          "output_type": "stream",
          "text": [
            "Epoch: 61/100, log p(x) >= 15.647, ite_tr: 2.850, ate_tr: 0.152, pehe_tr: 5.090, rmse_f_tr: 4.363, rmse_cf_tr: 2.893, ite_te: 2.847, ate_te: 0.219, pehe_te: 4.611, dt: 2.258\n"
          ],
          "name": "stdout"
        },
        {
          "output_type": "stream",
          "text": [
            ""
          ],
          "name": "stderr"
        },
        {
          "output_type": "stream",
          "text": [
            "Epoch: 71/100, log p(x) >= 15.169, ite_tr: 2.986, ate_tr: 0.557, pehe_tr: 4.813, rmse_f_tr: 4.176, rmse_cf_tr: 3.025, ite_te: 1.927, ate_te: 1.423, pehe_te: 4.374, dt: 2.259\n"
          ],
          "name": "stdout"
        },
        {
          "output_type": "stream",
          "text": [
            ""
          ],
          "name": "stderr"
        },
        {
          "output_type": "stream",
          "text": [
            "Epoch: 81/100, log p(x) >= 15.401, ite_tr: 2.877, ate_tr: 0.281, pehe_tr: 4.791, rmse_f_tr: 4.051, rmse_cf_tr: 2.983, ite_te: 2.290, ate_te: 1.139, pehe_te: 4.677, dt: 2.263\n"
          ],
          "name": "stdout"
        },
        {
          "output_type": "stream",
          "text": [
            ""
          ],
          "name": "stderr"
        },
        {
          "output_type": "stream",
          "text": [
            "Epoch: 91/100, log p(x) >= 14.776, ite_tr: 2.682, ate_tr: 0.277, pehe_tr: 4.341, rmse_f_tr: 3.609, rmse_cf_tr: 2.776, ite_te: 3.211, ate_te: 1.050, pehe_te: 5.066, dt: 2.258\n"
          ],
          "name": "stdout"
        },
        {
          "output_type": "stream",
          "text": [
            ""
          ],
          "name": "stderr"
        },
        {
          "output_type": "stream",
          "text": [
            "INFO:tensorflow:Restoring parameters from models/m6-ihdp\n",
            " Sample 100/100\n",
            " Sample 100/100\n",
            "Replication: 10/10, tr_ite: 2.343, tr_ate: 0.969, tr_pehe: 3.746, te_ite: 2.230, te_ate: 0.021, te_pehe: 3.161\n"
          ],
          "name": "stdout"
        }
      ]
    },
    {
      "metadata": {
        "id": "Cp7yWoiha_PB",
        "colab_type": "code",
        "outputId": "4b38f6b4-0bac-43ce-fd33-4eeddb9576fe",
        "colab": {
          "base_uri": "https://localhost:8080/",
          "height": 54
        }
      },
      "cell_type": "code",
      "source": [
        "print 'CEVAE model total scores'\n",
        "means, stds = np.mean(scores, axis=0), sem(scores, axis=0)\n",
        "print 'train ITE: {:.3f}+-{:.3f}, train ATE: {:.3f}+-{:.3f}, train PEHE: {:.3f}+-{:.3f}' \\\n",
        "      ''.format(means[0], stds[0], means[1], stds[1], means[2], stds[2])"
      ],
      "execution_count": 0,
      "outputs": [
        {
          "output_type": "stream",
          "text": [
            "CEVAE model total scores\n",
            "train ITE: 1.947+-0.630, train ATE: 0.396+-0.169, train PEHE: 2.451+-1.324\n"
          ],
          "name": "stdout"
        }
      ]
    },
    {
      "metadata": {
        "id": "OUGKNfuLuS4p",
        "colab_type": "code",
        "outputId": "4cd160ea-197a-4dbe-fa8c-9d3ccd19e66e",
        "colab": {
          "base_uri": "https://localhost:8080/",
          "height": 35
        }
      },
      "cell_type": "code",
      "source": [
        "means, stds = np.mean(scores_test, axis=0), sem(scores_test, axis=0)\n",
        "print 'test ITE: {:.3f}+-{:.3f}, test ATE: {:.3f}+-{:.3f}, test PEHE: {:.3f}+-{:.3f}' \\\n",
        "      ''.format(means[0], stds[0], means[1], stds[1], means[2], stds[2])"
      ],
      "execution_count": 0,
      "outputs": [
        {
          "output_type": "stream",
          "text": [
            "test ITE: 1.549+-0.346, test ATE: 0.329+-0.184, test PEHE: 2.040+-0.976\n"
          ],
          "name": "stdout"
        }
      ]
    },
    {
      "metadata": {
        "id": "Z1j8D5dMuZDw",
        "colab_type": "code",
        "colab": {}
      },
      "cell_type": "code",
      "source": [
        ""
      ],
      "execution_count": 0,
      "outputs": []
    },
    {
      "metadata": {
        "id": "inqk2c-nu48G",
        "colab_type": "code",
        "colab": {}
      },
      "cell_type": "code",
      "source": [
        ""
      ],
      "execution_count": 0,
      "outputs": []
    },
    {
      "metadata": {
        "id": "NzZMy0Qfu4_H",
        "colab_type": "code",
        "colab": {}
      },
      "cell_type": "code",
      "source": [
        ""
      ],
      "execution_count": 0,
      "outputs": []
    },
    {
      "metadata": {
        "id": "3JmsZVZku5B-",
        "colab_type": "code",
        "outputId": "11dd45de-beef-4321-a9c5-519f37dbd075",
        "colab": {
          "base_uri": "https://localhost:8080/",
          "height": 35
        }
      },
      "cell_type": "code",
      "source": [
        "print(\"test\")"
      ],
      "execution_count": 0,
      "outputs": [
        {
          "output_type": "stream",
          "text": [
            "test\n"
          ],
          "name": "stdout"
        }
      ]
    },
    {
      "metadata": {
        "id": "HkDeiGAQZ07N",
        "colab_type": "code",
        "colab": {
          "base_uri": "https://localhost:8080/",
          "height": 35
        },
        "outputId": "f615d3eb-ee94-4e65-99ea-71695fb90b83"
      },
      "cell_type": "code",
      "source": [
        "print(\"test after connecting to github\")"
      ],
      "execution_count": 2,
      "outputs": [
        {
          "output_type": "stream",
          "text": [
            "test after connecting to github\n"
          ],
          "name": "stdout"
        }
      ]
    },
    {
      "metadata": {
        "id": "JbZSSCP8u5ET",
        "colab_type": "code",
        "outputId": "008064b2-88ff-4a30-8126-680a8aca973a",
        "colab": {
          "base_uri": "https://localhost:8080/",
          "height": 35
        }
      },
      "cell_type": "code",
      "source": [
        "\"\"\" reference: https://arxiv.org/pdf/1705.08821.pdf \n",
        "    github: https://github.com/AMLab-Amsterdam/CEVAE \n",
        "\"\"\""
      ],
      "execution_count": 0,
      "outputs": [
        {
          "output_type": "execute_result",
          "data": {
            "text/plain": [
              "' reference: https://arxiv.org/pdf/1705.08821.pdf \\n    github: https://github.com/AMLab-Amsterdam/CEVAE \\n'"
            ]
          },
          "metadata": {
            "tags": []
          },
          "execution_count": 21
        }
      ]
    }
  ]
}